{
 "cells": [
  {
   "cell_type": "code",
   "execution_count": 1,
   "id": "d15afe27",
   "metadata": {},
   "outputs": [
    {
     "data": {
      "text/html": [
       "\n",
       "                <script type=\"application/javascript\" id=\"jupyter_black\">\n",
       "                (function() {\n",
       "                    if (window.IPython === undefined) {\n",
       "                        return\n",
       "                    }\n",
       "                    var msg = \"WARNING: it looks like you might have loaded \" +\n",
       "                        \"jupyter_black in a non-lab notebook with \" +\n",
       "                        \"`is_lab=True`. Please double check, and if \" +\n",
       "                        \"loading with `%load_ext` please review the README!\"\n",
       "                    console.log(msg)\n",
       "                    alert(msg)\n",
       "                })()\n",
       "                </script>\n",
       "                "
      ],
      "text/plain": [
       "<IPython.core.display.HTML object>"
      ]
     },
     "metadata": {},
     "output_type": "display_data"
    }
   ],
   "source": [
    "%load_ext autoreload\n",
    "%autoreload 2\n",
    "%load_ext jupyter_black"
   ]
  },
  {
   "cell_type": "code",
   "execution_count": 2,
   "id": "57fe887b-d30f-4c00-acef-3c7a4902ba50",
   "metadata": {},
   "outputs": [],
   "source": [
    "from evallm.utils.bootstrap import boostrap_mean\n",
    "\n",
    "from evallm.experiments.evaluate_tokenization_regexp_non_icl import *\n",
    "import re\n",
    "import pandas as pd\n",
    "\n",
    "from evallm.experiments.models_display import model_by_display_key"
   ]
  },
  {
   "cell_type": "code",
   "execution_count": 3,
   "id": "ae70096f-310b-495b-bf84-7a12a0174c97",
   "metadata": {},
   "outputs": [],
   "source": [
    "# from permacache import sync_all_caches\n",
    "\n",
    "# sync_all_caches()"
   ]
  },
  {
   "cell_type": "code",
   "execution_count": 4,
   "id": "d5ef86c0-1ffb-4945-b33a-218aee8fc0fe",
   "metadata": {},
   "outputs": [],
   "source": [
    "def for_models(*model_keys, amount=100):\n",
    "    return {\n",
    "        model_key: evaluate_model_regexp_matching_multiple(\n",
    "            model_by_display_key[model_key], amount\n",
    "        )\n",
    "        for model_key in model_keys\n",
    "    }"
   ]
  },
  {
   "cell_type": "code",
   "execution_count": 5,
   "id": "56bedec9-97da-4a4e-8ea7-c760575b5e5e",
   "metadata": {},
   "outputs": [],
   "source": [
    "all_model_results = {\n",
    "    **for_models(\n",
    "        \"gpt-4o\",\n",
    "        \"gpt-4o-mini\",\n",
    "        \"claude-3.5\",\n",
    "        \"o3-mini\",\n",
    "        \"gpt-3.5-chat\",\n",
    "        \"gpt-3.5-instruct\",\n",
    "        \"qwen-2.5-coder-7B\",\n",
    "        \"mistral-nemo-minitron-8B\",\n",
    "        # amount=,\n",
    "    ),\n",
    "    # **for_models(\"mistral-nemo-minitron-8B\", amount=10),\n",
    "}"
   ]
  },
  {
   "cell_type": "code",
   "execution_count": 6,
   "id": "f0f22ab7-40ea-4aed-85aa-c222144f5af9",
   "metadata": {},
   "outputs": [
    {
     "name": "stdout",
     "output_type": "stream",
     "text": [
      "Percent positive: 53%\n",
      "Percent correct : 100%\n"
     ]
    }
   ],
   "source": [
    "summary(*all_model_results[\"gpt-4o\"])"
   ]
  },
  {
   "cell_type": "code",
   "execution_count": 7,
   "id": "24be90ab-de79-491f-9113-79549a0cc2ab",
   "metadata": {},
   "outputs": [],
   "source": [
    "all_model_accs = {k: (p == t).mean() for k, (p, t) in all_model_results.items()}"
   ]
  },
  {
   "cell_type": "code",
   "execution_count": 8,
   "id": "f371a8e9-520f-4f6e-a76b-5c622c1f8468",
   "metadata": {},
   "outputs": [
    {
     "data": {
      "text/html": [
       "<div>\n",
       "<style scoped>\n",
       "    .dataframe tbody tr th:only-of-type {\n",
       "        vertical-align: middle;\n",
       "    }\n",
       "\n",
       "    .dataframe tbody tr th {\n",
       "        vertical-align: top;\n",
       "    }\n",
       "\n",
       "    .dataframe thead th {\n",
       "        text-align: right;\n",
       "    }\n",
       "</style>\n",
       "<table border=\"1\" class=\"dataframe\">\n",
       "  <thead>\n",
       "    <tr style=\"text-align: right;\">\n",
       "      <th></th>\n",
       "      <th>acc</th>\n",
       "    </tr>\n",
       "  </thead>\n",
       "  <tbody>\n",
       "    <tr>\n",
       "      <th>gpt-3.5-instruct</th>\n",
       "      <td>0.67</td>\n",
       "    </tr>\n",
       "    <tr>\n",
       "      <th>mistral-nemo-minitron-8B</th>\n",
       "      <td>0.69</td>\n",
       "    </tr>\n",
       "    <tr>\n",
       "      <th>gpt-3.5-chat</th>\n",
       "      <td>0.82</td>\n",
       "    </tr>\n",
       "    <tr>\n",
       "      <th>qwen-2.5-coder-7B</th>\n",
       "      <td>0.91</td>\n",
       "    </tr>\n",
       "    <tr>\n",
       "      <th>o3-mini</th>\n",
       "      <td>1.00</td>\n",
       "    </tr>\n",
       "    <tr>\n",
       "      <th>claude-3.5</th>\n",
       "      <td>1.00</td>\n",
       "    </tr>\n",
       "    <tr>\n",
       "      <th>gpt-4o-mini</th>\n",
       "      <td>1.00</td>\n",
       "    </tr>\n",
       "    <tr>\n",
       "      <th>gpt-4o</th>\n",
       "      <td>1.00</td>\n",
       "    </tr>\n",
       "  </tbody>\n",
       "</table>\n",
       "</div>"
      ],
      "text/plain": [
       "                           acc\n",
       "gpt-3.5-instruct          0.67\n",
       "mistral-nemo-minitron-8B  0.69\n",
       "gpt-3.5-chat              0.82\n",
       "qwen-2.5-coder-7B         0.91\n",
       "o3-mini                   1.00\n",
       "claude-3.5                1.00\n",
       "gpt-4o-mini               1.00\n",
       "gpt-4o                    1.00"
      ]
     },
     "execution_count": 8,
     "metadata": {},
     "output_type": "execute_result"
    }
   ],
   "source": [
    "all_model_accs_keys = list(all_model_accs)\n",
    "all_model_accs_values = [all_model_accs[k] for k in all_model_accs_keys]\n",
    "pd.DataFrame(\n",
    "    all_model_accs_values, index=all_model_accs_keys, columns=[\"acc\"]\n",
    ").sort_values(\"acc\")"
   ]
  },
  {
   "cell_type": "code",
   "execution_count": 9,
   "id": "f0d438c4-5c49-4b4e-b50c-d86ef17d4c4d",
   "metadata": {},
   "outputs": [
    {
     "data": {
      "text/plain": [
       "['codestral-22B',\n",
       " 'deepseek-coder-33b-instruct',\n",
       " 'falcon-7b',\n",
       " 'gemma-7b',\n",
       " 'llama3-70B',\n",
       " 'llama3-8B',\n",
       " 'llama3.1-70B',\n",
       " 'llama3.1-8B',\n",
       " 'llama3.1-8B-Instruct',\n",
       " 'mistral-nemo-base-12B',\n",
       " 'mistral-nemo-instruct-12B',\n",
       " 'qwen-2.5-32B',\n",
       " 'qwen-2.5-7B',\n",
       " 'qwen-2.5-coder-instruct-32B',\n",
       " 'qwen-2.5-coder-instruct-7B',\n",
       " 'starcoder2-15b']"
      ]
     },
     "execution_count": 9,
     "metadata": {},
     "output_type": "execute_result"
    }
   ],
   "source": [
    "sorted(set(model_by_display_key) - set(all_model_results))"
   ]
  },
  {
   "cell_type": "code",
   "execution_count": null,
   "id": "5e442d77-dcd0-4149-b11e-43d43fe5640c",
   "metadata": {},
   "outputs": [],
   "source": []
  }
 ],
 "metadata": {
  "kernelspec": {
   "display_name": "Python 3 (ipykernel)",
   "language": "python",
   "name": "python3"
  },
  "language_info": {
   "codemirror_mode": {
    "name": "ipython",
    "version": 3
   },
   "file_extension": ".py",
   "mimetype": "text/x-python",
   "name": "python",
   "nbconvert_exporter": "python",
   "pygments_lexer": "ipython3",
   "version": "3.11.9"
  }
 },
 "nbformat": 4,
 "nbformat_minor": 5
}
