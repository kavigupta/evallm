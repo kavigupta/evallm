{
 "cells": [
  {
   "cell_type": "code",
   "execution_count": 1,
   "id": "d15afe27",
   "metadata": {},
   "outputs": [
    {
     "data": {
      "text/html": [
       "\n",
       "                <script type=\"application/javascript\" id=\"jupyter_black\">\n",
       "                (function() {\n",
       "                    if (window.IPython === undefined) {\n",
       "                        return\n",
       "                    }\n",
       "                    var msg = \"WARNING: it looks like you might have loaded \" +\n",
       "                        \"jupyter_black in a non-lab notebook with \" +\n",
       "                        \"`is_lab=True`. Please double check, and if \" +\n",
       "                        \"loading with `%load_ext` please review the README!\"\n",
       "                    console.log(msg)\n",
       "                    alert(msg)\n",
       "                })()\n",
       "                </script>\n",
       "                "
      ],
      "text/plain": [
       "<IPython.core.display.HTML object>"
      ]
     },
     "metadata": {},
     "output_type": "display_data"
    }
   ],
   "source": [
    "%load_ext autoreload\n",
    "%autoreload 2\n",
    "%load_ext jupyter_black"
   ]
  },
  {
   "cell_type": "code",
   "execution_count": 2,
   "id": "57fe887b-d30f-4c00-acef-3c7a4902ba50",
   "metadata": {},
   "outputs": [],
   "source": [
    "from evallm.utils.bootstrap import boostrap_mean\n",
    "\n",
    "from evallm.experiments.evaluate_tokenization_regexp_non_icl import *\n",
    "import re\n",
    "import pandas as pd\n",
    "\n",
    "from evallm.experiments.models_display import model_by_display_key\n",
    "from evallm.experiments.main_tables import models_considered"
   ]
  },
  {
   "cell_type": "code",
   "execution_count": 3,
   "id": "d5ef86c0-1ffb-4945-b33a-218aee8fc0fe",
   "metadata": {},
   "outputs": [],
   "source": [
    "def for_models(*model_keys, amount=100):\n",
    "    return"
   ]
  },
  {
   "cell_type": "code",
   "execution_count": 4,
   "id": "56bedec9-97da-4a4e-8ea7-c760575b5e5e",
   "metadata": {
    "scrolled": true
   },
   "outputs": [],
   "source": [
    "all_model_results = {\n",
    "    model_key: evaluate_model_regexp_matching_multiple(\n",
    "        model_by_display_key[model_key], count=100\n",
    "    )\n",
    "    for model_key in model_by_display_key\n",
    "}"
   ]
  },
  {
   "cell_type": "code",
   "execution_count": 5,
   "id": "f0f22ab7-40ea-4aed-85aa-c222144f5af9",
   "metadata": {},
   "outputs": [
    {
     "name": "stdout",
     "output_type": "stream",
     "text": [
      "Percent positive: 53%\n",
      "Percent correct : 100%\n"
     ]
    }
   ],
   "source": [
    "summary(*all_model_results[\"gpt-4o\"])"
   ]
  },
  {
   "cell_type": "code",
   "execution_count": 6,
   "id": "24be90ab-de79-491f-9113-79549a0cc2ab",
   "metadata": {},
   "outputs": [],
   "source": [
    "all_model_nr = {k: (p == -1).mean() for k, (p, t) in all_model_results.items()}\n",
    "all_model_accs = {\n",
    "    k: (p == t).mean() / (p != -1).mean() if (p != -1).any() else 0\n",
    "    for k, (p, t) in all_model_results.items()\n",
    "}"
   ]
  },
  {
   "cell_type": "code",
   "execution_count": 7,
   "id": "f371a8e9-520f-4f6e-a76b-5c622c1f8468",
   "metadata": {},
   "outputs": [
    {
     "data": {
      "text/html": [
       "<div>\n",
       "<style scoped>\n",
       "    .dataframe tbody tr th:only-of-type {\n",
       "        vertical-align: middle;\n",
       "    }\n",
       "\n",
       "    .dataframe tbody tr th {\n",
       "        vertical-align: top;\n",
       "    }\n",
       "\n",
       "    .dataframe thead th {\n",
       "        text-align: right;\n",
       "    }\n",
       "</style>\n",
       "<table border=\"1\" class=\"dataframe\">\n",
       "  <thead>\n",
       "    <tr style=\"text-align: right;\">\n",
       "      <th></th>\n",
       "      <th>acc</th>\n",
       "      <th>non_response</th>\n",
       "    </tr>\n",
       "  </thead>\n",
       "  <tbody>\n",
       "    <tr>\n",
       "      <th>llama3-8B</th>\n",
       "      <td>0.660000</td>\n",
       "      <td>0.00</td>\n",
       "    </tr>\n",
       "    <tr>\n",
       "      <th>llama3-70B</th>\n",
       "      <td>0.797297</td>\n",
       "      <td>0.26</td>\n",
       "    </tr>\n",
       "    <tr>\n",
       "      <th>llama3.1-8B-Instruct</th>\n",
       "      <td>0.830000</td>\n",
       "      <td>0.00</td>\n",
       "    </tr>\n",
       "    <tr>\n",
       "      <th>llama3.1-8B</th>\n",
       "      <td>0.890000</td>\n",
       "      <td>0.00</td>\n",
       "    </tr>\n",
       "    <tr>\n",
       "      <th>llama3.1-70B</th>\n",
       "      <td>0.859375</td>\n",
       "      <td>0.36</td>\n",
       "    </tr>\n",
       "    <tr>\n",
       "      <th>qwen-2.5-7B</th>\n",
       "      <td>0.620000</td>\n",
       "      <td>0.00</td>\n",
       "    </tr>\n",
       "    <tr>\n",
       "      <th>qwen-2.5-32B</th>\n",
       "      <td>1.000000</td>\n",
       "      <td>0.00</td>\n",
       "    </tr>\n",
       "    <tr>\n",
       "      <th>mistral-nemo-minitron-8B</th>\n",
       "      <td>0.000000</td>\n",
       "      <td>1.00</td>\n",
       "    </tr>\n",
       "    <tr>\n",
       "      <th>mistral-nemo-base-12B</th>\n",
       "      <td>1.000000</td>\n",
       "      <td>0.99</td>\n",
       "    </tr>\n",
       "    <tr>\n",
       "      <th>mistral-nemo-instruct-12B</th>\n",
       "      <td>0.990000</td>\n",
       "      <td>0.00</td>\n",
       "    </tr>\n",
       "    <tr>\n",
       "      <th>gemma-7b</th>\n",
       "      <td>0.670588</td>\n",
       "      <td>0.15</td>\n",
       "    </tr>\n",
       "    <tr>\n",
       "      <th>falcon-7b</th>\n",
       "      <td>0.000000</td>\n",
       "      <td>1.00</td>\n",
       "    </tr>\n",
       "    <tr>\n",
       "      <th>starcoder2-15b</th>\n",
       "      <td>0.620000</td>\n",
       "      <td>0.00</td>\n",
       "    </tr>\n",
       "    <tr>\n",
       "      <th>codestral-22B</th>\n",
       "      <td>0.950000</td>\n",
       "      <td>0.00</td>\n",
       "    </tr>\n",
       "    <tr>\n",
       "      <th>deepseek-coder-33b-instruct</th>\n",
       "      <td>0.000000</td>\n",
       "      <td>1.00</td>\n",
       "    </tr>\n",
       "    <tr>\n",
       "      <th>qwen-2.5-coder-7B</th>\n",
       "      <td>1.000000</td>\n",
       "      <td>0.00</td>\n",
       "    </tr>\n",
       "    <tr>\n",
       "      <th>qwen-2.5-coder-instruct-7B</th>\n",
       "      <td>0.560000</td>\n",
       "      <td>0.00</td>\n",
       "    </tr>\n",
       "    <tr>\n",
       "      <th>qwen-2.5-coder-instruct-32B</th>\n",
       "      <td>0.960000</td>\n",
       "      <td>0.00</td>\n",
       "    </tr>\n",
       "    <tr>\n",
       "      <th>gpt-3.5-instruct</th>\n",
       "      <td>0.670000</td>\n",
       "      <td>0.00</td>\n",
       "    </tr>\n",
       "    <tr>\n",
       "      <th>gpt-3.5-chat</th>\n",
       "      <td>0.820000</td>\n",
       "      <td>0.00</td>\n",
       "    </tr>\n",
       "    <tr>\n",
       "      <th>gpt-4o-mini</th>\n",
       "      <td>1.000000</td>\n",
       "      <td>0.00</td>\n",
       "    </tr>\n",
       "    <tr>\n",
       "      <th>gpt-4o</th>\n",
       "      <td>1.000000</td>\n",
       "      <td>0.00</td>\n",
       "    </tr>\n",
       "    <tr>\n",
       "      <th>claude-3.5</th>\n",
       "      <td>1.000000</td>\n",
       "      <td>0.00</td>\n",
       "    </tr>\n",
       "    <tr>\n",
       "      <th>o3-mini</th>\n",
       "      <td>1.000000</td>\n",
       "      <td>0.00</td>\n",
       "    </tr>\n",
       "  </tbody>\n",
       "</table>\n",
       "</div>"
      ],
      "text/plain": [
       "                                  acc  non_response\n",
       "llama3-8B                    0.660000          0.00\n",
       "llama3-70B                   0.797297          0.26\n",
       "llama3.1-8B-Instruct         0.830000          0.00\n",
       "llama3.1-8B                  0.890000          0.00\n",
       "llama3.1-70B                 0.859375          0.36\n",
       "qwen-2.5-7B                  0.620000          0.00\n",
       "qwen-2.5-32B                 1.000000          0.00\n",
       "mistral-nemo-minitron-8B     0.000000          1.00\n",
       "mistral-nemo-base-12B        1.000000          0.99\n",
       "mistral-nemo-instruct-12B    0.990000          0.00\n",
       "gemma-7b                     0.670588          0.15\n",
       "falcon-7b                    0.000000          1.00\n",
       "starcoder2-15b               0.620000          0.00\n",
       "codestral-22B                0.950000          0.00\n",
       "deepseek-coder-33b-instruct  0.000000          1.00\n",
       "qwen-2.5-coder-7B            1.000000          0.00\n",
       "qwen-2.5-coder-instruct-7B   0.560000          0.00\n",
       "qwen-2.5-coder-instruct-32B  0.960000          0.00\n",
       "gpt-3.5-instruct             0.670000          0.00\n",
       "gpt-3.5-chat                 0.820000          0.00\n",
       "gpt-4o-mini                  1.000000          0.00\n",
       "gpt-4o                       1.000000          0.00\n",
       "claude-3.5                   1.000000          0.00\n",
       "o3-mini                      1.000000          0.00"
      ]
     },
     "execution_count": 7,
     "metadata": {},
     "output_type": "execute_result"
    }
   ],
   "source": [
    "all_model_accs_keys = list(all_model_accs)\n",
    "all_model_accs_values = [\n",
    "    dict(acc=all_model_accs[k], non_response=all_model_nr[k])\n",
    "    for k in all_model_accs_keys\n",
    "]\n",
    "table = pd.DataFrame(all_model_accs_values, index=all_model_accs_keys)\n",
    "table = table.loc[sorted(table.index, key=models_considered.index)]\n",
    "table"
   ]
  },
  {
   "cell_type": "code",
   "execution_count": 8,
   "id": "900ae33b-f76a-4e37-bbbe-f14e7e6a83a5",
   "metadata": {},
   "outputs": [
    {
     "data": {
      "text/html": [
       "<div>\n",
       "<style scoped>\n",
       "    .dataframe tbody tr th:only-of-type {\n",
       "        vertical-align: middle;\n",
       "    }\n",
       "\n",
       "    .dataframe tbody tr th {\n",
       "        vertical-align: top;\n",
       "    }\n",
       "\n",
       "    .dataframe thead th {\n",
       "        text-align: right;\n",
       "    }\n",
       "</style>\n",
       "<table border=\"1\" class=\"dataframe\">\n",
       "  <thead>\n",
       "    <tr style=\"text-align: right;\">\n",
       "      <th></th>\n",
       "      <th>acc</th>\n",
       "      <th>non_response</th>\n",
       "    </tr>\n",
       "  </thead>\n",
       "  <tbody>\n",
       "    <tr>\n",
       "      <th>mistral-nemo-minitron-8B</th>\n",
       "      <td>0.0</td>\n",
       "      <td>1.00</td>\n",
       "    </tr>\n",
       "    <tr>\n",
       "      <th>mistral-nemo-base-12B</th>\n",
       "      <td>1.0</td>\n",
       "      <td>0.99</td>\n",
       "    </tr>\n",
       "    <tr>\n",
       "      <th>falcon-7b</th>\n",
       "      <td>0.0</td>\n",
       "      <td>1.00</td>\n",
       "    </tr>\n",
       "    <tr>\n",
       "      <th>deepseek-coder-33b-instruct</th>\n",
       "      <td>0.0</td>\n",
       "      <td>1.00</td>\n",
       "    </tr>\n",
       "  </tbody>\n",
       "</table>\n",
       "</div>"
      ],
      "text/plain": [
       "                             acc  non_response\n",
       "mistral-nemo-minitron-8B     0.0          1.00\n",
       "mistral-nemo-base-12B        1.0          0.99\n",
       "falcon-7b                    0.0          1.00\n",
       "deepseek-coder-33b-instruct  0.0          1.00"
      ]
     },
     "execution_count": 8,
     "metadata": {},
     "output_type": "execute_result"
    }
   ],
   "source": [
    "non_response_threshold = 0.98\n",
    "table[table.non_response > non_response_threshold]"
   ]
  },
  {
   "cell_type": "code",
   "execution_count": 9,
   "id": "14950e48-9b1d-4e35-9c53-88319aa89798",
   "metadata": {},
   "outputs": [
    {
     "name": "stdout",
     "output_type": "stream",
     "text": [
      "llama3-8B                       66%\n",
      "llama3-70B                      80% [Non-response: 26%]\n",
      "llama3.1-8B-Instruct            83%\n",
      "llama3.1-8B                     89%\n",
      "llama3.1-70B                    86% [Non-response: 36%]\n",
      "qwen-2.5-7B                     62%\n",
      "qwen-2.5-32B                   100%\n",
      "mistral-nemo-instruct-12B       99%\n",
      "gemma-7b                        67% [Non-response: 15%]\n",
      "starcoder2-15b                  62%\n",
      "codestral-22B                   95%\n",
      "qwen-2.5-coder-7B              100%\n",
      "qwen-2.5-coder-instruct-7B      56%\n",
      "qwen-2.5-coder-instruct-32B     96%\n",
      "gpt-3.5-instruct                67%\n",
      "gpt-3.5-chat                    82%\n",
      "gpt-4o-mini                    100%\n",
      "gpt-4o                         100%\n",
      "claude-3.5                     100%\n",
      "o3-mini                        100%\n"
     ]
    }
   ],
   "source": [
    "for k in table[table.non_response < non_response_threshold].index:\n",
    "    render = f\"{k:30s} {table.acc[k]:4.0%}\"\n",
    "    if table.non_response[k] > 0:\n",
    "        render += f\" [Non-response: {table.non_response[k]:.0%}]\"\n",
    "    print(render)"
   ]
  }
 ],
 "metadata": {
  "kernelspec": {
   "display_name": "Python 3 (ipykernel)",
   "language": "python",
   "name": "python3"
  },
  "language_info": {
   "codemirror_mode": {
    "name": "ipython",
    "version": 3
   },
   "file_extension": ".py",
   "mimetype": "text/x-python",
   "name": "python",
   "nbconvert_exporter": "python",
   "pygments_lexer": "ipython3",
   "version": "3.11.9"
  }
 },
 "nbformat": 4,
 "nbformat_minor": 5
}
