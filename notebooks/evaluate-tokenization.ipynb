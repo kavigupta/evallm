{
 "cells": [
  {
   "cell_type": "code",
   "execution_count": 1,
   "id": "d15afe27",
   "metadata": {},
   "outputs": [
    {
     "data": {
      "text/html": [
       "\n",
       "                <script type=\"application/javascript\" id=\"jupyter_black\">\n",
       "                (function() {\n",
       "                    if (window.IPython === undefined) {\n",
       "                        return\n",
       "                    }\n",
       "                    var msg = \"WARNING: it looks like you might have loaded \" +\n",
       "                        \"jupyter_black in a non-lab notebook with \" +\n",
       "                        \"`is_lab=True`. Please double check, and if \" +\n",
       "                        \"loading with `%load_ext` please review the README!\"\n",
       "                    console.log(msg)\n",
       "                    alert(msg)\n",
       "                })()\n",
       "                </script>\n",
       "                "
      ],
      "text/plain": [
       "<IPython.core.display.HTML object>"
      ]
     },
     "metadata": {},
     "output_type": "display_data"
    }
   ],
   "source": [
    "%load_ext autoreload\n",
    "%autoreload 2\n",
    "%load_ext jupyter_black"
   ]
  },
  {
   "cell_type": "code",
   "execution_count": 2,
   "id": "57fe887b-d30f-4c00-acef-3c7a4902ba50",
   "metadata": {},
   "outputs": [],
   "source": [
    "from evallm.utils.bootstrap import boostrap_mean\n",
    "\n",
    "from evallm.experiments.evaluate_tokenization import (\n",
    "    compute_counting_ability_many,\n",
    "    compute_random_baseline_counting_ability,\n",
    ")"
   ]
  },
  {
   "cell_type": "code",
   "execution_count": 3,
   "id": "596ce3c8-db0d-4e24-a63c-0ef1a4e02d22",
   "metadata": {},
   "outputs": [],
   "source": [
    "results_by_split = {\n",
    "    f\"Joined by {repr(k)}\": compute_counting_ability_many(\n",
    "        50, k, \"gpt-4o-mini-2024-07-18\"\n",
    "    )\n",
    "    for k in (\"\", \" \", \", \")\n",
    "}\n",
    "results_by_split[\"Random\"] = compute_random_baseline_counting_ability(100)"
   ]
  },
  {
   "cell_type": "code",
   "execution_count": 4,
   "id": "98b618d1-574f-4cda-8029-0897412d5b4c",
   "metadata": {},
   "outputs": [
    {
     "name": "stdout",
     "output_type": "stream",
     "text": [
      "Joined by ''  : 38.80% [35.73%-41.87%]\n",
      "Joined by ' ' : 35.47% [32.80%-38.00%]\n",
      "Joined by ', ': 39.27% [36.40%-42.13%]\n",
      "Random        : 18.97% [17.43%-20.47%]\n"
     ]
    }
   ],
   "source": [
    "for k, v in results_by_split.items():\n",
    "    result = f\"{v.mean():.2%} [{boostrap_mean(v)[0]:.2%}-{boostrap_mean(v)[1]:.2%}]\"\n",
    "    print(f\"{k:14s}: {result}\")"
   ]
  },
  {
   "cell_type": "code",
   "execution_count": null,
   "id": "24be90ab-de79-491f-9113-79549a0cc2ab",
   "metadata": {},
   "outputs": [],
   "source": []
  }
 ],
 "metadata": {
  "kernelspec": {
   "display_name": "Python 3 (ipykernel)",
   "language": "python",
   "name": "python3"
  },
  "language_info": {
   "codemirror_mode": {
    "name": "ipython",
    "version": 3
   },
   "file_extension": ".py",
   "mimetype": "text/x-python",
   "name": "python",
   "nbconvert_exporter": "python",
   "pygments_lexer": "ipython3",
   "version": "3.11.9"
  }
 },
 "nbformat": 4,
 "nbformat_minor": 5
}
