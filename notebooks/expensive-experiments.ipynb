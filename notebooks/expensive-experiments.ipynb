{
 "cells": [
  {
   "cell_type": "code",
   "execution_count": 1,
   "id": "d15afe27",
   "metadata": {},
   "outputs": [],
   "source": [
    "%load_ext autoreload\n",
    "%autoreload 2\n",
    "%load_ext jupyter_black"
   ]
  },
  {
   "cell_type": "code",
   "execution_count": 2,
   "id": "57fe887b-d30f-4c00-acef-3c7a4902ba50",
   "metadata": {},
   "outputs": [],
   "source": [
    "import numpy as np\n",
    "import pandas as pd\n",
    "\n",
    "from evallm.experiments.transducer_summary import sample_dfa_spec, prompt_by_key_default\n",
    "from evallm.experiments.transducer_experiment import run_transducer_experiment"
   ]
  },
  {
   "cell_type": "code",
   "execution_count": 3,
   "id": "eddf8178-b113-4fcf-9f1a-0aaa338ffb92",
   "metadata": {},
   "outputs": [],
   "source": [
    "num_dfas = 10"
   ]
  },
  {
   "cell_type": "code",
   "execution_count": 4,
   "id": "8be0b98f-a558-4eb0-b94d-5316b8d06b44",
   "metadata": {},
   "outputs": [],
   "source": [
    "def small_experiment(model_name, num_dfas=num_dfas):\n",
    "    return run_transducer_experiment(\n",
    "        model=model_name,\n",
    "        num_repeats_per_dfa=30,\n",
    "        sample_dfa_spec=sample_dfa_spec,\n",
    "        prompter=prompt_by_key_default[\"Basic\"][\"chat\"],\n",
    "        num_dfas=num_dfas,\n",
    "    )"
   ]
  },
  {
   "cell_type": "code",
   "execution_count": 5,
   "id": "5271ea3e-9f64-4465-aff2-a21cdd711546",
   "metadata": {},
   "outputs": [],
   "source": [
    "res_4os = small_experiment(\"gpt-4o-2024-05-13\")"
   ]
  },
  {
   "cell_type": "code",
   "execution_count": 6,
   "id": "85515e87-aff6-42ac-a535-81f6a0c1492b",
   "metadata": {
    "scrolled": true
   },
   "outputs": [],
   "source": [
    "res_o1s = small_experiment(\"o1-preview-2024-09-12\")"
   ]
  },
  {
   "cell_type": "code",
   "execution_count": 7,
   "id": "da375592-29f6-41ce-af6a-3baf81eac771",
   "metadata": {},
   "outputs": [],
   "source": [
    "res_o3s = small_experiment(\"o3-mini-2025-01-31\")"
   ]
  },
  {
   "cell_type": "code",
   "execution_count": 8,
   "id": "af26b393-115f-425b-8aaa-30577626e61e",
   "metadata": {},
   "outputs": [],
   "source": [
    "res_5 = small_experiment(\"gpt-5-2025-08-07\")"
   ]
  },
  {
   "cell_type": "code",
   "execution_count": 9,
   "id": "63c537fc-af2e-41b8-ba1b-193c956fd0fc",
   "metadata": {},
   "outputs": [],
   "source": [
    "def compute_frac(x):\n",
    "    numer = (np.array(x.success_rate_each) == 1).sum()\n",
    "    denom = (np.array(x.success_rate_each) != 0.5).sum()\n",
    "    return numer, denom\n",
    "\n",
    "\n",
    "def render_frac(x):\n",
    "    numer, denom = compute_frac(x)\n",
    "    return f\"{numer:.0f}/{denom:.0f}\"\n",
    "\n",
    "\n",
    "def create_column_for_model(results):\n",
    "    fractions = [compute_frac(x) for x in results]\n",
    "    return create_column_for_fractions(fractions)\n",
    "\n",
    "\n",
    "def create_column_for_fractions(fractions):\n",
    "    labels = [f\"Seed {i}\" for i in range(len(fractions))]\n",
    "    fractions += [tuple(sum(rs) for rs in zip(*fractions))]\n",
    "    labels += [\"Overall\"]\n",
    "    return dict(zip(labels, [f\"{n:.0f}/{d:.0f}\" for n, d in fractions]))"
   ]
  },
  {
   "cell_type": "code",
   "execution_count": 10,
   "id": "a75c222d-135d-40ac-b80b-05fdd0eb0c9c",
   "metadata": {},
   "outputs": [],
   "source": [
    "table = pd.DataFrame(\n",
    "    {\n",
    "        \"o1-preview\": create_column_for_model(res_o1s),\n",
    "        \"o3-mini\": create_column_for_model(res_o3s),\n",
    "        \"gpt-4o\": create_column_for_model(res_4os),\n",
    "        \"gpt-5\": create_column_for_model(res_5),\n",
    "        r\"6-\\textsc{Gram}\": create_column_for_fractions(\n",
    "            [(x.kgram_success_rates_each[6 - 2] * 30, 30) for x in res_4os]\n",
    "        ),\n",
    "    }\n",
    ")"
   ]
  },
  {
   "cell_type": "code",
   "execution_count": 11,
   "id": "e28ca9c0-eccc-4656-99c4-490d0d97b5c5",
   "metadata": {},
   "outputs": [
    {
     "data": {
      "text/html": [
       "<div>\n",
       "<style scoped>\n",
       "    .dataframe tbody tr th:only-of-type {\n",
       "        vertical-align: middle;\n",
       "    }\n",
       "\n",
       "    .dataframe tbody tr th {\n",
       "        vertical-align: top;\n",
       "    }\n",
       "\n",
       "    .dataframe thead th {\n",
       "        text-align: right;\n",
       "    }\n",
       "</style>\n",
       "<table border=\"1\" class=\"dataframe\">\n",
       "  <thead>\n",
       "    <tr style=\"text-align: right;\">\n",
       "      <th></th>\n",
       "      <th>o1-preview</th>\n",
       "      <th>o3-mini</th>\n",
       "      <th>gpt-4o</th>\n",
       "      <th>gpt-5</th>\n",
       "      <th>6-\\textsc{Gram}</th>\n",
       "    </tr>\n",
       "  </thead>\n",
       "  <tbody>\n",
       "    <tr>\n",
       "      <th>Seed 0</th>\n",
       "      <td>25/30</td>\n",
       "      <td>24/30</td>\n",
       "      <td>27/30</td>\n",
       "      <td>28/30</td>\n",
       "      <td>26/30</td>\n",
       "    </tr>\n",
       "    <tr>\n",
       "      <th>Seed 1</th>\n",
       "      <td>23/29</td>\n",
       "      <td>21/30</td>\n",
       "      <td>24/30</td>\n",
       "      <td>20/30</td>\n",
       "      <td>25/30</td>\n",
       "    </tr>\n",
       "    <tr>\n",
       "      <th>Seed 2</th>\n",
       "      <td>19/30</td>\n",
       "      <td>19/30</td>\n",
       "      <td>23/30</td>\n",
       "      <td>22/30</td>\n",
       "      <td>28/30</td>\n",
       "    </tr>\n",
       "    <tr>\n",
       "      <th>Seed 3</th>\n",
       "      <td>22/30</td>\n",
       "      <td>23/30</td>\n",
       "      <td>23/30</td>\n",
       "      <td>28/30</td>\n",
       "      <td>28/30</td>\n",
       "    </tr>\n",
       "    <tr>\n",
       "      <th>Seed 4</th>\n",
       "      <td>29/29</td>\n",
       "      <td>30/30</td>\n",
       "      <td>30/30</td>\n",
       "      <td>30/30</td>\n",
       "      <td>30/30</td>\n",
       "    </tr>\n",
       "    <tr>\n",
       "      <th>Seed 5</th>\n",
       "      <td>19/30</td>\n",
       "      <td>18/30</td>\n",
       "      <td>24/30</td>\n",
       "      <td>22/30</td>\n",
       "      <td>30/30</td>\n",
       "    </tr>\n",
       "    <tr>\n",
       "      <th>Seed 6</th>\n",
       "      <td>17/29</td>\n",
       "      <td>15/30</td>\n",
       "      <td>23/30</td>\n",
       "      <td>21/30</td>\n",
       "      <td>25/30</td>\n",
       "    </tr>\n",
       "    <tr>\n",
       "      <th>Seed 7</th>\n",
       "      <td>23/30</td>\n",
       "      <td>22/29</td>\n",
       "      <td>25/30</td>\n",
       "      <td>27/30</td>\n",
       "      <td>26/30</td>\n",
       "    </tr>\n",
       "    <tr>\n",
       "      <th>Seed 8</th>\n",
       "      <td>21/30</td>\n",
       "      <td>20/30</td>\n",
       "      <td>28/30</td>\n",
       "      <td>24/30</td>\n",
       "      <td>30/30</td>\n",
       "    </tr>\n",
       "    <tr>\n",
       "      <th>Seed 9</th>\n",
       "      <td>29/30</td>\n",
       "      <td>30/30</td>\n",
       "      <td>29/30</td>\n",
       "      <td>30/30</td>\n",
       "      <td>30/30</td>\n",
       "    </tr>\n",
       "    <tr>\n",
       "      <th>Overall</th>\n",
       "      <td>227/297</td>\n",
       "      <td>222/299</td>\n",
       "      <td>256/300</td>\n",
       "      <td>252/300</td>\n",
       "      <td>278/300</td>\n",
       "    </tr>\n",
       "  </tbody>\n",
       "</table>\n",
       "</div>"
      ],
      "text/plain": [
       "        o1-preview  o3-mini   gpt-4o    gpt-5 6-\\textsc{Gram}\n",
       "Seed 0       25/30    24/30    27/30    28/30           26/30\n",
       "Seed 1       23/29    21/30    24/30    20/30           25/30\n",
       "Seed 2       19/30    19/30    23/30    22/30           28/30\n",
       "Seed 3       22/30    23/30    23/30    28/30           28/30\n",
       "Seed 4       29/29    30/30    30/30    30/30           30/30\n",
       "Seed 5       19/30    18/30    24/30    22/30           30/30\n",
       "Seed 6       17/29    15/30    23/30    21/30           25/30\n",
       "Seed 7       23/30    22/29    25/30    27/30           26/30\n",
       "Seed 8       21/30    20/30    28/30    24/30           30/30\n",
       "Seed 9       29/30    30/30    29/30    30/30           30/30\n",
       "Overall    227/297  222/299  256/300  252/300         278/300"
      ]
     },
     "execution_count": 11,
     "metadata": {},
     "output_type": "execute_result"
    }
   ],
   "source": [
    "table"
   ]
  },
  {
   "cell_type": "code",
   "execution_count": 12,
   "id": "63e76b1c-d7c5-47b4-8107-d8ac3d96a065",
   "metadata": {},
   "outputs": [],
   "source": [
    "text = \"\"\n",
    "text += r\"\\begin{tabular}{|r|c|c|c|}\" + \"\\n\"\n",
    "text += r\"\\hline\" + \"\\n\"\n",
    "text += \"&\".join([\"DFA\", *table.columns])\n",
    "text += \"\\\\\\\\\\n\"\n",
    "for i, row in table.iterrows():\n",
    "    text += r\"\\hline\" + \"\\n\"\n",
    "    text += \"&\".join([i, *row])\n",
    "    text += \"\\\\\\\\\\n\"\n",
    "text += r\"\\hline\" + \"\\n\"\n",
    "text += r\"\\end{tabular}\""
   ]
  },
  {
   "cell_type": "code",
   "execution_count": 13,
   "id": "9c731a84-1cb3-4e7d-a58c-ea6c9539ef0c",
   "metadata": {},
   "outputs": [
    {
     "name": "stdout",
     "output_type": "stream",
     "text": [
      "\\begin{tabular}{|r|c|c|c|}\n",
      "\\hline\n",
      "DFA&o1-preview&o3-mini&gpt-4o&gpt-5&6-\\textsc{Gram}\\\\\n",
      "\\hline\n",
      "Seed 0&25/30&24/30&27/30&28/30&26/30\\\\\n",
      "\\hline\n",
      "Seed 1&23/29&21/30&24/30&20/30&25/30\\\\\n",
      "\\hline\n",
      "Seed 2&19/30&19/30&23/30&22/30&28/30\\\\\n",
      "\\hline\n",
      "Seed 3&22/30&23/30&23/30&28/30&28/30\\\\\n",
      "\\hline\n",
      "Seed 4&29/29&30/30&30/30&30/30&30/30\\\\\n",
      "\\hline\n",
      "Seed 5&19/30&18/30&24/30&22/30&30/30\\\\\n",
      "\\hline\n",
      "Seed 6&17/29&15/30&23/30&21/30&25/30\\\\\n",
      "\\hline\n",
      "Seed 7&23/30&22/29&25/30&27/30&26/30\\\\\n",
      "\\hline\n",
      "Seed 8&21/30&20/30&28/30&24/30&30/30\\\\\n",
      "\\hline\n",
      "Seed 9&29/30&30/30&29/30&30/30&30/30\\\\\n",
      "\\hline\n",
      "Overall&227/297&222/299&256/300&252/300&278/300\\\\\n",
      "\\hline\n",
      "\\end{tabular}\n"
     ]
    }
   ],
   "source": [
    "print(text)"
   ]
  }
 ],
 "metadata": {
  "kernelspec": {
   "display_name": "Python 3 (ipykernel)",
   "language": "python",
   "name": "python3"
  },
  "language_info": {
   "codemirror_mode": {
    "name": "ipython",
    "version": 3
   },
   "file_extension": ".py",
   "mimetype": "text/x-python",
   "name": "python",
   "nbconvert_exporter": "python",
   "pygments_lexer": "ipython3",
   "version": "3.12.3"
  }
 },
 "nbformat": 4,
 "nbformat_minor": 5
}
