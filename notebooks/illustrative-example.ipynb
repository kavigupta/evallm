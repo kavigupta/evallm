{
 "cells": [
  {
   "cell_type": "code",
   "execution_count": 1,
   "id": "d15afe27",
   "metadata": {},
   "outputs": [
    {
     "data": {
      "text/html": [
       "\n",
       "                <script type=\"application/javascript\" id=\"jupyter_black\">\n",
       "                (function() {\n",
       "                    if (window.IPython === undefined) {\n",
       "                        return\n",
       "                    }\n",
       "                    var msg = \"WARNING: it looks like you might have loaded \" +\n",
       "                        \"jupyter_black in a non-lab notebook with \" +\n",
       "                        \"`is_lab=True`. Please double check, and if \" +\n",
       "                        \"loading with `%load_ext` please review the README!\"\n",
       "                    console.log(msg)\n",
       "                    alert(msg)\n",
       "                })()\n",
       "                </script>\n",
       "                "
      ],
      "text/plain": [
       "<IPython.core.display.HTML object>"
      ]
     },
     "metadata": {},
     "output_type": "display_data"
    }
   ],
   "source": [
    "%load_ext autoreload\n",
    "%autoreload 2\n",
    "%load_ext jupyter_black"
   ]
  },
  {
   "cell_type": "code",
   "execution_count": 2,
   "id": "625808e0",
   "metadata": {},
   "outputs": [],
   "source": [
    "from collections import defaultdict\n",
    "\n",
    "import numpy as np\n",
    "import pandas as pd\n",
    "import matplotlib.pyplot as plt\n",
    "import evallm\n",
    "from automata.fa.dfa import DFA\n",
    "import tqdm.auto as tqdm"
   ]
  },
  {
   "cell_type": "code",
   "execution_count": 3,
   "id": "294c9a50-c317-4a8a-9396-afa17e1e26bb",
   "metadata": {},
   "outputs": [],
   "source": [
    "import itertools\n",
    "from permacache import stable_hash"
   ]
  },
  {
   "cell_type": "code",
   "execution_count": 4,
   "id": "57fe887b-d30f-4c00-acef-3c7a4902ba50",
   "metadata": {},
   "outputs": [],
   "source": [
    "from evallm.experiments.transducer_plotting import produce_table\n",
    "\n",
    "from evallm.experiments.transducer_summary import prompt_by_key as prompts_t\n",
    "from evallm.experiments.sequence_completion_summary import (\n",
    "    prompts_by_key as prompts_s,\n",
    "    current_setting as current_setting_s,\n",
    ")\n",
    "\n",
    "from evallm.experiments.exhaustive_transducer_experiment import (\n",
    "    run_experiment_for_dfa,\n",
    "    SummaryStats,\n",
    "    compute_ngram_each,\n",
    ")\n",
    "from evallm.enumerate_dfa.pack_dfa import pack_dfa, unpack_dfa\n",
    "from evallm.experiments.sequence_completion.sequence_completion_experiments import (\n",
    "    run_model as run_model_sc,\n",
    "    collate_model_responses as collate_model_responses_sc,\n",
    ")\n",
    "from evallm.experiments.sequence_completion.sample_sequences import (\n",
    "    sample_task_instances_given_dfa,\n",
    ")\n",
    "\n",
    "from evallm.experiments.example import transducer_example_csv\n",
    "\n",
    "# from evallm.prompting.transducer_prompt import BasicSequencePrompt, BasicSequencePromptNoChat"
   ]
  },
  {
   "cell_type": "code",
   "execution_count": 5,
   "id": "30409303-8406-49fd-bbbd-3a0258ef001a",
   "metadata": {},
   "outputs": [],
   "source": [
    "# chat_prompt = prompt_by_key[\"Basic\"][\"chat\"]\n",
    "# non_chat_prompt = prompt_by_key[\"Basic\"][\"non-chat\"]"
   ]
  },
  {
   "cell_type": "code",
   "execution_count": 6,
   "id": "26d6ca0d-8587-494b-abd3-fa743a889205",
   "metadata": {},
   "outputs": [],
   "source": [
    "sum_dfa = unpack_dfa(\n",
    "    pack_dfa(\n",
    "        DFA(\n",
    "            states={0, 1, 2},\n",
    "            input_symbols={0, 1, 2},\n",
    "            transitions={a: {b: (a + b) % 3 for b in range(3)} for a in range(3)},\n",
    "            initial_state=0,\n",
    "            final_states={0},\n",
    "        )\n",
    "    )\n",
    ")\n",
    "\n",
    "sequence_tasks = sample_task_instances_given_dfa(\n",
    "    np.random.RandomState(0),\n",
    "    num_sequences=current_setting_s[\"num_sequences\"],\n",
    "    num_sequence_symbols=current_setting_s[\"num_sequence_symbols\"],\n",
    "    num_sequence_symbols_prompt=current_setting_s[\"num_sequence_symbols_prompt\"],\n",
    "    try_limit=50,\n",
    "    num_instances=1000,\n",
    "    dfa=sum_dfa,\n",
    ")"
   ]
  },
  {
   "cell_type": "code",
   "execution_count": 7,
   "id": "d9b0a067-a2d8-461d-bfb4-4f1a1dd1ea56",
   "metadata": {},
   "outputs": [],
   "source": [
    "res_claude = run_experiment_for_dfa(\n",
    "    prompts_t[\"Red-Green\"][\"chat\"],\n",
    "    pack_dfa(sum_dfa),\n",
    "    1000,\n",
    "    \"claude-3-5-sonnet-20241022\",\n",
    "    0,\n",
    "    keep_completions=True,\n",
    ")"
   ]
  },
  {
   "cell_type": "code",
   "execution_count": 8,
   "id": "b6eedcf6-a0c7-40b2-bf81-838ad02f9d0b",
   "metadata": {},
   "outputs": [],
   "source": [
    "res_qwen = run_experiment_for_dfa(\n",
    "    prompts_t[\"Basic\"][\"non-chat\"], pack_dfa(sum_dfa), 1000, \"Qwen/Qwen2.5-Coder-7B\", 0\n",
    ")"
   ]
  },
  {
   "cell_type": "code",
   "execution_count": 9,
   "id": "8046691d-a54a-4ba2-a90f-1d3967c0334d",
   "metadata": {},
   "outputs": [],
   "source": [
    "from matplotlib_venn import venn3"
   ]
  },
  {
   "cell_type": "code",
   "execution_count": null,
   "id": "7f9dda92-f68e-4b02-bc86-e1f3de63e197",
   "metadata": {},
   "outputs": [],
   "source": []
  },
  {
   "cell_type": "code",
   "execution_count": 10,
   "id": "f4aa037f-8fcc-404c-a4db-b11fe2290a87",
   "metadata": {},
   "outputs": [],
   "source": [
    "transducer_masks = {\n",
    "    \"claude\": res_claude.accuracy_each,\n",
    "    \"qwen\": res_qwen.accuracy_each,\n",
    "    \"6gram\": compute_ngram_each(res_qwen)[:, 6 - 2],\n",
    "}"
   ]
  },
  {
   "cell_type": "code",
   "execution_count": 11,
   "id": "4a3ce3e2-2839-4f79-a396-096ba56d3a62",
   "metadata": {},
   "outputs": [],
   "source": [
    "blue = \"#009bff\"\n",
    "green = \"#26d94a\"\n",
    "red = \"#ff0062\""
   ]
  },
  {
   "cell_type": "code",
   "execution_count": 12,
   "id": "fb6aa4b8-bac9-43bc-b76f-d23459200d92",
   "metadata": {},
   "outputs": [
    {
     "data": {
      "text/plain": [
       "<matplotlib_venn._common.VennDiagram at 0x7f496f939e10>"
      ]
     },
     "execution_count": 12,
     "metadata": {},
     "output_type": "execute_result"
    },
    {
     "data": {
      "image/png": "[encoded data removed]",
      "text/plain": [
       "<Figure size 640x480 with 1 Axes>"
      ]
     },
     "metadata": {},
     "output_type": "display_data"
    }
   ],
   "source": [
    "venn3(\n",
    "    subsets=[set(np.where(x == 0)[0]) for x in transducer_masks.values()],\n",
    "    set_labels=[f\"{k}: {v.mean():.1%}\" for k, v in transducer_masks.items()],\n",
    "    set_colors=(red, green, blue),\n",
    ")"
   ]
  },
  {
   "cell_type": "code",
   "execution_count": 13,
   "id": "2a2e8dc3-7e37-40a9-908c-8807daf7ee19",
   "metadata": {},
   "outputs": [],
   "source": [
    "def random_samples_each(masks, size=30):\n",
    "    rng = np.random.RandomState(0)\n",
    "    return {k: rng.choice(np.where(masks[k])[0], size=size) for k in masks}"
   ]
  },
  {
   "cell_type": "code",
   "execution_count": 14,
   "id": "ca213c76-72e3-41e7-8b49-21a28893652a",
   "metadata": {},
   "outputs": [],
   "source": [
    "masks_t = {\n",
    "    \"claude-correct\": transducer_masks[\"claude\"] == 1,\n",
    "    \"claude-incorrect-6gram-correct\": (transducer_masks[\"claude\"] == 0)\n",
    "    & (transducer_masks[\"6gram\"] == 1),\n",
    "    \"both-incorrect\": (transducer_masks[\"claude\"] == 0)\n",
    "    & (transducer_masks[\"6gram\"] == 0),\n",
    "}\n",
    "samples_t = random_samples_each(masks_t)"
   ]
  },
  {
   "cell_type": "code",
   "execution_count": 15,
   "id": "d8e73560-d273-4d51-b150-38b98ab123de",
   "metadata": {},
   "outputs": [],
   "source": [
    "! mkdir -p output/example_dfa"
   ]
  },
  {
   "cell_type": "code",
   "execution_count": 16,
   "id": "4d13006e-1108-4dd1-8b7e-61480bb2484a",
   "metadata": {},
   "outputs": [],
   "source": [
    "transducer_example_csv(res_claude, samples_t).to_csv(\n",
    "    \"output/example_dfa/transducer_claude_sample.csv\"\n",
    ")"
   ]
  },
  {
   "cell_type": "code",
   "execution_count": 17,
   "id": "3032d880-8151-4960-bd6e-0aa6867fd228",
   "metadata": {
    "scrolled": true
   },
   "outputs": [],
   "source": [
    "# run_model_sc(\n",
    "#     \"Qwen/Qwen2.5-Coder-7B\",\n",
    "#     prompts_s[\"Basic\"](current_setting_s),\n",
    "#     sum_dfa,\n",
    "#     sequence_tasks,\n",
    "# )"
   ]
  },
  {
   "cell_type": "code",
   "execution_count": 18,
   "id": "8354ed92-4932-4fed-980f-3c4fbc6d87c1",
   "metadata": {},
   "outputs": [],
   "source": [
    "# run_model_sc(\n",
    "#     \"claude-3-5-sonnet-20241022\",\n",
    "#     prompts_s[\"COT\"](current_setting_s),\n",
    "#     sum_dfa,\n",
    "#     sequence_tasks,\n",
    "# )"
   ]
  },
  {
   "cell_type": "code",
   "execution_count": null,
   "id": "4e809584-e1ce-494f-bcf1-5d9a5a82fa89",
   "metadata": {},
   "outputs": [],
   "source": []
  }
 ],
 "metadata": {
  "kernelspec": {
   "display_name": "Python 3 (ipykernel)",
   "language": "python",
   "name": "python3"
  },
  "language_info": {
   "codemirror_mode": {
    "name": "ipython",
    "version": 3
   },
   "file_extension": ".py",
   "mimetype": "text/x-python",
   "name": "python",
   "nbconvert_exporter": "python",
   "pygments_lexer": "ipython3",
   "version": "3.11.9"
  }
 },
 "nbformat": 4,
 "nbformat_minor": 5
}
