{
 "cells": [
  {
   "cell_type": "code",
   "execution_count": 1,
   "id": "d15afe27",
   "metadata": {},
   "outputs": [
    {
     "data": {
      "text/html": [
       "\n",
       "                <script type=\"application/javascript\" id=\"jupyter_black\">\n",
       "                (function() {\n",
       "                    if (window.IPython === undefined) {\n",
       "                        return\n",
       "                    }\n",
       "                    var msg = \"WARNING: it looks like you might have loaded \" +\n",
       "                        \"jupyter_black in a non-lab notebook with \" +\n",
       "                        \"`is_lab=True`. Please double check, and if \" +\n",
       "                        \"loading with `%load_ext` please review the README!\"\n",
       "                    console.log(msg)\n",
       "                    alert(msg)\n",
       "                })()\n",
       "                </script>\n",
       "                "
      ],
      "text/plain": [
       "<IPython.core.display.HTML object>"
      ]
     },
     "metadata": {},
     "output_type": "display_data"
    }
   ],
   "source": [
    "%load_ext autoreload\n",
    "%autoreload 2\n",
    "%load_ext jupyter_black"
   ]
  },
  {
   "cell_type": "code",
   "execution_count": 2,
   "id": "57fe887b-d30f-4c00-acef-3c7a4902ba50",
   "metadata": {},
   "outputs": [],
   "source": [
    "from collections import defaultdict\n",
    "import numpy as np\n",
    "\n",
    "from evallm.experiments.transducer_summary import (\n",
    "    for_model_and_prompt as for_model_t,\n",
    "    compute_model_results as compute_model_results_t,\n",
    ")\n",
    "\n",
    "from evallm.experiments.sequence_completion_summary import for_model as for_model_sc\n",
    "from evallm.experiments.sequence_completion.sequence_completion_prompt import (\n",
    "    WithTemperatureSequenceCompletionPrompt,\n",
    ")\n",
    "from evallm.prompting.transducer_prompt import WithTemperatureTransducerPrompter"
   ]
  },
  {
   "cell_type": "code",
   "execution_count": 3,
   "id": "518e5472-abd2-4379-911a-72aba5e119ee",
   "metadata": {},
   "outputs": [],
   "source": [
    "def produce_transducer_results(**kwargs):\n",
    "    r = {\n",
    "        **for_model_t(\n",
    "            \"mistral-nemo-minitron-8B\",\n",
    "            1000,\n",
    "            \"Basic\",\n",
    "            **kwargs,\n",
    "        ),\n",
    "        **for_model_t(\n",
    "            \"claude-3.5\",\n",
    "            30,\n",
    "            # \"Basic\",\n",
    "            # \"More-Expl\",\n",
    "            # \"COT\",\n",
    "            \"Red-Green\",\n",
    "            **kwargs,\n",
    "        ),\n",
    "    }\n",
    "\n",
    "    return {\n",
    "        mod: {prompt: np.mean(res) for prompt, res in prompts_res.items()}\n",
    "        for mod, prompts_res in compute_model_results_t(\n",
    "            r, accuracy_summary=True\n",
    "        ).items()\n",
    "    }\n",
    "\n",
    "\n",
    "def produce_sc_results(**kwargs):\n",
    "    r = {\n",
    "        **for_model_sc(\n",
    "            \"mistral-nemo-minitron-8B\",\n",
    "            1000,\n",
    "            \"Basic\",\n",
    "            na_mode=\"ignore\",\n",
    "            **kwargs,\n",
    "        ),\n",
    "        **for_model_sc(\n",
    "            \"claude-3.5\",\n",
    "            30,\n",
    "            # \"Basic\",\n",
    "            # \"Basic-Commas\",\n",
    "            # \"More-Expl\",\n",
    "            # \"COT\",\n",
    "            \"Red-Green\",\n",
    "            na_mode=\"ignore\",\n",
    "            **kwargs,\n",
    "        ),\n",
    "    }\n",
    "    results = defaultdict(dict)\n",
    "    for mod, prompt in r:\n",
    "        results[mod][prompt] = np.mean(r[mod, prompt])\n",
    "    return results\n",
    "\n",
    "\n",
    "def both_conditions(produce_results_fn, wrapper):\n",
    "    result_temp_0 = produce_results_fn()\n",
    "    result_temp_nonzero = produce_results_fn(\n",
    "        wrapper=wrapper,\n",
    "    )\n",
    "    for mod in result_temp_0:\n",
    "        for prompt in result_temp_0[mod]:\n",
    "            a = result_temp_0[mod][prompt]\n",
    "            b = result_temp_nonzero[mod][prompt]\n",
    "            print(mod, prompt)\n",
    "            print(f\"Temp Zero   : {a:.2%}\")\n",
    "            print(f\"Temp NonZero: {b:.2%}\")\n",
    "            print(f\"Delta       : {b - a:+.2%}\")\n",
    "            print()"
   ]
  },
  {
   "cell_type": "code",
   "execution_count": 4,
   "id": "ec4e74c4-efc1-4a91-8105-71b82fbccd38",
   "metadata": {},
   "outputs": [
    {
     "name": "stdout",
     "output_type": "stream",
     "text": [
      "mistral-nemo-minitron-8B Basic\n",
      "Temp Zero   : 88.56%\n",
      "Temp NonZero: 88.17%\n",
      "Delta       : -0.39%\n",
      "\n",
      "claude-3.5 Red-Green\n",
      "Temp Zero   : 82.89%\n",
      "Temp NonZero: 82.78%\n",
      "Delta       : -0.11%\n",
      "\n"
     ]
    }
   ],
   "source": [
    "both_conditions(\n",
    "    produce_transducer_results,\n",
    "    lambda prompt: WithTemperatureTransducerPrompter(prompt, 0.1),\n",
    ")"
   ]
  },
  {
   "cell_type": "code",
   "execution_count": 5,
   "id": "73f27232-f44a-477b-afa2-fad4dbd4139f",
   "metadata": {},
   "outputs": [
    {
     "name": "stdout",
     "output_type": "stream",
     "text": [
      "mistral-nemo-minitron-8B Basic\n",
      "Temp Zero   : 78.70%\n",
      "Temp NonZero: 77.67%\n",
      "Delta       : -1.04%\n",
      "\n",
      "claude-3.5 Red-Green\n",
      "Temp Zero   : 80.00%\n",
      "Temp NonZero: 80.78%\n",
      "Delta       : +0.78%\n",
      "\n"
     ]
    }
   ],
   "source": [
    "both_conditions(\n",
    "    produce_sc_results,\n",
    "    wrapper=lambda prompt: lambda args: WithTemperatureSequenceCompletionPrompt(\n",
    "        prompt(args), 0.1\n",
    "    ),\n",
    ")"
   ]
  },
  {
   "cell_type": "code",
   "execution_count": null,
   "id": "b7c7404b-5444-4581-aca2-535cac833e6b",
   "metadata": {},
   "outputs": [],
   "source": []
  }
 ],
 "metadata": {
  "kernelspec": {
   "display_name": "Python 3 (ipykernel)",
   "language": "python",
   "name": "python3"
  },
  "language_info": {
   "codemirror_mode": {
    "name": "ipython",
    "version": 3
   },
   "file_extension": ".py",
   "mimetype": "text/x-python",
   "name": "python",
   "nbconvert_exporter": "python",
   "pygments_lexer": "ipython3",
   "version": "3.11.9"
  }
 },
 "nbformat": 4,
 "nbformat_minor": 5
}
