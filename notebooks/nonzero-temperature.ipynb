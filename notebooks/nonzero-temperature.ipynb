{
 "cells": [
  {
   "cell_type": "code",
   "execution_count": 1,
   "id": "d15afe27",
   "metadata": {},
   "outputs": [],
   "source": [
    "%load_ext autoreload\n",
    "%autoreload 2\n",
    "%load_ext jupyter_black"
   ]
  },
  {
   "cell_type": "code",
   "execution_count": 2,
   "id": "57fe887b-d30f-4c00-acef-3c7a4902ba50",
   "metadata": {},
   "outputs": [],
   "source": [
    "import numpy as np\n",
    "\n",
    "from evallm.experiments.nonzero_temperature import (\n",
    "    temperature_comparison_tables,\n",
    "    compute_results,\n",
    ")"
   ]
  },
  {
   "cell_type": "code",
   "execution_count": 3,
   "id": "518e5472-abd2-4379-911a-72aba5e119ee",
   "metadata": {},
   "outputs": [],
   "source": [
    "def summary(result_temp_0, result_temp_nonzero):\n",
    "    for mod in result_temp_0:\n",
    "        for prompt in result_temp_0[mod]:\n",
    "            a = np.mean(result_temp_0[mod][prompt])\n",
    "            b = np.mean(result_temp_nonzero[mod][prompt])\n",
    "            print(mod, prompt)\n",
    "            print(f\"Temp Zero   : {a:.2%}\")\n",
    "            print(f\"Temp NonZero: {b:.2%}\")\n",
    "            print(f\"Delta       : {b - a:+.2%}\")\n",
    "            print()"
   ]
  },
  {
   "cell_type": "code",
   "execution_count": 4,
   "id": "26922113-424e-479c-9b89-ab936cb3b387",
   "metadata": {},
   "outputs": [],
   "source": [
    "sc, t = compute_results()"
   ]
  },
  {
   "cell_type": "code",
   "execution_count": 5,
   "id": "ec4e74c4-efc1-4a91-8105-71b82fbccd38",
   "metadata": {},
   "outputs": [
    {
     "name": "stdout",
     "output_type": "stream",
     "text": [
      "mistral-nemo-minitron-8B Basic\n",
      "Temp Zero   : 88.56%\n",
      "Temp NonZero: 88.17%\n",
      "Delta       : -0.39%\n",
      "\n",
      "claude-3.5 Basic\n",
      "Temp Zero   : 86.89%\n",
      "Temp NonZero: 87.00%\n",
      "Delta       : +0.11%\n",
      "\n",
      "claude-3.5 More-Expl\n",
      "Temp Zero   : 87.11%\n",
      "Temp NonZero: 86.89%\n",
      "Delta       : -0.22%\n",
      "\n",
      "claude-3.5 More-Expl-COT\n",
      "Temp Zero   : 76.44%\n",
      "Temp NonZero: 78.11%\n",
      "Delta       : +1.67%\n",
      "\n",
      "claude-3.5 Red-Green\n",
      "Temp Zero   : 82.89%\n",
      "Temp NonZero: 82.78%\n",
      "Delta       : -0.11%\n",
      "\n"
     ]
    }
   ],
   "source": [
    "summary(*t)"
   ]
  },
  {
   "cell_type": "code",
   "execution_count": 6,
   "id": "73f27232-f44a-477b-afa2-fad4dbd4139f",
   "metadata": {},
   "outputs": [
    {
     "name": "stdout",
     "output_type": "stream",
     "text": [
      "mistral-nemo-minitron-8B Basic\n",
      "Temp Zero   : 78.70%\n",
      "Temp NonZero: 77.67%\n",
      "Delta       : -1.04%\n",
      "\n",
      "claude-3.5 More-Expl-COT\n",
      "Temp Zero   : 84.00%\n",
      "Temp NonZero: 84.22%\n",
      "Delta       : +0.22%\n",
      "\n",
      "claude-3.5 Red-Green\n",
      "Temp Zero   : 80.00%\n",
      "Temp NonZero: 80.78%\n",
      "Delta       : +0.78%\n",
      "\n"
     ]
    }
   ],
   "source": [
    "summary(*sc)"
   ]
  },
  {
   "cell_type": "code",
   "execution_count": 7,
   "id": "d778cf5c-7135-4225-8351-8a8ac0056160",
   "metadata": {},
   "outputs": [
    {
     "name": "stdout",
     "output_type": "stream",
     "text": [
      "{\\renewcommand{\\arraystretch}{1.25}\n",
      "\\begin{tabular}{llrrr}\n",
      "\\hline\n",
      "\\textbf{Model} & \\textbf{Prompt} & \\textbf{Zero Temp} & \\textbf{Nonzero Temp} & \\textbf{Difference} \\\\\n",
      "\\hline\n",
      "\\multicolumn{5}{l}{\\textbf{Sequence Completion}} \\\\\n",
      "\\hline\n",
      "mistral-nemo-minitron-8B & \\textsc{Basic} & 78.70\\% (77.49\\% -- 79.79\\%) & 77.67\\% (76.51\\% -- 78.76\\%) & -1.04\\% (-1.49\\% -- -0.63\\%) \\\\\n",
      "\\hline\n",
      "claude-3.5 & \\textsc{More-Expl-COT} & 84.00\\% (79.33\\% -- 88.44\\%) & 84.22\\% (79.56\\% -- 89.00\\%) & 0.22\\% (-2.11\\% -- 2.33\\%) \\\\\n",
      "\\hline\n",
      "claude-3.5 & \\textsc{Red-Green} & 80.00\\% (74.89\\% -- 85.22\\%) & 80.78\\% (75.00\\% -- 86.11\\%) & 0.78\\% (-2.11\\% -- 3.44\\%) \\\\\n",
      "\\hline\n",
      "\\multicolumn{5}{l}{\\textbf{Transducer}} \\\\\n",
      "\\hline\n",
      "mistral-nemo-minitron-8B & \\textsc{Basic} & 88.56\\% (88.05\\% -- 89.08\\%) & 88.17\\% (87.64\\% -- 88.68\\%) & -0.39\\% (-0.58\\% -- -0.22\\%) \\\\\n",
      "\\hline\n",
      "claude-3.5 & \\textsc{Basic} & 86.89\\% (83.33\\% -- 90.00\\%) & 87.00\\% (83.33\\% -- 90.11\\%) & 0.11\\% (-0.67\\% -- 0.89\\%) \\\\\n",
      "\\hline\n",
      "claude-3.5 & \\textsc{More-Expl} & 87.11\\% (83.88\\% -- 90.22\\%) & 86.89\\% (83.22\\% -- 90.11\\%) & -0.22\\% (-1.11\\% -- 0.67\\%) \\\\\n",
      "\\hline\n",
      "claude-3.5 & \\textsc{More-Expl-COT} & 76.44\\% (72.89\\% -- 79.89\\%) & 78.11\\% (74.66\\% -- 81.33\\%) & 1.67\\% (-0.56\\% -- 3.78\\%) \\\\\n",
      "\\hline\n",
      "claude-3.5 & \\textsc{Red-Green} & 82.89\\% (78.89\\% -- 86.89\\%) & 82.78\\% (78.89\\% -- 86.33\\%) & -0.11\\% (-2.00\\% -- 1.78\\%) \\\\\n",
      "\\hline\n",
      "\\end{tabular}\n",
      "}\n",
      "\n"
     ]
    }
   ],
   "source": [
    "temperature_comparison_tables(sc, t)"
   ]
  },
  {
   "cell_type": "code",
   "execution_count": null,
   "id": "9d5429c6-5938-4ae6-a575-3307a1b1415c",
   "metadata": {},
   "outputs": [],
   "source": []
  }
 ],
 "metadata": {
  "kernelspec": {
   "display_name": "Python 3 (ipykernel)",
   "language": "python",
   "name": "python3"
  },
  "language_info": {
   "codemirror_mode": {
    "name": "ipython",
    "version": 3
   },
   "file_extension": ".py",
   "mimetype": "text/x-python",
   "name": "python",
   "nbconvert_exporter": "python",
   "pygments_lexer": "ipython3",
   "version": "3.12.3"
  }
 },
 "nbformat": 4,
 "nbformat_minor": 5
}
