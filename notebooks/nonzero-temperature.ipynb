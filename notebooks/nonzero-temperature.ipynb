{
 "cells": [
  {
   "cell_type": "code",
   "execution_count": 1,
   "id": "d15afe27",
   "metadata": {},
   "outputs": [],
   "source": [
    "%load_ext autoreload\n",
    "%autoreload 2\n",
    "%load_ext jupyter_black"
   ]
  },
  {
   "cell_type": "code",
   "execution_count": 2,
   "id": "57fe887b-d30f-4c00-acef-3c7a4902ba50",
   "metadata": {},
   "outputs": [],
   "source": [
    "from collections import defaultdict\n",
    "import numpy as np\n",
    "\n",
    "from evallm.experiments.transducer_summary import (\n",
    "    for_model_and_prompt as for_model_t,\n",
    "    compute_model_results as compute_model_results_t,\n",
    ")\n",
    "\n",
    "from evallm.experiments.sequence_completion_summary import for_model as for_model_sc\n",
    "from evallm.experiments.sequence_completion.sequence_completion_prompt import (\n",
    "    WithTemperatureSequenceCompletionPrompt,\n",
    ")\n",
    "from evallm.prompting.transducer_prompt import WithTemperatureTransducerPrompter"
   ]
  },
  {
   "cell_type": "code",
   "execution_count": 3,
   "id": "518e5472-abd2-4379-911a-72aba5e119ee",
   "metadata": {},
   "outputs": [],
   "source": [
    "def produce_transducer_results(**kwargs):\n",
    "    r = {\n",
    "        **for_model_t(\n",
    "            \"mistral-nemo-minitron-8B\",\n",
    "            1000,\n",
    "            \"Basic\",\n",
    "            **kwargs,\n",
    "        ),\n",
    "        **for_model_t(\n",
    "            \"claude-3.5\",\n",
    "            30,\n",
    "            \"Basic\",\n",
    "            \"More-Expl\",\n",
    "            \"COT\",\n",
    "            \"Red-Green\",\n",
    "            **kwargs,\n",
    "        ),\n",
    "    }\n",
    "\n",
    "    return {\n",
    "        mod: {prompt: res for prompt, res in prompts_res.items()}\n",
    "        for mod, prompts_res in compute_model_results_t(\n",
    "            r, accuracy_summary=True\n",
    "        ).items()\n",
    "    }\n",
    "\n",
    "\n",
    "def produce_sc_results(**kwargs):\n",
    "    r = {\n",
    "        **for_model_sc(\n",
    "            \"mistral-nemo-minitron-8B\",\n",
    "            1000,\n",
    "            \"Basic\",\n",
    "            na_mode=\"ignore\",\n",
    "            **kwargs,\n",
    "        ),\n",
    "        **for_model_sc(\n",
    "            \"claude-3.5\",\n",
    "            30,\n",
    "            # \"Basic\", \"Basic-Commas\", \"More-Expl\",\n",
    "            \"COT\",\n",
    "            # \"Red-Green\",\n",
    "            na_mode=\"ignore\",\n",
    "            **kwargs,\n",
    "        ),\n",
    "        **for_model_sc(\n",
    "            \"claude-3.5\",\n",
    "            30,\n",
    "            # \"Basic\", \"Basic-Commas\", \"More-Expl\",\n",
    "            # \"COT\",\n",
    "            \"Red-Green\",\n",
    "            na_mode=\"ignore\",\n",
    "            **kwargs,\n",
    "        ),\n",
    "    }\n",
    "    results = defaultdict(dict)\n",
    "    for mod, prompt in r:\n",
    "        results[mod][prompt] = r[mod, prompt]\n",
    "    return results\n",
    "\n",
    "\n",
    "def both_conditions(produce_results_fn, wrapper):\n",
    "    result_temp_0 = produce_results_fn()\n",
    "    result_temp_nonzero = produce_results_fn(\n",
    "        wrapper=wrapper,\n",
    "    )\n",
    "    return result_temp_0, result_temp_nonzero\n",
    "\n",
    "\n",
    "def summary(result_temp_0, result_temp_nonzero):\n",
    "    for mod in result_temp_0:\n",
    "        for prompt in result_temp_0[mod]:\n",
    "            a = np.mean(result_temp_0[mod][prompt])\n",
    "            b = np.mean(result_temp_nonzero[mod][prompt])\n",
    "            print(mod, prompt)\n",
    "            print(f\"Temp Zero   : {a:.2%}\")\n",
    "            print(f\"Temp NonZero: {b:.2%}\")\n",
    "            print(f\"Delta       : {b - a:+.2%}\")\n",
    "            print()"
   ]
  },
  {
   "cell_type": "code",
   "execution_count": 4,
   "id": "26922113-424e-479c-9b89-ab936cb3b387",
   "metadata": {},
   "outputs": [],
   "source": [
    "t = both_conditions(\n",
    "    produce_transducer_results,\n",
    "    lambda prompt: WithTemperatureTransducerPrompter(prompt, 0.1),\n",
    ")\n",
    "sc = both_conditions(\n",
    "    produce_sc_results,\n",
    "    wrapper=lambda prompt: lambda args: WithTemperatureSequenceCompletionPrompt(\n",
    "        prompt(args), 0.1\n",
    "    ),\n",
    ")"
   ]
  },
  {
   "cell_type": "code",
   "execution_count": 5,
   "id": "ec4e74c4-efc1-4a91-8105-71b82fbccd38",
   "metadata": {},
   "outputs": [
    {
     "name": "stdout",
     "output_type": "stream",
     "text": [
      "mistral-nemo-minitron-8B Basic\n",
      "Temp Zero   : 88.56%\n",
      "Temp NonZero: 88.17%\n",
      "Delta       : -0.39%\n",
      "\n",
      "claude-3.5 Basic\n",
      "Temp Zero   : 86.89%\n",
      "Temp NonZero: 87.00%\n",
      "Delta       : +0.11%\n",
      "\n",
      "claude-3.5 More-Expl\n",
      "Temp Zero   : 87.11%\n",
      "Temp NonZero: 86.89%\n",
      "Delta       : -0.22%\n",
      "\n",
      "claude-3.5 COT\n",
      "Temp Zero   : 76.44%\n",
      "Temp NonZero: 78.11%\n",
      "Delta       : +1.67%\n",
      "\n",
      "claude-3.5 Red-Green\n",
      "Temp Zero   : 82.89%\n",
      "Temp NonZero: 82.78%\n",
      "Delta       : -0.11%\n",
      "\n"
     ]
    }
   ],
   "source": [
    "summary(*t)"
   ]
  },
  {
   "cell_type": "code",
   "execution_count": 6,
   "id": "73f27232-f44a-477b-afa2-fad4dbd4139f",
   "metadata": {},
   "outputs": [
    {
     "name": "stdout",
     "output_type": "stream",
     "text": [
      "mistral-nemo-minitron-8B Basic\n",
      "Temp Zero   : 78.70%\n",
      "Temp NonZero: 77.67%\n",
      "Delta       : -1.04%\n",
      "\n",
      "claude-3.5 COT\n",
      "Temp Zero   : 84.00%\n",
      "Temp NonZero: 84.22%\n",
      "Delta       : +0.22%\n",
      "\n",
      "claude-3.5 Red-Green\n",
      "Temp Zero   : 80.00%\n",
      "Temp NonZero: 80.78%\n",
      "Delta       : +0.78%\n",
      "\n"
     ]
    }
   ],
   "source": [
    "summary(*sc)"
   ]
  },
  {
   "cell_type": "code",
   "execution_count": 24,
   "id": "1543a517-8b86-46f4-94ab-26e2e874d8c3",
   "metadata": {},
   "outputs": [],
   "source": [
    "from evallm.experiments.nonzero_temperature import (\n",
    "    temperature_comparison_subtable,\n",
    "    emit_table,\n",
    "    temperature_comparison_tables,\n",
    ")"
   ]
  },
  {
   "cell_type": "code",
   "execution_count": 20,
   "id": "8735dd86-d8d2-43de-a68f-eeb9d9a835e2",
   "metadata": {},
   "outputs": [
    {
     "data": {
      "text/plain": [
       "['\\\\textbf{Model}',\n",
       " '\\\\textbf{Prompt}',\n",
       " '\\\\textbf{Zero Temp}',\n",
       " '\\\\textbf{Nonzero Temp}',\n",
       " '\\\\textbf{Difference}',\n",
       " ['mistral-nemo-minitron-8B',\n",
       "  '\\\\textsc{Basic}',\n",
       "  '78.70% (77.49% -- 79.79%)',\n",
       "  '77.67% (76.51% -- 78.76%)',\n",
       "  '-1.04% (-1.49% -- -0.63%)'],\n",
       " ['claude-3.5',\n",
       "  '\\\\textsc{COT}',\n",
       "  '84.00% (79.33% -- 88.44%)',\n",
       "  '84.22% (79.56% -- 89.00%)',\n",
       "  '0.22% (-2.11% -- 2.33%)'],\n",
       " ['claude-3.5',\n",
       "  '\\\\textsc{Red-Green}',\n",
       "  '80.00% (74.89% -- 85.22%)',\n",
       "  '80.78% (75.00% -- 86.11%)',\n",
       "  '0.78% (-2.11% -- 3.44%)']]"
      ]
     },
     "execution_count": 20,
     "metadata": {},
     "output_type": "execute_result"
    }
   ],
   "source": [
    "temperature_comparison_subtable(*sc)"
   ]
  },
  {
   "cell_type": "code",
   "execution_count": 23,
   "id": "85e9c771-9b09-4e6a-a6ff-4907c75c8a3f",
   "metadata": {},
   "outputs": [
    {
     "name": "stdout",
     "output_type": "stream",
     "text": [
      "{\\renewcommand{\\arraystretch}{1.25}\n",
      "\\begin{tabular}{llrrr}\n",
      "\\hline\n",
      "\\textbf{Model} & \\textbf{Prompt} & \\textbf{Zero Temp} & \\textbf{Nonzero Temp} & \\textbf{Difference} \\\\\n",
      "\\hline\n",
      "mistral-nemo-minitron-8B & \\textsc{Basic} & 78.70% (77.49% -- 79.79%) & 77.67% (76.51% -- 78.76%) & -1.04% (-1.49% -- -0.63%) \\\\\n",
      "\\hline\n",
      "claude-3.5 & \\textsc{COT} & 84.00% (79.33% -- 88.44%) & 84.22% (79.56% -- 89.00%) & 0.22% (-2.11% -- 2.33%) \\\\\n",
      "\\hline\n",
      "claude-3.5 & \\textsc{Red-Green} & 80.00% (74.89% -- 85.22%) & 80.78% (75.00% -- 86.11%) & 0.78% (-2.11% -- 3.44%) \\\\\n",
      "\\hline\n",
      "\\end{tabular}\n",
      "}\n",
      "\n"
     ]
    }
   ],
   "source": [
    "emit_table(temperature_comparison_subtable(*sc))"
   ]
  },
  {
   "cell_type": "code",
   "execution_count": 36,
   "id": "d778cf5c-7135-4225-8351-8a8ac0056160",
   "metadata": {},
   "outputs": [
    {
     "name": "stdout",
     "output_type": "stream",
     "text": [
      "{\\renewcommand{\\arraystretch}{1.25}\n",
      "\\begin{tabular}{llrrr}\n",
      "\\hline\n",
      "\\textbf{Model} & \\textbf{Prompt} & \\textbf{Zero Temp} & \\textbf{Nonzero Temp} & \\textbf{Difference} \\\\\n",
      "\\hline\n",
      "\\multicolumn{5}{l}{\\textbf{Sequence Completion}} \\\\\n",
      "\\hline\n",
      "mistral-nemo-minitron-8B & \\textsc{Basic} & 78.70\\% (77.49\\% -- 79.79\\%) & 77.67\\% (76.51\\% -- 78.76\\%) & -1.04\\% (-1.49\\% -- -0.63\\%) \\\\\n",
      "\\hline\n",
      "claude-3.5 & \\textsc{COT} & 84.00\\% (79.33\\% -- 88.44\\%) & 84.22\\% (79.56\\% -- 89.00\\%) & 0.22\\% (-2.11\\% -- 2.33\\%) \\\\\n",
      "\\hline\n",
      "claude-3.5 & \\textsc{Red-Green} & 80.00\\% (74.89\\% -- 85.22\\%) & 80.78\\% (75.00\\% -- 86.11\\%) & 0.78\\% (-2.11\\% -- 3.44\\%) \\\\\n",
      "\\hline\n",
      "\\multicolumn{5}{l}{\\textbf{Transducer}} \\\\\n",
      "\\hline\n",
      "mistral-nemo-minitron-8B & \\textsc{Basic} & 88.56\\% (88.05\\% -- 89.08\\%) & 88.17\\% (87.64\\% -- 88.68\\%) & -0.39\\% (-0.58\\% -- -0.22\\%) \\\\\n",
      "\\hline\n",
      "claude-3.5 & \\textsc{Basic} & 86.89\\% (83.33\\% -- 90.00\\%) & 87.00\\% (83.33\\% -- 90.11\\%) & 0.11\\% (-0.67\\% -- 0.89\\%) \\\\\n",
      "\\hline\n",
      "claude-3.5 & \\textsc{More-Expl} & 87.11\\% (83.88\\% -- 90.22\\%) & 86.89\\% (83.22\\% -- 90.11\\%) & -0.22\\% (-1.11\\% -- 0.67\\%) \\\\\n",
      "\\hline\n",
      "claude-3.5 & \\textsc{COT} & 76.44\\% (72.89\\% -- 79.89\\%) & 78.11\\% (74.66\\% -- 81.33\\%) & 1.67\\% (-0.56\\% -- 3.78\\%) \\\\\n",
      "\\hline\n",
      "claude-3.5 & \\textsc{Red-Green} & 82.89\\% (78.89\\% -- 86.89\\%) & 82.78\\% (78.89\\% -- 86.33\\%) & -0.11\\% (-2.00\\% -- 1.78\\%) \\\\\n",
      "\\hline\n",
      "\\end{tabular}\n",
      "}\n",
      "\n"
     ]
    }
   ],
   "source": [
    "temperature_comparison_tables(sc, t)"
   ]
  },
  {
   "cell_type": "code",
   "execution_count": null,
   "id": "9d5429c6-5938-4ae6-a575-3307a1b1415c",
   "metadata": {},
   "outputs": [],
   "source": []
  }
 ],
 "metadata": {
  "kernelspec": {
   "display_name": "Python 3 (ipykernel)",
   "language": "python",
   "name": "python3"
  },
  "language_info": {
   "codemirror_mode": {
    "name": "ipython",
    "version": 3
   },
   "file_extension": ".py",
   "mimetype": "text/x-python",
   "name": "python",
   "nbconvert_exporter": "python",
   "pygments_lexer": "ipython3",
   "version": "3.12.3"
  }
 },
 "nbformat": 4,
 "nbformat_minor": 5
}
