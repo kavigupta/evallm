{
 "cells": [
  {
   "cell_type": "code",
   "execution_count": 1,
   "id": "d15afe27",
   "metadata": {},
   "outputs": [
    {
     "data": {
      "text/html": [
       "\n",
       "                <script type=\"application/javascript\" id=\"jupyter_black\">\n",
       "                (function() {\n",
       "                    if (window.IPython === undefined) {\n",
       "                        return\n",
       "                    }\n",
       "                    var msg = \"WARNING: it looks like you might have loaded \" +\n",
       "                        \"jupyter_black in a non-lab notebook with \" +\n",
       "                        \"`is_lab=True`. Please double check, and if \" +\n",
       "                        \"loading with `%load_ext` please review the README!\"\n",
       "                    console.log(msg)\n",
       "                    alert(msg)\n",
       "                })()\n",
       "                </script>\n",
       "                "
      ],
      "text/plain": [
       "<IPython.core.display.HTML object>"
      ]
     },
     "metadata": {},
     "output_type": "display_data"
    }
   ],
   "source": [
    "%load_ext autoreload\n",
    "%autoreload 2\n",
    "%load_ext jupyter_black"
   ]
  },
  {
   "cell_type": "code",
   "execution_count": 2,
   "id": "57fe887b-d30f-4c00-acef-3c7a4902ba50",
   "metadata": {},
   "outputs": [],
   "source": [
    "import io\n",
    "import textwrap\n",
    "\n",
    "import numpy as np\n",
    "import matplotlib.pyplot as plt\n",
    "import pandas as pd\n",
    "\n",
    "from matplotlib_venn import venn3\n",
    "\n",
    "from evallm.experiments.transducer_summary import prompt_by_key as prompts_t\n",
    "from evallm.experiments.sequence_completion_summary import (\n",
    "    current_setting as current_setting_s,\n",
    ")\n",
    "\n",
    "from evallm.experiments.exhaustive_transducer_experiment import (\n",
    "    run_experiment_for_dfa,\n",
    "    compute_ngram_each,\n",
    ")\n",
    "\n",
    "from evallm.enumerate_dfa.enumerate import (\n",
    "    enumerate_packed_dfas,\n",
    "    enumerate_packed_dfas_no_permutations,\n",
    ")\n",
    "\n",
    "from evallm.experiments.example import (\n",
    "    transducer_example_csv,\n",
    "    plot_errors,\n",
    "    generate_data_for_dfa,\n",
    "    qualitative_results_table,\n",
    ")"
   ]
  },
  {
   "cell_type": "code",
   "execution_count": 3,
   "id": "76dc2778-ed15-4bfd-b8d4-6363f2ba3721",
   "metadata": {},
   "outputs": [
    {
     "data": {
      "text/plain": [
       "472392"
      ]
     },
     "execution_count": 3,
     "metadata": {},
     "output_type": "execute_result"
    }
   ],
   "source": [
    "len(list(enumerate_packed_dfas(num_states=3, num_symbols=3)))"
   ]
  },
  {
   "cell_type": "code",
   "execution_count": 4,
   "id": "8a956ea5-d797-4d5e-a0df-3012f49990ad",
   "metadata": {},
   "outputs": [
    {
     "data": {
      "text/plain": [
       "78786"
      ]
     },
     "execution_count": 4,
     "metadata": {},
     "output_type": "execute_result"
    }
   ],
   "source": [
    "len(enumerate_packed_dfas_no_permutations(num_states=3, num_symbols=3))"
   ]
  },
  {
   "cell_type": "code",
   "execution_count": null,
   "id": "6c044ccd-09ee-4ea7-8c17-3e938752ac5a",
   "metadata": {},
   "outputs": [],
   "source": []
  }
 ],
 "metadata": {
  "kernelspec": {
   "display_name": "Python 3 (ipykernel)",
   "language": "python",
   "name": "python3"
  },
  "language_info": {
   "codemirror_mode": {
    "name": "ipython",
    "version": 3
   },
   "file_extension": ".py",
   "mimetype": "text/x-python",
   "name": "python",
   "nbconvert_exporter": "python",
   "pygments_lexer": "ipython3",
   "version": "3.11.9"
  }
 },
 "nbformat": 4,
 "nbformat_minor": 5
}
