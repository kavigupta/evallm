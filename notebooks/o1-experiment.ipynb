{
 "cells": [
  {
   "cell_type": "code",
   "execution_count": 1,
   "id": "d15afe27",
   "metadata": {},
   "outputs": [
    {
     "data": {
      "text/html": [
       "\n",
       "                <script type=\"application/javascript\" id=\"jupyter_black\">\n",
       "                (function() {\n",
       "                    if (window.IPython === undefined) {\n",
       "                        return\n",
       "                    }\n",
       "                    var msg = \"WARNING: it looks like you might have loaded \" +\n",
       "                        \"jupyter_black in a non-lab notebook with \" +\n",
       "                        \"`is_lab=True`. Please double check, and if \" +\n",
       "                        \"loading with `%load_ext` please review the README!\"\n",
       "                    console.log(msg)\n",
       "                    alert(msg)\n",
       "                })()\n",
       "                </script>\n",
       "                "
      ],
      "text/plain": [
       "<IPython.core.display.HTML object>"
      ]
     },
     "metadata": {},
     "output_type": "display_data"
    }
   ],
   "source": [
    "%load_ext autoreload\n",
    "%autoreload 2\n",
    "%load_ext jupyter_black"
   ]
  },
  {
   "cell_type": "code",
   "execution_count": 2,
   "id": "57fe887b-d30f-4c00-acef-3c7a4902ba50",
   "metadata": {},
   "outputs": [],
   "source": [
    "import matplotlib.pyplot as plt\n",
    "from evallm.experiments.sequence_completion_summary import (\n",
    "    sequence_completion_results,\n",
    "    display_prompt as display_prompt_sc,\n",
    ")\n",
    "\n",
    "from evallm.experiments.transducer_summary import *\n",
    "from evallm.experiments.transducer_experiment import *\n",
    "import evallm"
   ]
  },
  {
   "cell_type": "code",
   "execution_count": 3,
   "id": "5271ea3e-9f64-4465-aff2-a21cdd711546",
   "metadata": {},
   "outputs": [],
   "source": [
    "res_4os = run_transducer_experiment(\n",
    "    model=\"gpt-4o-2024-05-13\",\n",
    "    num_repeats_per_dfa=30,\n",
    "    sample_dfa_spec=sample_dfa_spec,\n",
    "    prompter=prompt_by_key[\"Basic\"][\"chat\"],\n",
    "    num_dfas=5,\n",
    ")"
   ]
  },
  {
   "cell_type": "code",
   "execution_count": 4,
   "id": "85515e87-aff6-42ac-a535-81f6a0c1492b",
   "metadata": {},
   "outputs": [],
   "source": [
    "res_o1s = run_transducer_experiment(\n",
    "    # seed=3,\n",
    "    model=\"o1-preview-2024-09-12\",\n",
    "    num_repeats_per_dfa=30,\n",
    "    sample_dfa_spec=sample_dfa_spec,\n",
    "    prompter=prompt_by_key[\"Basic\"][\"chat\"],\n",
    "    # print_completions=True,\n",
    "    num_dfas=5,\n",
    ")"
   ]
  },
  {
   "cell_type": "code",
   "execution_count": 5,
   "id": "63c537fc-af2e-41b8-ba1b-193c956fd0fc",
   "metadata": {},
   "outputs": [],
   "source": [
    "def render_frac(x):\n",
    "    numer = (np.array(x.success_rate_each) == 1).sum()\n",
    "    denom = (np.array(x.success_rate_each) != 0.5).sum()\n",
    "    return f\"{numer:.0f}/{denom:.0f}\""
   ]
  },
  {
   "cell_type": "code",
   "execution_count": 6,
   "id": "a75c222d-135d-40ac-b80b-05fdd0eb0c9c",
   "metadata": {},
   "outputs": [
    {
     "data": {
      "text/html": [
       "<div>\n",
       "<style scoped>\n",
       "    .dataframe tbody tr th:only-of-type {\n",
       "        vertical-align: middle;\n",
       "    }\n",
       "\n",
       "    .dataframe tbody tr th {\n",
       "        vertical-align: top;\n",
       "    }\n",
       "\n",
       "    .dataframe thead th {\n",
       "        text-align: right;\n",
       "    }\n",
       "</style>\n",
       "<table border=\"1\" class=\"dataframe\">\n",
       "  <thead>\n",
       "    <tr style=\"text-align: right;\">\n",
       "      <th></th>\n",
       "      <th>gpt-o1</th>\n",
       "      <th>gpt-4o</th>\n",
       "      <th>6gram</th>\n",
       "    </tr>\n",
       "  </thead>\n",
       "  <tbody>\n",
       "    <tr>\n",
       "      <th>0</th>\n",
       "      <td>25/30</td>\n",
       "      <td>27/30</td>\n",
       "      <td>26/30</td>\n",
       "    </tr>\n",
       "    <tr>\n",
       "      <th>1</th>\n",
       "      <td>23/29</td>\n",
       "      <td>24/30</td>\n",
       "      <td>25/30</td>\n",
       "    </tr>\n",
       "    <tr>\n",
       "      <th>2</th>\n",
       "      <td>19/30</td>\n",
       "      <td>23/30</td>\n",
       "      <td>28/30</td>\n",
       "    </tr>\n",
       "    <tr>\n",
       "      <th>3</th>\n",
       "      <td>22/30</td>\n",
       "      <td>23/30</td>\n",
       "      <td>28/30</td>\n",
       "    </tr>\n",
       "    <tr>\n",
       "      <th>4</th>\n",
       "      <td>29/29</td>\n",
       "      <td>30/30</td>\n",
       "      <td>30/30</td>\n",
       "    </tr>\n",
       "  </tbody>\n",
       "</table>\n",
       "</div>"
      ],
      "text/plain": [
       "  gpt-o1 gpt-4o  6gram\n",
       "0  25/30  27/30  26/30\n",
       "1  23/29  24/30  25/30\n",
       "2  19/30  23/30  28/30\n",
       "3  22/30  23/30  28/30\n",
       "4  29/29  30/30  30/30"
      ]
     },
     "execution_count": 6,
     "metadata": {},
     "output_type": "execute_result"
    }
   ],
   "source": [
    "pd.DataFrame(\n",
    "    {\n",
    "        \"gpt-o1\": [render_frac(x) for x in res_o1s],\n",
    "        \"gpt-4o\": [render_frac(x) for x in res_4os],\n",
    "        \"6gram\": [f\"{x.kgram_success_rates_each[6 - 2] * 30:.0f}/30\" for x in res_4os],\n",
    "    }\n",
    ")"
   ]
  },
  {
   "cell_type": "code",
   "execution_count": null,
   "id": "1b42880e-e5f8-4632-b613-993d5a716b92",
   "metadata": {},
   "outputs": [],
   "source": []
  }
 ],
 "metadata": {
  "kernelspec": {
   "display_name": "Python 3 (ipykernel)",
   "language": "python",
   "name": "python3"
  },
  "language_info": {
   "codemirror_mode": {
    "name": "ipython",
    "version": 3
   },
   "file_extension": ".py",
   "mimetype": "text/x-python",
   "name": "python",
   "nbconvert_exporter": "python",
   "pygments_lexer": "ipython3",
   "version": "3.11.9"
  }
 },
 "nbformat": 4,
 "nbformat_minor": 5
}
