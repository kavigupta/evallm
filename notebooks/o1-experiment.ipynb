{
 "cells": [
  {
   "cell_type": "code",
   "execution_count": 1,
   "id": "d15afe27",
   "metadata": {},
   "outputs": [
    {
     "data": {
      "text/html": [
       "\n",
       "                <script type=\"application/javascript\" id=\"jupyter_black\">\n",
       "                (function() {\n",
       "                    if (window.IPython === undefined) {\n",
       "                        return\n",
       "                    }\n",
       "                    var msg = \"WARNING: it looks like you might have loaded \" +\n",
       "                        \"jupyter_black in a non-lab notebook with \" +\n",
       "                        \"`is_lab=True`. Please double check, and if \" +\n",
       "                        \"loading with `%load_ext` please review the README!\"\n",
       "                    console.log(msg)\n",
       "                    alert(msg)\n",
       "                })()\n",
       "                </script>\n",
       "                "
      ],
      "text/plain": [
       "<IPython.core.display.HTML object>"
      ]
     },
     "metadata": {},
     "output_type": "display_data"
    }
   ],
   "source": [
    "%load_ext autoreload\n",
    "%autoreload 2\n",
    "%load_ext jupyter_black"
   ]
  },
  {
   "cell_type": "code",
   "execution_count": 2,
   "id": "57fe887b-d30f-4c00-acef-3c7a4902ba50",
   "metadata": {},
   "outputs": [],
   "source": [
    "import matplotlib.pyplot as plt\n",
    "from evallm.experiments.sequence_completion_summary import (\n",
    "    sequence_completion_results,\n",
    "    display_prompt as display_prompt_sc,\n",
    ")\n",
    "\n",
    "from evallm.experiments.transducer_summary import *\n",
    "from evallm.experiments.transducer_experiment import *\n",
    "import evallm"
   ]
  },
  {
   "cell_type": "code",
   "execution_count": 3,
   "id": "eddf8178-b113-4fcf-9f1a-0aaa338ffb92",
   "metadata": {},
   "outputs": [],
   "source": [
    "num_dfas = 10"
   ]
  },
  {
   "cell_type": "code",
   "execution_count": 4,
   "id": "5271ea3e-9f64-4465-aff2-a21cdd711546",
   "metadata": {},
   "outputs": [],
   "source": [
    "res_4os = run_transducer_experiment(\n",
    "    model=\"gpt-4o-2024-05-13\",\n",
    "    num_repeats_per_dfa=30,\n",
    "    sample_dfa_spec=sample_dfa_spec,\n",
    "    prompter=prompt_by_key[\"Basic\"][\"chat\"],\n",
    "    num_dfas=num_dfas,\n",
    ")"
   ]
  },
  {
   "cell_type": "code",
   "execution_count": 5,
   "id": "85515e87-aff6-42ac-a535-81f6a0c1492b",
   "metadata": {
    "scrolled": true
   },
   "outputs": [],
   "source": [
    "res_o1s = run_transducer_experiment(\n",
    "    # seed=3,\n",
    "    model=\"o1-preview-2024-09-12\",\n",
    "    num_repeats_per_dfa=30,\n",
    "    sample_dfa_spec=sample_dfa_spec,\n",
    "    prompter=prompt_by_key[\"Basic\"][\"chat\"],\n",
    "    # print_completions=True,\n",
    "    num_dfas=num_dfas,\n",
    ")"
   ]
  },
  {
   "cell_type": "code",
   "execution_count": 6,
   "id": "63c537fc-af2e-41b8-ba1b-193c956fd0fc",
   "metadata": {},
   "outputs": [],
   "source": [
    "def compute_frac(x):\n",
    "    numer = (np.array(x.success_rate_each) == 1).sum()\n",
    "    denom = (np.array(x.success_rate_each) != 0.5).sum()\n",
    "    return numer, denom\n",
    "\n",
    "\n",
    "def render_frac(x):\n",
    "    numer, denom = compute_frac(x)\n",
    "    return f\"{numer:.0f}/{denom:.0f}\""
   ]
  },
  {
   "cell_type": "code",
   "execution_count": 7,
   "id": "a75c222d-135d-40ac-b80b-05fdd0eb0c9c",
   "metadata": {},
   "outputs": [],
   "source": [
    "table = pd.DataFrame(\n",
    "    {\n",
    "        \"o1-preview\": [render_frac(x) for x in res_o1s],\n",
    "        \"gpt-4o\": [render_frac(x) for x in res_4os],\n",
    "        r\"6-\\textsc{Gram}\": [\n",
    "            f\"{x.kgram_success_rates_each[6 - 2] * 30:.0f}/30\" for x in res_4os\n",
    "        ],\n",
    "    }\n",
    ")"
   ]
  },
  {
   "cell_type": "code",
   "execution_count": 8,
   "id": "e28ca9c0-eccc-4656-99c4-490d0d97b5c5",
   "metadata": {},
   "outputs": [
    {
     "data": {
      "text/html": [
       "<div>\n",
       "<style scoped>\n",
       "    .dataframe tbody tr th:only-of-type {\n",
       "        vertical-align: middle;\n",
       "    }\n",
       "\n",
       "    .dataframe tbody tr th {\n",
       "        vertical-align: top;\n",
       "    }\n",
       "\n",
       "    .dataframe thead th {\n",
       "        text-align: right;\n",
       "    }\n",
       "</style>\n",
       "<table border=\"1\" class=\"dataframe\">\n",
       "  <thead>\n",
       "    <tr style=\"text-align: right;\">\n",
       "      <th></th>\n",
       "      <th>o1-preview</th>\n",
       "      <th>gpt-4o</th>\n",
       "      <th>6-\\textsc{Gram}</th>\n",
       "    </tr>\n",
       "  </thead>\n",
       "  <tbody>\n",
       "    <tr>\n",
       "      <th>0</th>\n",
       "      <td>25/30</td>\n",
       "      <td>27/30</td>\n",
       "      <td>26/30</td>\n",
       "    </tr>\n",
       "    <tr>\n",
       "      <th>1</th>\n",
       "      <td>23/29</td>\n",
       "      <td>24/30</td>\n",
       "      <td>25/30</td>\n",
       "    </tr>\n",
       "    <tr>\n",
       "      <th>2</th>\n",
       "      <td>19/30</td>\n",
       "      <td>23/30</td>\n",
       "      <td>28/30</td>\n",
       "    </tr>\n",
       "    <tr>\n",
       "      <th>3</th>\n",
       "      <td>22/30</td>\n",
       "      <td>23/30</td>\n",
       "      <td>28/30</td>\n",
       "    </tr>\n",
       "    <tr>\n",
       "      <th>4</th>\n",
       "      <td>29/29</td>\n",
       "      <td>30/30</td>\n",
       "      <td>30/30</td>\n",
       "    </tr>\n",
       "    <tr>\n",
       "      <th>5</th>\n",
       "      <td>19/30</td>\n",
       "      <td>24/30</td>\n",
       "      <td>30/30</td>\n",
       "    </tr>\n",
       "    <tr>\n",
       "      <th>6</th>\n",
       "      <td>17/29</td>\n",
       "      <td>23/30</td>\n",
       "      <td>25/30</td>\n",
       "    </tr>\n",
       "    <tr>\n",
       "      <th>7</th>\n",
       "      <td>23/30</td>\n",
       "      <td>25/30</td>\n",
       "      <td>26/30</td>\n",
       "    </tr>\n",
       "    <tr>\n",
       "      <th>8</th>\n",
       "      <td>21/30</td>\n",
       "      <td>28/30</td>\n",
       "      <td>30/30</td>\n",
       "    </tr>\n",
       "    <tr>\n",
       "      <th>9</th>\n",
       "      <td>29/30</td>\n",
       "      <td>29/30</td>\n",
       "      <td>30/30</td>\n",
       "    </tr>\n",
       "  </tbody>\n",
       "</table>\n",
       "</div>"
      ],
      "text/plain": [
       "  o1-preview gpt-4o 6-\\textsc{Gram}\n",
       "0      25/30  27/30           26/30\n",
       "1      23/29  24/30           25/30\n",
       "2      19/30  23/30           28/30\n",
       "3      22/30  23/30           28/30\n",
       "4      29/29  30/30           30/30\n",
       "5      19/30  24/30           30/30\n",
       "6      17/29  23/30           25/30\n",
       "7      23/30  25/30           26/30\n",
       "8      21/30  28/30           30/30\n",
       "9      29/30  29/30           30/30"
      ]
     },
     "execution_count": 8,
     "metadata": {},
     "output_type": "execute_result"
    }
   ],
   "source": [
    "table"
   ]
  },
  {
   "cell_type": "code",
   "execution_count": 9,
   "id": "63e76b1c-d7c5-47b4-8107-d8ac3d96a065",
   "metadata": {},
   "outputs": [],
   "source": [
    "text = \"\"\n",
    "text += r\"\\begin{tabular}{|r|c|c|c|}\" + \"\\n\"\n",
    "text += r\"\\hline\" + \"\\n\"\n",
    "text += \"&\".join([\"DFA\", *table.columns])\n",
    "text += \"\\\\\\\\\\n\"\n",
    "for i, row in table.iterrows():\n",
    "    text += r\"\\hline\" + \"\\n\"\n",
    "    text += \"&\".join([str(i + 1), *row])\n",
    "    text += \"\\\\\\\\\\n\"\n",
    "text += r\"\\hline\" + \"\\n\"\n",
    "text += r\"\\end{tabular}\""
   ]
  },
  {
   "cell_type": "code",
   "execution_count": 10,
   "id": "9c731a84-1cb3-4e7d-a58c-ea6c9539ef0c",
   "metadata": {},
   "outputs": [
    {
     "name": "stdout",
     "output_type": "stream",
     "text": [
      "\\begin{tabular}{|r|c|c|c|}\n",
      "\\hline\n",
      "DFA&o1-preview&gpt-4o&6-\\textsc{Gram}\\\\\n",
      "\\hline\n",
      "1&25/30&27/30&26/30\\\\\n",
      "\\hline\n",
      "2&23/29&24/30&25/30\\\\\n",
      "\\hline\n",
      "3&19/30&23/30&28/30\\\\\n",
      "\\hline\n",
      "4&22/30&23/30&28/30\\\\\n",
      "\\hline\n",
      "5&29/29&30/30&30/30\\\\\n",
      "\\hline\n",
      "6&19/30&24/30&30/30\\\\\n",
      "\\hline\n",
      "7&17/29&23/30&25/30\\\\\n",
      "\\hline\n",
      "8&23/30&25/30&26/30\\\\\n",
      "\\hline\n",
      "9&21/30&28/30&30/30\\\\\n",
      "\\hline\n",
      "10&29/30&29/30&30/30\\\\\n",
      "\\hline\n",
      "\\end{tabular}\n"
     ]
    }
   ],
   "source": [
    "print(text)"
   ]
  },
  {
   "cell_type": "code",
   "execution_count": 11,
   "id": "9e9cd4a6-e73a-4f9b-a5d1-a091e57b47ca",
   "metadata": {},
   "outputs": [
    {
     "data": {
      "text/plain": [
       "array([227, 297])"
      ]
     },
     "execution_count": 11,
     "metadata": {},
     "output_type": "execute_result"
    }
   ],
   "source": [
    "np.array([compute_frac(x) for x in res_o1s]).sum(0)"
   ]
  },
  {
   "cell_type": "code",
   "execution_count": 12,
   "id": "49d981b2-afa8-40df-b523-a911b6b09104",
   "metadata": {},
   "outputs": [
    {
     "data": {
      "text/plain": [
       "array([256, 300])"
      ]
     },
     "execution_count": 12,
     "metadata": {},
     "output_type": "execute_result"
    }
   ],
   "source": [
    "np.array([compute_frac(x) for x in res_4os]).sum(0)"
   ]
  }
 ],
 "metadata": {
  "kernelspec": {
   "display_name": "Python 3 (ipykernel)",
   "language": "python",
   "name": "python3"
  },
  "language_info": {
   "codemirror_mode": {
    "name": "ipython",
    "version": 3
   },
   "file_extension": ".py",
   "mimetype": "text/x-python",
   "name": "python",
   "nbconvert_exporter": "python",
   "pygments_lexer": "ipython3",
   "version": "3.11.9"
  }
 },
 "nbformat": 4,
 "nbformat_minor": 5
}
