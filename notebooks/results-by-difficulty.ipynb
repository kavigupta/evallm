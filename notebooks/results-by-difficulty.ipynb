{
 "cells": [
  {
   "cell_type": "code",
   "execution_count": null,
   "id": "d15afe27",
   "metadata": {},
   "outputs": [],
   "source": [
    "%load_ext autoreload\n",
    "%autoreload 2\n",
    "%load_ext jupyter_black"
   ]
  },
  {
   "cell_type": "code",
   "execution_count": 2,
   "id": "57fe887b-d30f-4c00-acef-3c7a4902ba50",
   "metadata": {},
   "outputs": [],
   "source": [
    "import matplotlib.pyplot as plt\n",
    "from evallm.experiments.transducer_summary import (\n",
    "    transducer_results,\n",
    ")\n",
    "from evallm.experiments.main_tables import best_prompt\n",
    "from evallm.experiments.results_by_difficulty import plot_results_by_difficulty"
   ]
  },
  {
   "cell_type": "code",
   "execution_count": null,
   "id": "11afd4ea-bf36-4eab-8edb-0eed06e6937b",
   "metadata": {},
   "outputs": [],
   "source": [
    "table = best_prompt(transducer_results())"
   ]
  },
  {
   "cell_type": "code",
   "execution_count": null,
   "id": "92703d68-d4f2-4e57-95ff-37335d8cea93",
   "metadata": {},
   "outputs": [],
   "source": [
    "plot_results_by_difficulty(table)\n",
    "plt.savefig(\"../output/results-by-difficulty.png\", dpi=200)"
   ]
  }
 ],
 "metadata": {
  "kernelspec": {
   "display_name": "Python 3 (ipykernel)",
   "language": "python",
   "name": "python3"
  },
  "language_info": {
   "codemirror_mode": {
    "name": "ipython",
    "version": 3
   },
   "file_extension": ".py",
   "mimetype": "text/x-python",
   "name": "python",
   "nbconvert_exporter": "python",
   "pygments_lexer": "ipython3",
   "version": "3.11.9"
  }
 },
 "nbformat": 4,
 "nbformat_minor": 5
}
