{
 "cells": [
  {
   "cell_type": "code",
   "execution_count": 1,
   "id": "d15afe27",
   "metadata": {},
   "outputs": [
    {
     "data": {
      "text/html": [
       "\n",
       "                <script type=\"application/javascript\" id=\"jupyter_black\">\n",
       "                (function() {\n",
       "                    if (window.IPython === undefined) {\n",
       "                        return\n",
       "                    }\n",
       "                    var msg = \"WARNING: it looks like you might have loaded \" +\n",
       "                        \"jupyter_black in a non-lab notebook with \" +\n",
       "                        \"`is_lab=True`. Please double check, and if \" +\n",
       "                        \"loading with `%load_ext` please review the README!\"\n",
       "                    console.log(msg)\n",
       "                    alert(msg)\n",
       "                })()\n",
       "                </script>\n",
       "                "
      ],
      "text/plain": [
       "<IPython.core.display.HTML object>"
      ]
     },
     "metadata": {},
     "output_type": "display_data"
    }
   ],
   "source": [
    "%load_ext autoreload\n",
    "%autoreload 2\n",
    "%load_ext jupyter_black"
   ]
  },
  {
   "cell_type": "code",
   "execution_count": null,
   "id": "57fe887b-d30f-4c00-acef-3c7a4902ba50",
   "metadata": {},
   "outputs": [],
   "source": [
    "import matplotlib.pyplot as plt\n",
    "from evallm.experiments.transducer_summary import (\n",
    "    transducer_results,\n",
    ")\n",
    "from evallm.experiments.main_tables import best_prompt\n",
    "from evallm.experiments.transducer_summary import sample_dfa_spec\n",
    "from evallm.experiments.transducer_experiment import transducer_dataset\n",
    "from evallm.experiments.results_by_difficulty import (\n",
    "    plot_aggregate_results_by_difficulty,\n",
    "    plot_individual_results_by_difficulty,\n",
    ")"
   ]
  },
  {
   "cell_type": "code",
   "execution_count": null,
   "id": "11afd4ea-bf36-4eab-8edb-0eed06e6937b",
   "metadata": {},
   "outputs": [],
   "source": [
    "table = best_prompt(transducer_results())"
   ]
  },
  {
   "cell_type": "code",
   "execution_count": null,
   "id": "92703d68-d4f2-4e57-95ff-37335d8cea93",
   "metadata": {},
   "outputs": [],
   "source": [
    "plot_aggregate_results_by_difficulty(table)\n",
    "plt.savefig(\"../output/results-by-difficulty.png\", dpi=200)"
   ]
  },
  {
   "cell_type": "code",
   "execution_count": null,
   "id": "ac631d99-302b-473e-81d0-35c590dad7ba",
   "metadata": {},
   "outputs": [],
   "source": [
    "data = transducer_dataset(\n",
    "    sample_dfa_spec, num_dfas=1000, num_symbols_per_sequence=30, num_repeat_per_dfa=30\n",
    ")"
   ]
  },
  {
   "cell_type": "code",
   "execution_count": null,
   "id": "b2bf68b1-9d3d-48fd-b1d8-28ed81a4ec34",
   "metadata": {},
   "outputs": [],
   "source": [
    "plot_individual_results_by_difficulty(data)\n",
    "plt.savefig(\"../output/results-by-difficulty-individual.png\", dpi=200)"
   ]
  }
 ],
 "metadata": {
  "kernelspec": {
   "display_name": "Python 3 (ipykernel)",
   "language": "python",
   "name": "python3"
  },
  "language_info": {
   "codemirror_mode": {
    "name": "ipython",
    "version": 3
   },
   "file_extension": ".py",
   "mimetype": "text/x-python",
   "name": "python",
   "nbconvert_exporter": "python",
   "pygments_lexer": "ipython3",
   "version": "3.11.9"
  }
 },
 "nbformat": 4,
 "nbformat_minor": 5
}
