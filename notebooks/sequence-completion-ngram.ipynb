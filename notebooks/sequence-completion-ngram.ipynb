{
 "cells": [
  {
   "cell_type": "code",
   "execution_count": 1,
   "id": "d15afe27",
   "metadata": {},
   "outputs": [
    {
     "data": {
      "text/html": [
       "\n",
       "                <script type=\"application/javascript\" id=\"jupyter_black\">\n",
       "                (function() {\n",
       "                    if (window.IPython === undefined) {\n",
       "                        return\n",
       "                    }\n",
       "                    var msg = \"WARNING: it looks like you might have loaded \" +\n",
       "                        \"jupyter_black in a non-lab notebook with \" +\n",
       "                        \"`is_lab=True`. Please double check, and if \" +\n",
       "                        \"loading with `%load_ext` please review the README!\"\n",
       "                    console.log(msg)\n",
       "                    alert(msg)\n",
       "                })()\n",
       "                </script>\n",
       "                "
      ],
      "text/plain": [
       "<IPython.core.display.HTML object>"
      ]
     },
     "metadata": {},
     "output_type": "display_data"
    }
   ],
   "source": [
    "%load_ext autoreload\n",
    "%autoreload 2\n",
    "%load_ext jupyter_black"
   ]
  },
  {
   "cell_type": "code",
   "execution_count": 2,
   "id": "625808e0",
   "metadata": {},
   "outputs": [],
   "source": [
    "import numpy as np\n",
    "import pandas as pd\n",
    "import matplotlib.pyplot as plt\n",
    "import evallm\n",
    "from automata.fa.dfa import DFA\n",
    "import tqdm.auto as tqdm\n",
    "from evallm.utils.bootstrap import boostrap_mean"
   ]
  },
  {
   "cell_type": "code",
   "execution_count": 3,
   "id": "294c9a50-c317-4a8a-9396-afa17e1e26bb",
   "metadata": {},
   "outputs": [],
   "source": [
    "import itertools\n",
    "from permacache import stable_hash"
   ]
  },
  {
   "cell_type": "code",
   "execution_count": 4,
   "id": "57fe887b-d30f-4c00-acef-3c7a4902ba50",
   "metadata": {},
   "outputs": [],
   "source": [
    "from evallm.prompting.transducer_prompt import (\n",
    "    BasicSequencePrompt,\n",
    "    BasicSequencePromptSlightlyMoreExplanation,\n",
    "    BasicSequencePromptNoChat,\n",
    "    SequencePromptWithExplanation,\n",
    "    SequencePromptWithExplanationChainOfThought,\n",
    "    RedGreenRoomPrompt1,\n",
    ")\n",
    "from evallm.experiments.transducer_experiment import (\n",
    "    current_transducer_experiments,\n",
    "    compute_relative_to_null,\n",
    "    compute_relative_to_ngram,\n",
    "    print_example,\n",
    "    bottom_quartile_outcome,\n",
    "    current_dfa_sample_spec,\n",
    ")\n",
    "from evallm.experiments.transducer_plotting import (\n",
    "    plot_all_absolute_results_single_graph,\n",
    "    plot_absolute_results_barchart,\n",
    ")\n",
    "from evallm.experiments.models_display import model_by_display_key\n",
    "\n",
    "from evallm.experiments.transducer_plotting import (\n",
    "    produce_table,\n",
    ")"
   ]
  },
  {
   "cell_type": "code",
   "execution_count": 5,
   "id": "610b60bd-f733-4ddd-b7c0-59efe659ab9d",
   "metadata": {},
   "outputs": [],
   "source": [
    "from evallm.sample_dfa.sample_dfa import sample_dfa"
   ]
  },
  {
   "cell_type": "code",
   "execution_count": 16,
   "id": "c88e1a29-dde6-4508-9d0f-b179814a010e",
   "metadata": {},
   "outputs": [],
   "source": [
    "from evallm.experiments.sequence_completion.sample_sequences import *\n",
    "from evallm.experiments.sequence_completion.ngram_suffix_heuristic import *\n",
    "from evallm.experiments.sequence_completion.sequence_completion_prompt import *\n",
    "from evallm.experiments.sequence_completion.sequence_completion_experiments import *\n",
    "from evallm.experiments.sequence_completion.sequence_completion_brute_force import *\n",
    "from evallm.experiments.sequence_completion.sequence_completion_experiments import (\n",
    "    get_examples,\n",
    ")"
   ]
  },
  {
   "cell_type": "code",
   "execution_count": 7,
   "id": "8664292e-0c1c-40e3-9a1d-4761d4d648a2",
   "metadata": {},
   "outputs": [
    {
     "data": {
      "text/plain": [
       "<function evallm.experiments.sequence_completion.ngram_suffix_heuristic.multiple_ngrams(sequences, prefix)>"
      ]
     },
     "execution_count": 7,
     "metadata": {},
     "output_type": "execute_result"
    }
   ],
   "source": [
    "multiple_ngrams"
   ]
  },
  {
   "cell_type": "code",
   "execution_count": 8,
   "id": "d109dfca-99d4-4c22-83d0-e854f460fc4c",
   "metadata": {},
   "outputs": [],
   "source": [
    "spec = current_dfa_sample_spec(3)"
   ]
  },
  {
   "cell_type": "code",
   "execution_count": 9,
   "id": "90fc9d9d-b8c1-40d4-89e1-d0993d3c348f",
   "metadata": {},
   "outputs": [],
   "source": [
    "setting = lambda num_sequence_symbols: dict(\n",
    "    dfa_spec=spec,\n",
    "    num_sequences=30,\n",
    "    num_sequence_symbols=num_sequence_symbols,\n",
    "    num_sequence_symbols_prompt=num_sequence_symbols // 2,\n",
    "    num_instances=100,\n",
    ")"
   ]
  },
  {
   "cell_type": "code",
   "execution_count": 10,
   "id": "07584664-536c-4824-b3fb-2a3bf28d05e3",
   "metadata": {},
   "outputs": [],
   "source": [
    "current_setting = "
   ]
  },
  {
   "cell_type": "code",
   "execution_count": 22,
   "id": "4de5a979-717c-4e57-8642-0f3e823b4367",
   "metadata": {},
   "outputs": [
    {
     "data": {
      "text/plain": [
       "[np.float64(0.8024),\n",
       " np.float64(0.858),\n",
       " np.float64(0.8934000000000001),\n",
       " np.float64(0.9133999999999999)]"
      ]
     },
     "execution_count": 22,
     "metadata": {},
     "output_type": "execute_result"
    }
   ],
   "source": []
  },
  {
   "cell_type": "code",
   "execution_count": 24,
   "id": "1495c90c-4508-4b9a-9844-9e87ec1ce9f6",
   "metadata": {},
   "outputs": [
    {
     "data": {
      "text/plain": [
       "[np.float64(0.8263000000000001),\n",
       " np.float64(0.87),\n",
       " np.float64(0.9015000000000001),\n",
       " np.float64(0.9152),\n",
       " np.float64(0.9203)]"
      ]
     },
     "execution_count": 24,
     "metadata": {},
     "output_type": "execute_result"
    }
   ],
   "source": [
    "[np.mean(compute_true_ngrams(ngram, 100, setting(10))) for ngram in (2, 3, 4, 5, 6)]"
   ]
  },
  {
   "cell_type": "code",
   "execution_count": 13,
   "id": "a0640925-5d6f-495e-8230-3e7dfe3a5391",
   "metadata": {},
   "outputs": [
    {
     "data": {
      "application/vnd.jupyter.widget-view+json": {
       "model_id": "b7aa9b60566e4f859458ea36a8186d09",
       "version_major": 2,
       "version_minor": 0
      },
      "text/plain": [
       "  0%|          | 0/100 [00:00<?, ?it/s]"
      ]
     },
     "metadata": {},
     "output_type": "display_data"
    }
   ],
   "source": [
    "prefix_heuristic = np.array(\n",
    "    [\n",
    "        compute_ngram_score(\n",
    "            seed, setting=current_setting, function=ngram_heuristic_with_prefix\n",
    "        )\n",
    "        for seed in tqdm.trange(100)\n",
    "    ]\n",
    ")"
   ]
  },
  {
   "cell_type": "code",
   "execution_count": 12,
   "id": "60decc47-dc02-4566-874a-5bd7e498c47d",
   "metadata": {},
   "outputs": [
    {
     "data": {
      "application/vnd.jupyter.widget-view+json": {
       "model_id": "07764670d0ff461c856052acd6f297d0",
       "version_major": 2,
       "version_minor": 0
      },
      "text/plain": [
       "  0%|          | 0/100 [00:00<?, ?it/s]"
      ]
     },
     "metadata": {},
     "output_type": "display_data"
    }
   ],
   "source": [
    "ngrams_5 = np.array(\n",
    "    [\n",
    "        compute_ngram_score(\n",
    "            seed,\n",
    "            setting=current_setting,\n",
    "            function=,\n",
    "        )\n",
    "        for seed in tqdm.trange(100)\n",
    "    ]\n",
    ")"
   ]
  },
  {
   "cell_type": "code",
   "execution_count": 14,
   "id": "07a234f5-9f9a-4ed2-9ce3-e6ad64b9040b",
   "metadata": {
    "scrolled": true
   },
   "outputs": [
    {
     "data": {
      "text/plain": [
       "np.float64(0.9127)"
      ]
     },
     "execution_count": 14,
     "metadata": {},
     "output_type": "execute_result"
    }
   ],
   "source": [
    "np.mean(prefix_heuristic)"
   ]
  },
  {
   "cell_type": "code",
   "execution_count": 15,
   "id": "0e46395b-bf62-4225-9aaf-ce953e3c3bf2",
   "metadata": {},
   "outputs": [
    {
     "data": {
      "text/plain": [
       "np.float64(0.9133999999999999)"
      ]
     },
     "execution_count": 15,
     "metadata": {},
     "output_type": "execute_result"
    }
   ],
   "source": [
    "np.mean(ngrams_5)"
   ]
  },
  {
   "cell_type": "code",
   "execution_count": 16,
   "id": "5dc10e45-ca2c-4753-b9a9-47a3136b8bbc",
   "metadata": {},
   "outputs": [
    {
     "data": {
      "text/plain": [
       "0.8292999999999999"
      ]
     },
     "execution_count": 16,
     "metadata": {},
     "output_type": "execute_result"
    }
   ],
   "source": [
    "0.8292999999999999"
   ]
  },
  {
   "cell_type": "code",
   "execution_count": null,
   "id": "3f79cce1-d6fb-43e0-ad9f-7f6c8d57a788",
   "metadata": {},
   "outputs": [],
   "source": []
  },
  {
   "cell_type": "code",
   "execution_count": 12,
   "id": "92397fd5-dd5b-4be3-9bb7-daeb92c327b2",
   "metadata": {},
   "outputs": [],
   "source": [
    "from evallm.enumerate_dfa.enumerate import enumerate_packed_dfas_no_permutations\n",
    "from evallm.enumerate_dfa.pack_dfa import *"
   ]
  },
  {
   "cell_type": "code",
   "execution_count": 81,
   "id": "30f95caa-abab-4170-a28f-dbea3fb88ad7",
   "metadata": {
    "scrolled": true
   },
   "outputs": [
    {
     "data": {
      "application/vnd.jupyter.widget-view+json": {
       "model_id": "3a9e677cbce74072b08201cdd7add89f",
       "version_major": 2,
       "version_minor": 0
      },
      "text/plain": [
       "  0%|          | 0/30 [00:00<?, ?it/s]"
      ]
     },
     "metadata": {},
     "output_type": "display_data"
    },
    {
     "data": {
      "application/vnd.jupyter.widget-view+json": {
       "model_id": "c051b41779264ee8a84a20fa3032a992",
       "version_major": 2,
       "version_minor": 0
      },
      "text/plain": [
       "  0%|          | 0/81 [00:00<?, ?it/s]"
      ]
     },
     "metadata": {},
     "output_type": "display_data"
    }
   ],
   "source": [
    "sample_dfas = 1000\n",
    "\n"
   ]
  },
  {
   "cell_type": "code",
   "execution_count": 84,
   "id": "de366313-dd96-4973-9f52-bed23dc8f14c",
   "metadata": {},
   "outputs": [
    {
     "data": {
      "text/plain": [
       "(['a', 'a', 'c', 'a'], np.float64(1.0))"
      ]
     },
     "execution_count": 84,
     "metadata": {},
     "output_type": "execute_result"
    }
   ],
   "source": []
  },
  {
   "cell_type": "code",
   "execution_count": 70,
   "id": "30613ff9-27cd-4b16-9513-d4c170f58060",
   "metadata": {},
   "outputs": [],
   "source": [
    "if len(relevant_dfas) > sample_dfas:\n",
    "    sampled_dfas = [\n",
    "        relevant_dfas[i]\n",
    "        for i in np.random.RandomState(0).choice(\n",
    "            len(relevant_dfas), size=sample_dfas, replace=False\n",
    "        )\n",
    "    ]\n",
    "else:\n",
    "    sampled_dfas = relevant_dfas"
   ]
  },
  {
   "cell_type": "code",
   "execution_count": 71,
   "id": "da50c1f5-38c3-41e0-b425-1ebd1e2e5eae",
   "metadata": {},
   "outputs": [],
   "source": []
  },
  {
   "cell_type": "code",
   "execution_count": 76,
   "id": "8ee2aaa3-e9dc-4d7d-9776-02ce102cc965",
   "metadata": {
    "scrolled": true
   },
   "outputs": [
    {
     "data": {
      "application/vnd.jupyter.widget-view+json": {
       "model_id": "c6ef1431b9db48c29e73b6d8dbeef14f",
       "version_major": 2,
       "version_minor": 0
      },
      "text/plain": [
       "  0%|          | 0/81 [00:00<?, ?it/s]"
      ]
     },
     "metadata": {},
     "output_type": "display_data"
    },
    {
     "name": "stdout",
     "output_type": "stream",
     "text": [
      "CPU times: user 4.16 s, sys: 40.8 ms, total: 4.2 s\n",
      "Wall time: 4.65 s\n"
     ]
    },
    {
     "data": {
      "text/plain": [
       "[np.float64(0.9973087818696884),\n",
       " np.float64(0.9990084985835694),\n",
       " np.float64(0.9969546742209632),\n",
       " np.float64(0.9995042492917847),\n",
       " np.float64(0.9997167138810198),\n",
       " np.float64(0.9912181303116148),\n",
       " np.float64(0.9987252124645892),\n",
       " np.float64(0.9996458923512748),\n",
       " np.float64(0.9986543909348442),\n",
       " np.float64(0.9992209631728045),\n",
       " np.float64(0.9992209631728045),\n",
       " np.float64(0.9952549575070821),\n",
       " np.float64(0.9996458923512748),\n",
       " np.float64(0.9997167138810198),\n",
       " np.float64(0.9947592067988669),\n",
       " np.float64(0.9995042492917847),\n",
       " np.float64(0.9997875354107649),\n",
       " np.float64(0.9973087818696884),\n",
       " np.float64(0.9980878186968839),\n",
       " np.float64(0.9990793201133145),\n",
       " np.float64(0.9968130311614731),\n",
       " np.float64(0.99985835694051),\n",
       " np.float64(0.9997167138810198),\n",
       " np.float64(0.99171388101983),\n",
       " np.float64(0.99985835694051),\n",
       " np.float64(0.9997875354107649),\n",
       " np.float64(0.9992209631728045),\n",
       " np.float64(0.9995042492917847),\n",
       " np.float64(0.9993626062322947),\n",
       " np.float64(0.9951133144475921),\n",
       " np.float64(0.9994334277620397),\n",
       " np.float64(0.99985835694051),\n",
       " np.float64(0.9920679886685553),\n",
       " np.float64(0.998441926345609),\n",
       " np.float64(0.9997875354107649),\n",
       " np.float64(0.9978753541076487),\n",
       " np.float64(0.9997167138810198),\n",
       " np.float64(0.99985835694051),\n",
       " np.float64(0.996600566572238),\n",
       " np.float64(0.99985835694051),\n",
       " np.float64(0.9997167138810198),\n",
       " np.float64(0.9912889518413598),\n",
       " np.float64(0.9997167138810198),\n",
       " np.float64(1.0),\n",
       " np.float64(0.9981586402266289),\n",
       " np.float64(0.9997167138810198),\n",
       " np.float64(0.99985835694051),\n",
       " np.float64(0.9956090651558074),\n",
       " np.float64(1.0),\n",
       " np.float64(0.99985835694051),\n",
       " np.float64(0.9952549575070821),\n",
       " np.float64(0.9995042492917847),\n",
       " np.float64(1.0),\n",
       " np.float64(0.9949716713881019),\n",
       " np.float64(0.9987252124645892),\n",
       " np.float64(0.9993626062322947),\n",
       " np.float64(0.9970963172804532),\n",
       " np.float64(0.9995750708215297),\n",
       " np.float64(0.99985835694051),\n",
       " np.float64(0.9909348441926346),\n",
       " np.float64(0.9985127478753542),\n",
       " np.float64(0.9996458923512748),\n",
       " np.float64(0.9990084985835694),\n",
       " np.float64(0.99985835694051),\n",
       " np.float64(0.999929178470255),\n",
       " np.float64(0.9958215297450425),\n",
       " np.float64(0.99985835694051),\n",
       " np.float64(0.99985835694051),\n",
       " np.float64(0.9949008498583569),\n",
       " np.float64(0.9997875354107649),\n",
       " np.float64(0.99985835694051),\n",
       " np.float64(0.9973796033994334),\n",
       " np.float64(0.9995750708215297),\n",
       " np.float64(0.9997167138810198),\n",
       " np.float64(0.9973796033994334),\n",
       " np.float64(0.999929178470255),\n",
       " np.float64(1.0),\n",
       " np.float64(0.9917847025495751),\n",
       " np.float64(0.9997875354107649),\n",
       " np.float64(0.9997875354107649),\n",
       " np.float64(0.9988668555240793)]"
      ]
     },
     "execution_count": 76,
     "metadata": {},
     "output_type": "execute_result"
    }
   ],
   "source": [
    "%time "
   ]
  },
  {
   "cell_type": "code",
   "execution_count": 10,
   "id": "f53cff6c-b3b6-408d-9962-7cf24157a388",
   "metadata": {
    "scrolled": true
   },
   "outputs": [],
   "source": [
    "# def eg(seed, num_sequence_symbols):\n",
    "#     rng = np.random.RandomState(seed)\n",
    "#     return sample_sequence_completion_problem(\n",
    "#         rng, **setting(num_sequence_symbols), try_limit=50\n",
    "#     )\n",
    "\n",
    "\n",
    "# def attempt(seed, num_sequence_symbols):\n",
    "#     dfa, sequences_prefixes = eg(seed, num_sequence_symbols)\n",
    "#     result = []\n",
    "#     for sequences, prefix in sequences_prefixes:\n",
    "#         out = ngram_heuristic(sequences, prefix)\n",
    "#         result += [dfa.accepts_input(prefix + out)]\n",
    "#     return np.mean(result)"
   ]
  },
  {
   "cell_type": "code",
   "execution_count": 11,
   "id": "70318f18-7b4e-4b71-9ed4-83cca3e3e237",
   "metadata": {},
   "outputs": [],
   "source": [
    "# np.mean([attempt(i, 30) for i in tqdm.trange(100)])"
   ]
  },
  {
   "cell_type": "code",
   "execution_count": 12,
   "id": "592c0ed4-6091-4e68-bb35-9044624831e1",
   "metadata": {},
   "outputs": [],
   "source": [
    "prompts_by_key = {\n",
    "    \"Basic\": SequencePromptDirectAlien.for_setting,\n",
    "    \"Basic-Space\": SequencePromptDirectAlienWithSpaces.for_setting,\n",
    "}"
   ]
  },
  {
   "cell_type": "code",
   "execution_count": 13,
   "id": "2710d0bd-b9b0-4d05-adb5-dc4a37452975",
   "metadata": {},
   "outputs": [],
   "source": [
    "def for_model(model, count, *prompts):\n",
    "    return {\n",
    "        model: {\n",
    "            prompt: compute_model_scores(\n",
    "                count,\n",
    "                current_setting,\n",
    "                model_by_display_key[model],\n",
    "                prompts_by_key[prompt],\n",
    "            )\n",
    "            for prompt in prompts\n",
    "        }\n",
    "    }"
   ]
  },
  {
   "cell_type": "code",
   "execution_count": null,
   "id": "276e5d67-30a5-420f-94b3-482b19506305",
   "metadata": {},
   "outputs": [
    {
     "data": {
      "application/vnd.jupyter.widget-view+json": {
       "model_id": "5a0f48a4cf6149d4baf48dfb36668083",
       "version_major": 2,
       "version_minor": 0
      },
      "text/plain": [
       "  0%|          | 0/1000 [00:00<?, ?it/s]"
      ]
     },
     "metadata": {},
     "output_type": "display_data"
    }
   ],
   "source": [
    "results = {\n",
    "    **for_model(\"mistral-nemo-minitron-8B\", 1000, \"Basic\", \"Basic-Space\"),\n",
    "    **for_model(\"gpt-4o-mini\", 100, \"Basic\", \"Basic-Space\"),\n",
    "}"
   ]
  },
  {
   "cell_type": "code",
   "execution_count": null,
   "id": "f91904ce-02cb-4f0c-a52c-64b5cd053041",
   "metadata": {},
   "outputs": [],
   "source": [
    "results[r\"\\textsc{Random}\"] = {\n",
    "    \"Basic\": compute_random_baseline_scores(1000, setting=setting(8))\n",
    "}\n",
    "results[rf\"$n$-\\textsc{{Gram-Heuristic}}\"] = {\n",
    "    \"Basic\": compute_ngram_scores(1000, setting=setting(8))\n",
    "}"
   ]
  },
  {
   "cell_type": "code",
   "execution_count": null,
   "id": "9d8500b8-7569-4592-8573-dd7bd3c96029",
   "metadata": {},
   "outputs": [],
   "source": [
    "produce_table(results, list(prompts_by_key))"
   ]
  },
  {
   "cell_type": "code",
   "execution_count": 65,
   "id": "2db2d832-c645-4f1d-bae3-2c83db40eb09",
   "metadata": {},
   "outputs": [],
   "source": [
    "def agg(xs):\n",
    "    xs = np.array(xs) * 100\n",
    "    lo, hi = boostrap_mean(xs)\n",
    "    return f\"{np.mean(xs):.1f} ({lo:.1f}-{hi:.1f})\""
   ]
  },
  {
   "cell_type": "code",
   "execution_count": 80,
   "id": "1ad56286-c25f-46d4-9ccc-6638d9d815da",
   "metadata": {},
   "outputs": [
    {
     "data": {
      "text/plain": [
       "'83.3 (81.8-84.8)'"
      ]
     },
     "execution_count": 80,
     "metadata": {},
     "output_type": "execute_result"
    }
   ],
   "source": [
    "agg()"
   ]
  },
  {
   "cell_type": "code",
   "execution_count": 117,
   "id": "f7d3411a-5745-4060-bda6-ddea5215c1a9",
   "metadata": {
    "scrolled": true
   },
   "outputs": [],
   "source": [
    "# agg(\n",
    "#     compute_model_scores(\n",
    "#         1000,\n",
    "#         setting(8),\n",
    "#         \"nvidia/Mistral-NeMo-Minitron-8B-Base\",\n",
    "#         SequencePromptDirectAlien.for_setting,\n",
    "#     )\n",
    "# )"
   ]
  },
  {
   "cell_type": "code",
   "execution_count": 72,
   "id": "162610c7-390d-4f3f-9ddc-653fd0b612f5",
   "metadata": {},
   "outputs": [
    {
     "data": {
      "text/plain": [
       "'76.9 (73.8-79.6)'"
      ]
     },
     "execution_count": 72,
     "metadata": {},
     "output_type": "execute_result"
    }
   ],
   "source": [
    "# agg(\n",
    "#     compute_model_scores(\n",
    "#         100,\n",
    "#         setting(8),\n",
    "#         \"nvidia/Mistral-NeMo-Minitron-8B-Base\",\n",
    "#         SequencePromptDirectAlienWithSpaces.for_setting,\n",
    "#     )\n",
    "# )"
   ]
  },
  {
   "cell_type": "code",
   "execution_count": 75,
   "id": "c1b879aa-7a47-4966-bbbb-ff6507e0b212",
   "metadata": {},
   "outputs": [
    {
     "data": {
      "text/plain": [
       "'68.6 (65.3-72.0)'"
      ]
     },
     "execution_count": 75,
     "metadata": {},
     "output_type": "execute_result"
    }
   ],
   "source": [
    "# agg(\n",
    "#     compute_model_scores(\n",
    "#         100,\n",
    "#         setting(8),\n",
    "#         \"gpt-4o-mini-2024-07-18\",\n",
    "#         SequencePromptDirectAlien.for_setting,\n",
    "#     )\n",
    "# )"
   ]
  },
  {
   "cell_type": "code",
   "execution_count": 81,
   "id": "2f2704c6-b4be-4bc9-b38c-7f3c3f0ac374",
   "metadata": {},
   "outputs": [
    {
     "data": {
      "text/plain": [
       "'66.1 (62.5-70.1)'"
      ]
     },
     "execution_count": 81,
     "metadata": {},
     "output_type": "execute_result"
    }
   ],
   "source": [
    "# agg(\n",
    "#     compute_model_scores(\n",
    "#         100,\n",
    "#         setting(8),\n",
    "#         \"gpt-4o-mini-2024-07-18\",\n",
    "#         SequencePromptDirectAlienWithSpaces.for_setting,\n",
    "#     )\n",
    "# )"
   ]
  },
  {
   "cell_type": "code",
   "execution_count": null,
   "id": "55a9ccd7-b6e0-4f45-bdad-54a0d5556b81",
   "metadata": {},
   "outputs": [],
   "source": []
  }
 ],
 "metadata": {
  "kernelspec": {
   "display_name": "Python 3 (ipykernel)",
   "language": "python",
   "name": "python3"
  },
  "language_info": {
   "codemirror_mode": {
    "name": "ipython",
    "version": 3
   },
   "file_extension": ".py",
   "mimetype": "text/x-python",
   "name": "python",
   "nbconvert_exporter": "python",
   "pygments_lexer": "ipython3",
   "version": "3.11.9"
  }
 },
 "nbformat": 4,
 "nbformat_minor": 5
}
