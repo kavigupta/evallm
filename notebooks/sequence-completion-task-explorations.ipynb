{
 "cells": [
  {
   "cell_type": "code",
   "execution_count": 1,
   "id": "d15afe27",
   "metadata": {},
   "outputs": [
    {
     "data": {
      "text/html": [
       "\n",
       "                <script type=\"application/javascript\" id=\"jupyter_black\">\n",
       "                (function() {\n",
       "                    if (window.IPython === undefined) {\n",
       "                        return\n",
       "                    }\n",
       "                    var msg = \"WARNING: it looks like you might have loaded \" +\n",
       "                        \"jupyter_black in a non-lab notebook with \" +\n",
       "                        \"`is_lab=True`. Please double check, and if \" +\n",
       "                        \"loading with `%load_ext` please review the README!\"\n",
       "                    console.log(msg)\n",
       "                    alert(msg)\n",
       "                })()\n",
       "                </script>\n",
       "                "
      ],
      "text/plain": [
       "<IPython.core.display.HTML object>"
      ]
     },
     "metadata": {},
     "output_type": "display_data"
    }
   ],
   "source": [
    "%load_ext autoreload\n",
    "%autoreload 2\n",
    "%load_ext jupyter_black"
   ]
  },
  {
   "cell_type": "code",
   "execution_count": 2,
   "id": "57fe887b-d30f-4c00-acef-3c7a4902ba50",
   "metadata": {},
   "outputs": [],
   "source": [
    "from evallm.experiments.sequence_completion_summary import (\n",
    "    results_for_models,\n",
    "    results_for_baseline,\n",
    "    prompts_by_key,\n",
    ")\n",
    "\n",
    "from evallm.experiments.models_display import model_by_display_key\n",
    "\n",
    "from evallm.experiments.transducer_plotting import produce_table"
   ]
  },
  {
   "cell_type": "code",
   "execution_count": 3,
   "id": "ea06d090-cd59-42b0-b480-7ae34bd78386",
   "metadata": {},
   "outputs": [],
   "source": [
    "results = {**results_for_models(), **results_for_baseline()}"
   ]
  },
  {
   "cell_type": "code",
   "execution_count": 4,
   "id": "b75bf411-a272-407d-ae7c-b564b00162f7",
   "metadata": {},
   "outputs": [],
   "source": [
    "def display_prompt(p):\n",
    "    return rf\"\\textsc{{{p}}}$_S$\""
   ]
  },
  {
   "cell_type": "code",
   "execution_count": 5,
   "id": "ce54f9c8-89b4-4f50-adb0-1d34a6791243",
   "metadata": {},
   "outputs": [],
   "source": [
    "results_nested = {m: {} for m, _ in results}\n",
    "for m, p in results:\n",
    "    results_nested[m][display_prompt(p)] = results[m, p]"
   ]
  },
  {
   "cell_type": "code",
   "execution_count": 6,
   "id": "9d8500b8-7569-4592-8573-dd7bd3c96029",
   "metadata": {
    "scrolled": true
   },
   "outputs": [
    {
     "name": "stdout",
     "output_type": "stream",
     "text": [
      "\\begin{tabular}{|r|c|c|c|c|}\n",
      "\\hline\n",
      "Model & \\textsc{Basic}$_S$ & \\textsc{More-Expl}$_S$ & \\textsc{COT}$_S$ & \\textsc{Red-Green}$_S$\\\\\n",
      "\\hline\n",
      "\\cellcolor{lightgray}$\\textsc{BruteForce}_S$ &\\cellcolor{lightgray}100.0 (99.9--100.0)&--&--&--\\\\\n",
      "\\hline\n",
      "\\bf 6-$\\textsc{Gram}_S$ &\\bf 91.7 (91.0--92.4)&--&--&--\\\\\n",
      "\\hline\n",
      "5-$\\textsc{Gram}_S$ &91.2 (90.4--91.9)&--&--&--\\\\\n",
      "\\hline\n",
      "4-$\\textsc{Gram}_S$ &89.6 (88.7--90.4)&--&--&--\\\\\n",
      "\\hline\n",
      "3-$\\textsc{Gram}_S$ &87.0 (86.1--87.8)&--&--&--\\\\\n",
      "\\hline\n",
      "\\textsc{Common-Suffix}$_S$ &84.7 (83.6--85.6)&--&--&--\\\\\n",
      "\\hline\n",
      "claude-3.5 &N/A&N/A&84.0 (79.3--88.4)&80.0 (74.9--85.2)\\\\\n",
      "\\hline\n",
      "2-$\\textsc{Gram}_S$ &83.3 (82.2--84.2)&--&--&--\\\\\n",
      "\\hline\n",
      "qwen-2.5-coder-7B &79.5 (78.4--80.5)&--&--&--\\\\\n",
      "\\hline\n",
      "qwen-2.5-coder-instruct-7B &79.5 (78.3--80.5)&--&--&--\\\\\n",
      "\\hline\n",
      "qwen-2.5-coder-instruct-32B &79.2 (78.0--80.3)&--&--&--\\\\\n",
      "\\hline\n",
      "mistral-nemo-minitron-8B &78.7 (77.5--79.8)&--&--&--\\\\\n",
      "\\hline\n",
      "codestral-22B &78.0 (76.8--79.1)&--&--&--\\\\\n",
      "\\hline\n",
      "deepseek-coder-33b-instruct &76.7 (75.3--77.8)&--&--&--\\\\\n",
      "\\hline\n",
      "mistral-nemo-base-12B &75.5 (74.3--76.6)&--&--&--\\\\\n",
      "\\hline\n",
      "llama3.1-8B-Instruct &75.3 (74.0--76.6)&--&--&--\\\\\n",
      "\\hline\n",
      "gpt-4o &72.1 (65.9--78.2)&N/A&67.4 (60.8--73.8)&74.4 (69.9--78.6)\\\\\n",
      "\\hline\n",
      "llama3-8B &73.8 (72.4--75.1)&--&--&--\\\\\n",
      "\\hline\n",
      "starcoder2-15b &73.5 (72.0--74.7)&--&--&--\\\\\n",
      "\\hline\n",
      "gemma-7b &72.6 (71.3--73.7)&--&--&--\\\\\n",
      "\\hline\n",
      "gpt-4o-mini &72.4 (68.1--76.3)&70.5 (66.4--74.6)&58.0 (53.4--62.4)&59.1 (54.9--63.2)\\\\\n",
      "\\hline\n",
      "mistral-nemo-instruct-12B &72.2 (70.9--73.4)&--&--&--\\\\\n",
      "\\hline\n",
      "llama3-70B &71.4 (70.0--72.7)&--&--&--\\\\\n",
      "\\hline\n",
      "falcon-7b &69.0 (67.6--70.2)&--&--&--\\\\\n",
      "\\hline\n",
      "gpt-3.5-instruct &67.3 (63.1--71.5)&--&--&--\\\\\n",
      "\\hline\n",
      "\\textsc{Random}$_S$ &53.3 (51.7--54.7)&--&--&--\\\\\n",
      "\\hline\n",
      "gpt-3.5-chat &N/A&--&--&--\\\\\n",
      "\\hline\n",
      "\\end{tabular}\n"
     ]
    }
   ],
   "source": [
    "produce_table(\n",
    "    results_nested, [display_prompt(p) for p in prompts_by_key if \"Commas\" not in p]\n",
    ")"
   ]
  },
  {
   "cell_type": "code",
   "execution_count": 7,
   "id": "58a7bef5-2314-4760-9e7f-f3d8ae7cf610",
   "metadata": {
    "scrolled": true
   },
   "outputs": [
    {
     "name": "stdout",
     "output_type": "stream",
     "text": [
      "\\begin{tabular}{|r|c|c|}\n",
      "\\hline\n",
      "Model & \\textsc{Basic}$_S$ & \\textsc{Basic-Commas}$_S$\\\\\n",
      "\\hline\n",
      "\\bf qwen-2.5-coder-7B &\\bf 79.5 (78.4--80.5)&\\bf 60.7 (59.3--62.1)\\\\\n",
      "\\hline\n",
      "qwen-2.5-coder-instruct-7B &79.5 (78.3--80.5)&55.5 (54.0--56.9)\\\\\n",
      "\\hline\n",
      "qwen-2.5-coder-instruct-32B &79.2 (78.0--80.3)&55.2 (53.7--56.7)\\\\\n",
      "\\hline\n",
      "mistral-nemo-minitron-8B &78.7 (77.5--79.8)&59.3 (57.9--60.8)\\\\\n",
      "\\hline\n",
      "codestral-22B &78.0 (76.8--79.1)&59.0 (57.5--60.3)\\\\\n",
      "\\hline\n",
      "deepseek-coder-33b-instruct &76.7 (75.3--77.8)&54.9 (53.0--56.8)\\\\\n",
      "\\hline\n",
      "mistral-nemo-base-12B &75.5 (74.3--76.6)&60.6 (59.1--62.2)\\\\\n",
      "\\hline\n",
      "llama3.1-8B-Instruct &75.3 (74.0--76.6)&56.3 (54.4--58.1)\\\\\n",
      "\\hline\n",
      "llama3-8B &73.8 (72.4--75.1)&61.5 (60.2--62.9)\\\\\n",
      "\\hline\n",
      "starcoder2-15b &73.5 (72.0--74.7)&58.2 (56.7--59.8)\\\\\n",
      "\\hline\n",
      "gemma-7b &72.6 (71.3--73.7)&54.0 (51.9--56.0)\\\\\n",
      "\\hline\n",
      "gpt-4o-mini &72.4 (68.1--76.3)&64.1 (59.5--68.3)\\\\\n",
      "\\hline\n",
      "mistral-nemo-instruct-12B &72.2 (70.9--73.4)&58.2 (56.4--59.8)\\\\\n",
      "\\hline\n",
      "gpt-4o &72.1 (65.9--78.2)&66.8 (58.5--74.8)\\\\\n",
      "\\hline\n",
      "llama3-70B &71.4 (70.0--72.7)&56.4 (54.7--58.0)\\\\\n",
      "\\hline\n",
      "falcon-7b &69.0 (67.6--70.2)&56.1 (54.5--57.6)\\\\\n",
      "\\hline\n",
      "gpt-3.5-instruct &67.3 (63.1--71.5)&52.3 (46.5--57.9)\\\\\n",
      "\\hline\n",
      "claude-3.5 &N/A&N/A\\\\\n",
      "\\hline\n",
      "gpt-3.5-chat &N/A&N/A\\\\\n",
      "\\hline\n",
      "\\end{tabular}\n"
     ]
    }
   ],
   "source": [
    "produce_table(\n",
    "    {k: v for k, v in results_nested.items() if k in model_by_display_key},\n",
    "    [display_prompt(p) for p in prompts_by_key if \"Basic\" in p],\n",
    ")"
   ]
  },
  {
   "cell_type": "code",
   "execution_count": null,
   "id": "098b4bb4-e67b-4c30-aae1-f01478ec4202",
   "metadata": {},
   "outputs": [],
   "source": []
  }
 ],
 "metadata": {
  "kernelspec": {
   "display_name": "Python 3 (ipykernel)",
   "language": "python",
   "name": "python3"
  },
  "language_info": {
   "codemirror_mode": {
    "name": "ipython",
    "version": 3
   },
   "file_extension": ".py",
   "mimetype": "text/x-python",
   "name": "python",
   "nbconvert_exporter": "python",
   "pygments_lexer": "ipython3",
   "version": "3.11.9"
  }
 },
 "nbformat": 4,
 "nbformat_minor": 5
}
