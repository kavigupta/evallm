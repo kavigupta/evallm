{
 "cells": [
  {
   "cell_type": "code",
   "execution_count": 1,
   "id": "d15afe27",
   "metadata": {},
   "outputs": [
    {
     "data": {
      "text/html": [
       "\n",
       "                <script type=\"application/javascript\" id=\"jupyter_black\">\n",
       "                (function() {\n",
       "                    if (window.IPython === undefined) {\n",
       "                        return\n",
       "                    }\n",
       "                    var msg = \"WARNING: it looks like you might have loaded \" +\n",
       "                        \"jupyter_black in a non-lab notebook with \" +\n",
       "                        \"`is_lab=True`. Please double check, and if \" +\n",
       "                        \"loading with `%load_ext` please review the README!\"\n",
       "                    console.log(msg)\n",
       "                    alert(msg)\n",
       "                })()\n",
       "                </script>\n",
       "                "
      ],
      "text/plain": [
       "<IPython.core.display.HTML object>"
      ]
     },
     "metadata": {},
     "output_type": "display_data"
    }
   ],
   "source": [
    "%load_ext autoreload\n",
    "%autoreload 2\n",
    "%load_ext jupyter_black"
   ]
  },
  {
   "cell_type": "code",
   "execution_count": 2,
   "id": "57fe887b-d30f-4c00-acef-3c7a4902ba50",
   "metadata": {},
   "outputs": [],
   "source": [
    "from evallm.experiments.transducer_experiment import (\n",
    "    current_dfa_sample_spec,\n",
    ")\n",
    "\n",
    "from evallm.experiments.models_display import model_by_display_key\n",
    "\n",
    "from evallm.experiments.transducer_plotting import produce_table"
   ]
  },
  {
   "cell_type": "code",
   "execution_count": 3,
   "id": "c88e1a29-dde6-4508-9d0f-b179814a010e",
   "metadata": {},
   "outputs": [],
   "source": [
    "from evallm.experiments.sequence_completion.sequence_completion_prompt import (\n",
    "    SequencePromptDirectAlien,\n",
    "    SequencePromptDirectAlienWithSpaces,\n",
    ")\n",
    "\n",
    "from evallm.experiments.sequence_completion.sequence_completion_experiments import (\n",
    "    compute_model_scores,\n",
    "    compute_ngram_scores,\n",
    "    compute_ngram_scores_with_prefix,\n",
    "    compute_random_baseline_scores,\n",
    "    compute_brute_force_scores,\n",
    ")"
   ]
  },
  {
   "cell_type": "code",
   "execution_count": 4,
   "id": "d109dfca-99d4-4c22-83d0-e854f460fc4c",
   "metadata": {},
   "outputs": [],
   "source": [
    "spec = current_dfa_sample_spec(3)"
   ]
  },
  {
   "cell_type": "code",
   "execution_count": 5,
   "id": "90fc9d9d-b8c1-40d4-89e1-d0993d3c348f",
   "metadata": {},
   "outputs": [],
   "source": [
    "num_sequence_symbols = 8\n",
    "current_setting = dict(\n",
    "    dfa_spec=spec,\n",
    "    num_sequences=30,\n",
    "    num_sequence_symbols=num_sequence_symbols,\n",
    "    num_sequence_symbols_prompt=num_sequence_symbols // 2,\n",
    "    num_instances=100,\n",
    ")"
   ]
  },
  {
   "cell_type": "code",
   "execution_count": 6,
   "id": "592c0ed4-6091-4e68-bb35-9044624831e1",
   "metadata": {},
   "outputs": [],
   "source": [
    "prompts_by_key = {\n",
    "    \"Basic\": SequencePromptDirectAlien.for_setting,\n",
    "    \"Basic-Space\": SequencePromptDirectAlienWithSpaces.for_setting,\n",
    "}"
   ]
  },
  {
   "cell_type": "code",
   "execution_count": 7,
   "id": "2710d0bd-b9b0-4d05-adb5-dc4a37452975",
   "metadata": {},
   "outputs": [],
   "source": [
    "def for_model(model, count, *prompts):\n",
    "    return {\n",
    "        (model, prompt): compute_model_scores(\n",
    "            count,\n",
    "            current_setting,\n",
    "            model_by_display_key[model],\n",
    "            prompts_by_key[prompt],\n",
    "            na_mode=\"ignore\",\n",
    "        )\n",
    "        for prompt in prompts\n",
    "    }"
   ]
  },
  {
   "cell_type": "code",
   "execution_count": 8,
   "id": "276e5d67-30a5-420f-94b3-482b19506305",
   "metadata": {},
   "outputs": [],
   "source": [
    "results = {\n",
    "    # **for_model(\"mistral-nemo-minitron-8B\", 1000, \"Basic\"),\n",
    "    **for_model(\"llama3-8B\", 1000, \"Basic\"),\n",
    "    # **for_model(\"llama3-70B\", 1000, \"Basic\"),\n",
    "    # **for_model(\"llama3.1-8B-Instruct\", 1000, \"Basic\"),\n",
    "    **for_model(\"mistral-nemo-minitron-8B\", 1000, \"Basic\", \"Basic-Space\"),\n",
    "    # **for_model(\"mistral-nemo-base-12B\", 1000, \"Basic\"),\n",
    "    # **for_model(\"mistral-nemo-instruct-12B\", 1000, \"Basic\"),\n",
    "    # **for_model(\"gemma-7b\", 1000, \"Basic\"),\n",
    "    # **for_model(\"falcon-7b\", 1000, \"Basic\"),\n",
    "    **for_model(\"gpt-3.5-instruct\", 30, \"Basic\", \"Basic-Space\"),\n",
    "    **for_model(\"gpt-3.5-chat\", 30, \"Basic\", \"Basic-Space\"),\n",
    "    **for_model(\"gpt-4o-mini\", 1000, \"Basic\", \"Basic-Space\"),\n",
    "    **for_model(\"gpt-4o\", 100, \"Basic\"),\n",
    "    **for_model(\"gpt-4o\", 30, \"Basic-Space\"),\n",
    "    **for_model(\"claude-3.5\", 30, \"Basic\", \"Basic-Space\"),\n",
    "}"
   ]
  },
  {
   "cell_type": "code",
   "execution_count": 9,
   "id": "f91904ce-02cb-4f0c-a52c-64b5cd053041",
   "metadata": {},
   "outputs": [],
   "source": [
    "results[r\"\\textsc{Random}\", \"Basic\"] = compute_random_baseline_scores(\n",
    "    1000, setting=current_setting\n",
    ")\n",
    "\n",
    "results[rf\"$n$-\\textsc{{Gram-Heuristic-NoPrefix}}\", \"Basic\"] = compute_ngram_scores(\n",
    "    1000, setting=current_setting\n",
    ")\n",
    "results[rf\"$n$-\\textsc{{Gram-Heuristic}}\", \"Basic\"] = compute_ngram_scores_with_prefix(\n",
    "    1000, setting=current_setting\n",
    ")\n",
    "\n",
    "results[r\"\\textsc{BruteForce}\", \"Basic\"] = compute_brute_force_scores(\n",
    "    100, current_setting\n",
    ")"
   ]
  },
  {
   "cell_type": "code",
   "execution_count": 10,
   "id": "ce54f9c8-89b4-4f50-adb0-1d34a6791243",
   "metadata": {},
   "outputs": [],
   "source": [
    "results_nested = {m: {} for m, _ in results}\n",
    "for m, p in results:\n",
    "    results_nested[m][p] = results[m, p]"
   ]
  },
  {
   "cell_type": "code",
   "execution_count": 11,
   "id": "9d8500b8-7569-4592-8573-dd7bd3c96029",
   "metadata": {
    "scrolled": true
   },
   "outputs": [
    {
     "name": "stdout",
     "output_type": "stream",
     "text": [
      "\\begin{tabular}{|r|c|c|}\n",
      "\\hline\n",
      "Model & \\textsc{Basic} & \\textsc{Basic-Space}\\\\\n",
      "\\hline\n",
      "\\cellcolor{lightgray}\\textsc{BruteForce} &\\cellcolor{lightgray}99.8 (99.7--99.9)&--\\\\\n",
      "\\hline\n",
      "\\bf $n$-\\textsc{Gram-Heuristic} &\\bf 90.9 (90.3--91.6)&--\\\\\n",
      "\\hline\n",
      "claude-3.5 &85.5 (80.9--89.9)&invalid\\\\\n",
      "\\hline\n",
      "$n$-\\textsc{Gram-Heuristic-NoPrefix} &83.8 (82.8--84.8)&--\\\\\n",
      "\\hline\n",
      "gpt-4o &82.3 (79.7--84.8)&70.6 (63.0--77.4)\\\\\n",
      "\\hline\n",
      "gpt-4o-mini &68.2 (67.1--69.2)&66.8 (65.7--67.9)\\\\\n",
      "\\hline\n",
      "\\textsc{Random} &52.7 (51.2--54.0)&--\\\\\n",
      "\\hline\n",
      "gpt-3.5-chat &invalid&invalid\\\\\n",
      "\\hline\n",
      "gpt-3.5-instruct &invalid&59.1 (49.8--67.8)\\\\\n",
      "\\hline\n",
      "mistral-nemo-minitron-8B &73.6 (72.5--74.7)&76.3 (75.4--77.2)\\\\\n",
      "\\hline\n",
      "llama3-8B &70.4 (69.0--71.7)&--\\\\\n",
      "\\hline\n",
      "\\end{tabular}\n"
     ]
    }
   ],
   "source": [
    "produce_table(results_nested, list(prompts_by_key))"
   ]
  },
  {
   "cell_type": "code",
   "execution_count": null,
   "id": "5fa0c535-f0ba-4693-a669-cd8ca11e4aef",
   "metadata": {},
   "outputs": [],
   "source": []
  }
 ],
 "metadata": {
  "kernelspec": {
   "display_name": "Python 3 (ipykernel)",
   "language": "python",
   "name": "python3"
  },
  "language_info": {
   "codemirror_mode": {
    "name": "ipython",
    "version": 3
   },
   "file_extension": ".py",
   "mimetype": "text/x-python",
   "name": "python",
   "nbconvert_exporter": "python",
   "pygments_lexer": "ipython3",
   "version": "3.11.9"
  }
 },
 "nbformat": 4,
 "nbformat_minor": 5
}
