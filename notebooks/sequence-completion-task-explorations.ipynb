{
 "cells": [
  {
   "cell_type": "code",
   "execution_count": 1,
   "id": "d15afe27",
   "metadata": {},
   "outputs": [
    {
     "data": {
      "text/html": [
       "\n",
       "                <script type=\"application/javascript\" id=\"jupyter_black\">\n",
       "                (function() {\n",
       "                    if (window.IPython === undefined) {\n",
       "                        return\n",
       "                    }\n",
       "                    var msg = \"WARNING: it looks like you might have loaded \" +\n",
       "                        \"jupyter_black in a non-lab notebook with \" +\n",
       "                        \"`is_lab=True`. Please double check, and if \" +\n",
       "                        \"loading with `%load_ext` please review the README!\"\n",
       "                    console.log(msg)\n",
       "                    alert(msg)\n",
       "                })()\n",
       "                </script>\n",
       "                "
      ],
      "text/plain": [
       "<IPython.core.display.HTML object>"
      ]
     },
     "metadata": {},
     "output_type": "display_data"
    }
   ],
   "source": [
    "%load_ext autoreload\n",
    "%autoreload 2\n",
    "%load_ext jupyter_black"
   ]
  },
  {
   "cell_type": "code",
   "execution_count": 2,
   "id": "57fe887b-d30f-4c00-acef-3c7a4902ba50",
   "metadata": {},
   "outputs": [],
   "source": [
    "from evallm.experiments.transducer_experiment import (\n",
    "    current_dfa_sample_spec,\n",
    ")\n",
    "\n",
    "from evallm.experiments.models_display import model_by_display_key\n",
    "\n",
    "from evallm.experiments.transducer_plotting import produce_table"
   ]
  },
  {
   "cell_type": "code",
   "execution_count": 3,
   "id": "c88e1a29-dde6-4508-9d0f-b179814a010e",
   "metadata": {},
   "outputs": [],
   "source": [
    "from evallm.experiments.sequence_completion.sequence_completion_prompt import (\n",
    "    SequencePromptDirectAlien,\n",
    "    SequencePromptDirectAlienWithSpaces,\n",
    "    SequencePromptDirectAlien2,\n",
    "    SequencePromptDirectAlien3,\n",
    "    SequencePromptDirectAlien2WithSpaces,\n",
    "    SequencePromptDirectAlien3WithSpaces,\n",
    "    MoreExplanationPrompt,\n",
    "    MoreExplanationPromptCOT,\n",
    "    RedGreenPrompt,\n",
    ")\n",
    "\n",
    "from evallm.experiments.sequence_completion.sequence_completion_experiments import (\n",
    "    compute_model_scores,\n",
    "    compute_ngram_scores,\n",
    "    compute_ngram_scores_with_prefix,\n",
    "    compute_random_baseline_scores,\n",
    "    compute_brute_force_scores,\n",
    "    get_examples,\n",
    "    run_model,\n",
    ")"
   ]
  },
  {
   "cell_type": "code",
   "execution_count": 4,
   "id": "d109dfca-99d4-4c22-83d0-e854f460fc4c",
   "metadata": {},
   "outputs": [],
   "source": [
    "spec = current_dfa_sample_spec(3)"
   ]
  },
  {
   "cell_type": "code",
   "execution_count": 5,
   "id": "90fc9d9d-b8c1-40d4-89e1-d0993d3c348f",
   "metadata": {},
   "outputs": [],
   "source": [
    "num_sequence_symbols = 8\n",
    "current_setting = dict(\n",
    "    dfa_spec=spec,\n",
    "    num_sequences=30,\n",
    "    num_sequence_symbols=num_sequence_symbols,\n",
    "    num_sequence_symbols_prompt=num_sequence_symbols // 2,\n",
    "    num_instances=100,\n",
    ")"
   ]
  },
  {
   "cell_type": "code",
   "execution_count": 6,
   "id": "1c546616-1c62-4ab9-bfde-628b853d5471",
   "metadata": {},
   "outputs": [],
   "source": [
    "example = get_examples(0, current_setting)"
   ]
  },
  {
   "cell_type": "code",
   "execution_count": 7,
   "id": "592c0ed4-6091-4e68-bb35-9044624831e1",
   "metadata": {},
   "outputs": [],
   "source": [
    "prompts_by_key = {\n",
    "    \"Basic\": SequencePromptDirectAlien.for_setting,\n",
    "    \"Basic-Space\": SequencePromptDirectAlienWithSpaces.for_setting,\n",
    "    \"Basic2\": SequencePromptDirectAlien2.for_setting,\n",
    "    \"Basic2-Space\": SequencePromptDirectAlien2WithSpaces.for_setting,\n",
    "    \"Basic3\": SequencePromptDirectAlien3.for_setting,\n",
    "    \"Basic3-Space\": SequencePromptDirectAlien3WithSpaces.for_setting,\n",
    "    \"More-Expl\": MoreExplanationPrompt.for_setting,\n",
    "    \"COT\": MoreExplanationPromptCOT.for_setting,\n",
    "    \"Red-Green\": RedGreenPrompt.for_setting,\n",
    "}"
   ]
  },
  {
   "cell_type": "code",
   "execution_count": 8,
   "id": "2710d0bd-b9b0-4d05-adb5-dc4a37452975",
   "metadata": {},
   "outputs": [],
   "source": [
    "def for_model(model, count, *prompts):\n",
    "    return {\n",
    "        (model, prompt): compute_model_scores(\n",
    "            count,\n",
    "            current_setting,\n",
    "            model_by_display_key[model],\n",
    "            prompts_by_key[prompt],\n",
    "            na_mode=\"count-na\",\n",
    "        )\n",
    "        for prompt in prompts\n",
    "    }"
   ]
  },
  {
   "cell_type": "code",
   "execution_count": 9,
   "id": "276e5d67-30a5-420f-94b3-482b19506305",
   "metadata": {},
   "outputs": [],
   "source": [
    "results = {\n",
    "    # **for_model(\"mistral-nemo-minitron-8B\", 1000, \"Basic\"),\n",
    "    **for_model(\"llama3-8B\", 1000, \"Basic\"),\n",
    "    # **for_model(\"llama3-70B\", 1000, \"Basic\"),\n",
    "    # **for_model(\"llama3.1-8B-Instruct\", 1000, \"Basic\"),\n",
    "    **for_model(\"mistral-nemo-minitron-8B\", 1000, \"Basic\", \"Basic-Space\"),\n",
    "    # **for_model(\"mistral-nemo-base-12B\", 1000, \"Basic\"),\n",
    "    # **for_model(\"mistral-nemo-instruct-12B\", 1000, \"Basic\"),\n",
    "    # **for_model(\"gemma-7b\", 1000, \"Basic\"),\n",
    "    # **for_model(\"falcon-7b\", 1000, \"Basic\"),\n",
    "    **for_model(\"gpt-3.5-instruct\", 30, \"Basic\", \"Basic-Space\"),\n",
    "    **for_model(\"gpt-3.5-chat\", 30, \"Basic\", \"Basic-Space\"),\n",
    "    **for_model(\n",
    "        \"gpt-3.5-instruct\", 30, \"Basic2\", \"Basic3\", \"Basic2-Space\", \"Basic3-Space\"\n",
    "    ),\n",
    "    **for_model(\"gpt-4o-mini\", 1000, \"Basic\", \"Basic-Space\"),\n",
    "    **for_model(\"gpt-4o-mini\", 30, \"Basic2\", \"Basic3\", \"Basic2-Space\", \"Basic3-Space\"),\n",
    "    **for_model(\"gpt-4o-mini\", 30, \"More-Expl\", \"COT\", \"Red-Green\"),\n",
    "    **for_model(\"gpt-4o\", 100, \"Basic\"),\n",
    "    **for_model(\"gpt-4o\", 30, \"Basic-Space\", \"More-Expl\"),\n",
    "    **for_model(\"claude-3.5\", 30, \"Basic\", \"Basic-Space\"),\n",
    "    **for_model(\"claude-3.5\", 2, \"Basic2\", \"Basic2-Space\"),\n",
    "}"
   ]
  },
  {
   "cell_type": "code",
   "execution_count": 10,
   "id": "f91904ce-02cb-4f0c-a52c-64b5cd053041",
   "metadata": {},
   "outputs": [],
   "source": [
    "# results[r\"\\textsc{Random}\", \"Basic\"] = compute_random_baseline_scores(\n",
    "#     1000, setting=current_setting\n",
    "# )\n",
    "\n",
    "# results[rf\"$n$-\\textsc{{Gram-Heuristic-NoPrefix}}\", \"Basic\"] = compute_ngram_scores(\n",
    "#     1000, setting=current_setting\n",
    "# )\n",
    "# results[rf\"$n$-\\textsc{{Gram-Heuristic}}\", \"Basic\"] = compute_ngram_scores_with_prefix(\n",
    "#     1000, setting=current_setting\n",
    "# )\n",
    "\n",
    "# results[r\"\\textsc{BruteForce}\", \"Basic\"] = compute_brute_force_scores(\n",
    "#     100, current_setting\n",
    "# )"
   ]
  },
  {
   "cell_type": "code",
   "execution_count": 11,
   "id": "ce54f9c8-89b4-4f50-adb0-1d34a6791243",
   "metadata": {},
   "outputs": [],
   "source": [
    "results_nested = {m: {} for m, _ in results}\n",
    "for m, p in results:\n",
    "    results_nested[m][p] = results[m, p]"
   ]
  },
  {
   "cell_type": "code",
   "execution_count": 12,
   "id": "9d8500b8-7569-4592-8573-dd7bd3c96029",
   "metadata": {
    "scrolled": true
   },
   "outputs": [
    {
     "name": "stdout",
     "output_type": "stream",
     "text": [
      "\\begin{tabular}{|r|c|c|c|c|c|c|c|c|c|}\n",
      "\\hline\n",
      "Model & \\textsc{Basic} & \\textsc{Basic-Space} & \\textsc{Basic2} & \\textsc{Basic2-Space} & \\textsc{Basic3} & \\textsc{Basic3-Space} & \\textsc{More-Expl} & \\textsc{COT} & \\textsc{Red-Green}\\\\\n",
      "\\hline\n",
      "\\bf claude-3.5 &\\bf 9.1 (7.6--10.7)&\\bf 98.6 (97.9--99.2)&\\bf 0.5 (0.0--1.0)&\\bf 100.0 (100.0--100.0)&--&--&--&--&--\\\\\n",
      "\\hline\n",
      "gpt-4o &0.0 (0.0--0.1)&0.0 (0.0--0.0)&--&--&--&--&100.0 (100.0--100.0)&--&--\\\\\n",
      "\\hline\n",
      "gpt-3.5-chat &98.7 (98.2--99.3)&99.7 (99.5--99.9)&--&--&--&--&--&--&--\\\\\n",
      "\\hline\n",
      "gpt-3.5-instruct &50.4 (47.5--53.1)&0.8 (0.5--1.0)&1.0 (0.6--1.3)&0.0 (0.0--0.0)&62.8 (60.3--65.2)&57.6 (54.3--60.7)&--&--&--\\\\\n",
      "\\hline\n",
      "gpt-4o-mini &0.0 (0.0--0.0)&0.0 (0.0--0.0)&0.0 (0.0--0.0)&0.0 (0.0--0.0)&0.0 (0.0--0.0)&0.0 (0.0--0.0)&15.0 (13.7--16.3)&1.4 (0.9--1.9)&0.2 (0.0--0.3)\\\\\n",
      "\\hline\n",
      "mistral-nemo-minitron-8B &0.3 (0.3--0.4)&0.0 (0.0--0.0)&--&--&--&--&--&--&--\\\\\n",
      "\\hline\n",
      "llama3-8B &0.0 (0.0--0.1)&--&--&--&--&--&--&--&--\\\\\n",
      "\\hline\n",
      "\\end{tabular}\n"
     ]
    }
   ],
   "source": [
    "produce_table(results_nested, list(prompts_by_key), handle_brute_force=False)"
   ]
  },
  {
   "cell_type": "code",
   "execution_count": 13,
   "id": "5fa0c535-f0ba-4693-a669-cd8ca11e4aef",
   "metadata": {},
   "outputs": [],
   "source": [
    "prompter = prompts_by_key[\"Basic2-Space\"](current_setting)\n",
    "responses = run_model(model_by_display_key[\"gpt-3.5-instruct\"], prompter, *example)"
   ]
  },
  {
   "cell_type": "code",
   "execution_count": 14,
   "id": "a165f948-baf1-4591-af61-0f238363bfd1",
   "metadata": {},
   "outputs": [
    {
     "name": "stdout",
     "output_type": "stream",
     "text": [
      "The following strings come from an alien language that follows a simple grammar. Infer the alien grammar using the example strings. Then, add a suffix to the final string using between 1 and 4 characters such that the full string follows the grammar. Output only the necessary suffix to complete the final string, and nothing else.\n",
      "\n",
      "c a c b b c b c\n",
      "c b c a a c b b\n",
      "c c b a c a c a\n",
      "c a b a a a c a\n",
      "b a c b a b c a\n",
      "a a c b a a a a\n",
      "b c c b a b b b\n",
      "b b b c c b b b\n",
      "c a a a b a b a\n",
      "c c b a a a a a\n",
      "c b a c a c b a\n",
      "a c b c c b a a\n",
      "c b b a a c a b\n",
      "c c b a a b a a\n",
      "c a a b b b b b\n",
      "a a b c b b b a\n",
      "a c a a c b c c\n",
      "a c c a c b a b\n",
      "a b b a b c a b\n",
      "c b c b c b c c\n",
      "c c a c c c c a\n",
      "a b b c c a c b\n",
      "b a a b a c a b\n",
      "c a c a a b a b\n",
      "a c a c b a c a\n",
      "c a c c a a c b\n",
      "b c a c b b b b\n",
      "c a b c b b b c\n",
      "a c c c c c a b\n",
      "c b c a b b c a\n",
      "b c b b\n"
     ]
    }
   ],
   "source": [
    "print(prompter.display_prompt(None, *example[1][0], is_chat=True)[\"user\"])"
   ]
  },
  {
   "cell_type": "code",
   "execution_count": 15,
   "id": "95bbaabd-9bf6-4338-bcb1-efc57030fd43",
   "metadata": {},
   "outputs": [
    {
     "data": {
      "text/plain": [
       "[' c c c c\\n\\n\\na',\n",
       " ' b a b c\\n\\n\\nSuffix: a',\n",
       " ' c c b b\\n\\n\\nSuffix: a',\n",
       " ' c b c b\\n\\n\\nSuffix: b',\n",
       " ' c b c c\\n\\n\\nSuffix: c',\n",
       " ' c a c c\\n\\n\\nSuffix: c',\n",
       " ' c b c b\\n\\n\\nSuffix: a',\n",
       " ' c c c c\\n\\n\\nSuffix: b',\n",
       " ' b c c c\\n\\n\\nSuffix: a',\n",
       " ' b c c c\\n\\n\\na',\n",
       " ' c c c c\\n\\n\\nSuffix: c',\n",
       " ' b b c b\\n\\n\\nSuffix: c',\n",
       " ' c c c c\\n\\n\\na',\n",
       " ' c c c b\\nb c b b b b b c\\n\\n\\na',\n",
       " ' c c c c\\n\\n\\nSuffix: c',\n",
       " ' c c c c\\n\\n\\nSuffix: c',\n",
       " ' c c c c\\n\\n\\nSuffix: a',\n",
       " ' c b b c\\n\\n\\nSuffix: a',\n",
       " ' b b c c\\n\\n\\nSuffix: a',\n",
       " ' b c b c\\n\\n\\na',\n",
       " ' c c c c\\n\\n\\na',\n",
       " ' b c b a\\n\\n\\nSuffix: a',\n",
       " ' b b b b\\n\\n\\nSuffix: a',\n",
       " ' b c c b\\n\\n\\nSuffix: a',\n",
       " ' c c c c\\n\\n\\na',\n",
       " ' c c c c\\n\\n\\nSuffix: b',\n",
       " ' c b c c\\n\\n\\nSuffix: c',\n",
       " ' b c b a\\n\\n\\na',\n",
       " ' c c a c\\n\\na',\n",
       " ' b b c c\\n\\n\\nSuffix: a',\n",
       " ' c c c c\\n\\n\\nSuffix: a',\n",
       " ' c c c c\\n\\n\\nSuffix: a',\n",
       " ' c c c b\\n\\n\\nSuffix: a',\n",
       " ' b c c b\\n\\n\\nSuffix: a',\n",
       " ' c b c c\\n\\n\\nSuffix: c',\n",
       " ' b c c c\\n\\n\\na',\n",
       " ' c c b c\\n\\n\\nSuffix: c',\n",
       " ' c c c c\\n\\n\\na',\n",
       " ' b b c c\\n\\n\\nSuffix: a',\n",
       " ' c b c c\\n\\na',\n",
       " ' c c c b\\n\\n\\nSuffix: b',\n",
       " ' c b c c\\n\\n\\nSuffix: c',\n",
       " ' b b c c\\n\\n\\na',\n",
       " ' c c c a\\n\\n\\nSuffix: a',\n",
       " ' c c c c\\n\\n\\nSuffix: a',\n",
       " ' b b b b\\n\\n\\na',\n",
       " ' b c c c\\n\\n\\na',\n",
       " ' c b c c\\nc c c a c a c a\\n\\n\\nSuffix: c',\n",
       " ' c c c c\\n\\n\\nSuffix: c',\n",
       " ' c c c c\\n\\n\\na\\n',\n",
       " ' c c c c\\n\\n\\na',\n",
       " ' b c c c\\n\\n\\nSuffix: a',\n",
       " ' c c c b\\n\\n\\na',\n",
       " ' c c c c\\n\\n\\nSuffix: a',\n",
       " ' c c c c\\n\\n\\na',\n",
       " ' c c b c\\n\\na',\n",
       " ' c c b c\\n\\n\\nSuffix: c',\n",
       " ' b c c c\\n\\n\\nSuffix: a',\n",
       " ' c b c c\\n\\n\\nSuffix: c',\n",
       " ' b a a a\\n\\n\\nSuffix: a',\n",
       " ' c c c c\\n\\n\\nSuffix: c',\n",
       " ' c b b c\\n\\n\\na',\n",
       " ' c b c c\\n\\na',\n",
       " ' c a c c\\n\\n\\na',\n",
       " ' c c c c\\n\\n\\na',\n",
       " ' b c b c\\n\\n\\nSuffix: c',\n",
       " ' c a a a\\n\\n\\nSuffix: a',\n",
       " ' c c c c\\n\\n\\nSuffix: b',\n",
       " ' b c c c\\n\\n\\nSuffix: c',\n",
       " ' b b b b\\n\\n\\nSuffix: b',\n",
       " ' c b b c\\n\\n\\na',\n",
       " ' b b b b\\n\\n\\nSuffix: c',\n",
       " ' c c b c\\n\\n\\na',\n",
       " ' c c b c\\n\\n\\na',\n",
       " ' c c c c\\n\\n\\nSuffix: a',\n",
       " ' b c c c\\n\\n\\na',\n",
       " ' c c c c\\n\\n\\nSuffix: a',\n",
       " ' b b c c\\n\\n\\na',\n",
       " ' c c c c\\n\\n\\nSuffix: c',\n",
       " ' b c c c\\n\\n\\nSuffix: a',\n",
       " ' c c c c\\n\\n\\nSuffix: a',\n",
       " ' c b c c\\n\\n\\na',\n",
       " ' c c c c\\n\\n\\nSuffix: c',\n",
       " ' c c c c\\n\\n\\nSuffix: a',\n",
       " ' b b b b\\n\\n\\nSuffix: a',\n",
       " ' c c c c\\n\\n\\nSuffix: a',\n",
       " ' b b c c\\n\\n\\nSuffix: a',\n",
       " ' b b c c\\n\\n\\na',\n",
       " ' b c b c\\n\\n\\nSuffix: a',\n",
       " ' b c b c\\n\\n\\nSuffix: a',\n",
       " ' b b b b\\n\\n\\na',\n",
       " ' a c c c\\n\\na',\n",
       " ' b c c c\\n\\n\\nSuffix: a',\n",
       " ' a c c c\\n\\n\\nSuffix: a',\n",
       " ' c b c c\\n\\n\\na',\n",
       " ' c b c b\\nb c b b b b a b\\n\\n\\nSuffix: a',\n",
       " ' b c b b\\n\\n\\na',\n",
       " ' b b c b\\n\\n\\nSuffix: a',\n",
       " ' c c c c\\n\\n\\nSuffix: c',\n",
       " ' c c c b\\n\\n\\na']"
      ]
     },
     "execution_count": 15,
     "metadata": {},
     "output_type": "execute_result"
    }
   ],
   "source": [
    "responses"
   ]
  }
 ],
 "metadata": {
  "kernelspec": {
   "display_name": "Python 3 (ipykernel)",
   "language": "python",
   "name": "python3"
  },
  "language_info": {
   "codemirror_mode": {
    "name": "ipython",
    "version": 3
   },
   "file_extension": ".py",
   "mimetype": "text/x-python",
   "name": "python",
   "nbconvert_exporter": "python",
   "pygments_lexer": "ipython3",
   "version": "3.11.9"
  }
 },
 "nbformat": 4,
 "nbformat_minor": 5
}
