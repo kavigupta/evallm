{
 "cells": [
  {
   "cell_type": "code",
   "execution_count": 1,
   "id": "d15afe27",
   "metadata": {},
   "outputs": [
    {
     "data": {
      "text/html": [
       "\n",
       "                <script type=\"application/javascript\" id=\"jupyter_black\">\n",
       "                (function() {\n",
       "                    if (window.IPython === undefined) {\n",
       "                        return\n",
       "                    }\n",
       "                    var msg = \"WARNING: it looks like you might have loaded \" +\n",
       "                        \"jupyter_black in a non-lab notebook with \" +\n",
       "                        \"`is_lab=True`. Please double check, and if \" +\n",
       "                        \"loading with `%load_ext` please review the README!\"\n",
       "                    console.log(msg)\n",
       "                    alert(msg)\n",
       "                })()\n",
       "                </script>\n",
       "                "
      ],
      "text/plain": [
       "<IPython.core.display.HTML object>"
      ]
     },
     "metadata": {},
     "output_type": "display_data"
    }
   ],
   "source": [
    "%load_ext autoreload\n",
    "%autoreload 2\n",
    "%load_ext jupyter_black"
   ]
  },
  {
   "cell_type": "code",
   "execution_count": 2,
   "id": "57fe887b-d30f-4c00-acef-3c7a4902ba50",
   "metadata": {},
   "outputs": [],
   "source": [
    "import evallm\n",
    "from evallm.experiments.transducer_experiment import (\n",
    "    current_dfa_sample_spec,\n",
    ")\n",
    "\n",
    "from evallm.experiments.models_display import model_by_display_key\n",
    "\n",
    "from evallm.experiments.transducer_plotting import produce_table"
   ]
  },
  {
   "cell_type": "code",
   "execution_count": 3,
   "id": "c88e1a29-dde6-4508-9d0f-b179814a010e",
   "metadata": {},
   "outputs": [],
   "source": [
    "from evallm.experiments.sequence_completion.sequence_completion_prompt import (\n",
    "    SequencePromptDirectAlien,\n",
    "    SequencePromptDirectAlienWithSpaces,\n",
    "    SequencePromptDirectAlien2,\n",
    "    SequencePromptDirectAlien3,\n",
    "    SequencePromptDirectAlien2WithSpaces,\n",
    "    SequencePromptDirectAlien3WithSpaces,\n",
    "    MoreExplanationPrompt,\n",
    "    MoreExplanationPrompt2,\n",
    "    RedGreenPrompt,\n",
    "    MoreExplanationPromptCOT,\n",
    ")\n",
    "\n",
    "from evallm.experiments.sequence_completion.sequence_completion_experiments import (\n",
    "    compute_model_scores,\n",
    "    compute_ngram_scores,\n",
    "    compute_ngram_scores_with_prefix,\n",
    "    compute_random_baseline_scores,\n",
    "    compute_brute_force_scores,\n",
    "    get_examples,\n",
    "    run_model,\n",
    "    compute_true_ngrams,\n",
    ")"
   ]
  },
  {
   "cell_type": "code",
   "execution_count": 4,
   "id": "d109dfca-99d4-4c22-83d0-e854f460fc4c",
   "metadata": {},
   "outputs": [],
   "source": [
    "spec = current_dfa_sample_spec(3)"
   ]
  },
  {
   "cell_type": "code",
   "execution_count": 5,
   "id": "90fc9d9d-b8c1-40d4-89e1-d0993d3c348f",
   "metadata": {},
   "outputs": [],
   "source": [
    "num_sequence_symbols = 10\n",
    "current_setting = dict(\n",
    "    dfa_spec=spec,\n",
    "    num_sequences=30,\n",
    "    num_sequence_symbols=num_sequence_symbols,\n",
    "    num_sequence_symbols_prompt=num_sequence_symbols // 2,\n",
    "    num_instances=30,\n",
    ")"
   ]
  },
  {
   "cell_type": "code",
   "execution_count": 6,
   "id": "1c546616-1c62-4ab9-bfde-628b853d5471",
   "metadata": {},
   "outputs": [],
   "source": [
    "example = get_examples(0, current_setting)"
   ]
  },
  {
   "cell_type": "code",
   "execution_count": 7,
   "id": "592c0ed4-6091-4e68-bb35-9044624831e1",
   "metadata": {},
   "outputs": [],
   "source": [
    "prompts_by_key = {\n",
    "    \"Basic\": SequencePromptDirectAlien2.for_setting,\n",
    "    \"More-Expl\": MoreExplanationPrompt2.for_setting,\n",
    "    \"COT\": MoreExplanationPromptCOT.for_setting,\n",
    "    \"Red-Green\": RedGreenPrompt.for_setting,\n",
    "}"
   ]
  },
  {
   "cell_type": "code",
   "execution_count": 8,
   "id": "2710d0bd-b9b0-4d05-adb5-dc4a37452975",
   "metadata": {},
   "outputs": [],
   "source": [
    "def for_model(model, count, *prompts):\n",
    "    return {\n",
    "        (model, prompt): compute_model_scores(\n",
    "            count,\n",
    "            current_setting,\n",
    "            model_by_display_key[model],\n",
    "            prompts_by_key[prompt],\n",
    "            na_mode=\"ignore\",\n",
    "        )\n",
    "        for prompt in prompts\n",
    "    }"
   ]
  },
  {
   "cell_type": "code",
   "execution_count": 9,
   "id": "276e5d67-30a5-420f-94b3-482b19506305",
   "metadata": {},
   "outputs": [],
   "source": [
    "results = {\n",
    "    # **for_model(\"mistral-nemo-minitron-8B\", 1000, \"Basic\"),\n",
    "    # **for_model(\"llama3-8B\", 1000, \"Basic\"),\n",
    "    **for_model(\"llama3-70B\", 1000, \"Basic\"),\n",
    "    # **for_model(\"llama3.1-8B-Instruct\", 1000, \"Basic\"),\n",
    "    # **for_model(\"mistral-nemo-minitron-8B\", 1000, \"Basic\"),\n",
    "    # **for_model(\"mistral-nemo-base-12B\", 1000, \"Basic\"),\n",
    "    # **for_model(\"mistral-nemo-instruct-12B\", 1000, \"Basic\"),\n",
    "    # **for_model(\"gemma-7b\", 1000, \"Basic\"),\n",
    "    # **for_model(\"falcon-7b\", 1000, \"Basic\"),\n",
    "    **for_model(\"gpt-3.5-instruct\", 30, \"Basic\"),\n",
    "    **for_model(\"gpt-3.5-chat\", 30, \"Basic\"),\n",
    "    **for_model(\"gpt-4o-mini\", 30, \"Basic\", \"More-Expl\", \"COT\", \"Red-Green\"),\n",
    "    **for_model(\"gpt-4o\", 30, \"Basic\", \"More-Expl\"),  # , \"COT\", \"Red-Green\"),\n",
    "}"
   ]
  },
  {
   "cell_type": "code",
   "execution_count": 10,
   "id": "f91904ce-02cb-4f0c-a52c-64b5cd053041",
   "metadata": {},
   "outputs": [],
   "source": [
    "amount_baselines = 100\n",
    "\n",
    "results[r\"\\textsc{Random}\", \"Basic\"] = compute_random_baseline_scores(\n",
    "    amount_baselines, setting=current_setting\n",
    ")\n",
    "\n",
    "results[rf\"$n$-\\textsc{{Gram-Heuristic-NoPrefix}}\", \"Basic\"] = compute_ngram_scores(\n",
    "    amount_baselines, setting=current_setting\n",
    ")\n",
    "results[rf\"$n$-\\textsc{{Gram-Heuristic}}\", \"Basic\"] = compute_ngram_scores_with_prefix(\n",
    "    amount_baselines, setting=current_setting\n",
    ")\n",
    "\n",
    "results[r\"\\textsc{BruteForce}\", \"Basic\"] = compute_brute_force_scores(\n",
    "    44, current_setting\n",
    ")\n",
    "\n",
    "for ngram in (2, 3, 4, 5, 6):\n",
    "    results[rf\"{ngram}-\\textsc{{Gram}}\", \"Basic\"] = compute_true_ngrams(\n",
    "        ngram, amount_baselines, current_setting\n",
    "    )"
   ]
  },
  {
   "cell_type": "code",
   "execution_count": 11,
   "id": "ce54f9c8-89b4-4f50-adb0-1d34a6791243",
   "metadata": {},
   "outputs": [],
   "source": [
    "results_nested = {m: {} for m, _ in results}\n",
    "for m, p in results:\n",
    "    results_nested[m][p] = results[m, p]"
   ]
  },
  {
   "cell_type": "code",
   "execution_count": 12,
   "id": "9d8500b8-7569-4592-8573-dd7bd3c96029",
   "metadata": {
    "scrolled": true
   },
   "outputs": [
    {
     "name": "stdout",
     "output_type": "stream",
     "text": [
      "\\begin{tabular}{|r|c|c|c|c|}\n",
      "\\hline\n",
      "Model & \\textsc{Basic} & \\textsc{More-Expl} & \\textsc{COT} & \\textsc{Red-Green}\\\\\n",
      "\\hline\n",
      "\\cellcolor{lightgray}\\textsc{BruteForce} &\\cellcolor{lightgray}100.0 (100.0--100.0)&--&--&--\\\\\n",
      "\\hline\n",
      "\\bf 6-\\textsc{Gram} &\\bf 91.9 (89.3--94.0)&--&--&--\\\\\n",
      "\\hline\n",
      "$n$-\\textsc{Gram-Heuristic} &91.7 (89.1--94.0)&--&--&--\\\\\n",
      "\\hline\n",
      "5-\\textsc{Gram} &91.4 (88.8--93.7)&--&--&--\\\\\n",
      "\\hline\n",
      "4-\\textsc{Gram} &90.5 (87.8--92.9)&--&--&--\\\\\n",
      "\\hline\n",
      "3-\\textsc{Gram} &86.3 (83.2--88.8)&--&--&--\\\\\n",
      "\\hline\n",
      "$n$-\\textsc{Gram-Heuristic-NoPrefix} &83.4 (79.8--86.8)&--&--&--\\\\\n",
      "\\hline\n",
      "2-\\textsc{Gram} &82.3 (78.8--85.4)&--&--&--\\\\\n",
      "\\hline\n",
      "gpt-4o-mini &72.6 (64.9--79.7)&67.9 (60.2--74.9)&56.9 (49.3--64.5)&56.3 (48.9--63.7)\\\\\n",
      "\\hline\n",
      "gpt-4o &72.1 (65.9--78.2)&invalid&--&--\\\\\n",
      "\\hline\n",
      "llama3-70B &71.4 (70.0--72.7)&--&--&--\\\\\n",
      "\\hline\n",
      "gpt-3.5-instruct &66.6 (59.3--74.0)&--&--&--\\\\\n",
      "\\hline\n",
      "\\textsc{Random} &51.2 (46.6--55.8)&--&--&--\\\\\n",
      "\\hline\n",
      "gpt-3.5-chat &invalid&--&--&--\\\\\n",
      "\\hline\n",
      "\\end{tabular}\n"
     ]
    }
   ],
   "source": [
    "produce_table(results_nested, list(prompts_by_key))"
   ]
  },
  {
   "cell_type": "code",
   "execution_count": 13,
   "id": "5fa0c535-f0ba-4693-a669-cd8ca11e4aef",
   "metadata": {},
   "outputs": [],
   "source": [
    "prompter = prompts_by_key[\"Basic\"](current_setting)\n",
    "responses = run_model(model_by_display_key[\"gpt-3.5-chat\"], prompter, *example)"
   ]
  },
  {
   "cell_type": "code",
   "execution_count": 14,
   "id": "a165f948-baf1-4591-af61-0f238363bfd1",
   "metadata": {},
   "outputs": [
    {
     "name": "stdout",
     "output_type": "stream",
     "text": [
      "The following strings come from an alien language that follows a simple grammar. Infer the alien grammar using the example strings. Then, add a suffix to the final string using between 1 and 5 characters such that the full string follows the grammar. Output only the necessary suffix to complete the final string, and nothing else.\n",
      "\n",
      "cbcbabbcca\n",
      "abcaaacbaa\n",
      "aabccbabbb\n",
      "bbbccbbbca\n",
      "aababaccba\n",
      "aaaacbacac\n",
      "baacbccbaa\n",
      "cbbaacabcc\n",
      "baabaacaab\n",
      "bbbbbcacab\n",
      "acaabcbbba\n",
      "acaacbccac\n",
      "cacbabcbba\n",
      "abcbcbcbcc\n",
      "ccaccccaba\n",
      "bcbcabbcca\n",
      "baabacabca\n",
      "caababacac\n",
      "bacacaccaa\n",
      "bcacbbbbca\n",
      "bcbbbcaccc\n",
      "ccabbcccbb\n",
      "bccbcabbca\n",
      "baacbabcbc\n",
      "ccacabccab\n",
      "caacbcaaab\n",
      "cacbaaccac\n",
      "aaccbcaabb\n",
      "abacabcaab\n",
      "bacbcbcaca\n",
      "caacb\n"
     ]
    }
   ],
   "source": [
    "print(prompter.display_prompt(None, *example[1][0], is_chat=True)[\"user\"])"
   ]
  },
  {
   "cell_type": "code",
   "execution_count": 15,
   "id": "95bbaabd-9bf6-4338-bcb1-efc57030fd43",
   "metadata": {},
   "outputs": [
    {
     "data": {
      "text/plain": [
       "[\"The alien grammar seems to follow the pattern of alternating between the letters 'a', 'b', and 'c'. Based on\",\n",
       " \"The alien grammar seems to be that each string consists of a combination of the letters 'a', 'b', and 'c\",\n",
       " \"The alien grammar seems to follow the pattern of alternating between the letters 'a' and 'b', with 'c' appearing\",\n",
       " \"The alien grammar seems to follow the pattern of alternating between two different letters. Let's denote the two letters as A and B\",\n",
       " \"The alien grammar seems to follow the pattern of alternating between the letters 'a' and 'b', with 'c' inters\",\n",
       " \"The alien grammar seems to follow the pattern of alternating between two different characters. Let's denote the characters as A and B.\",\n",
       " 'Suffix: a',\n",
       " \"The alien grammar seems to follow the pattern of alternating between the letters 'a' and 'b', with 'c' appearing\",\n",
       " 'The alien grammar seems to follow the pattern of alternating between three different types of characters: a, b, and c. The',\n",
       " 'The inferred alien grammar is as follows:\\n- The strings consist of 3 blocks of characters.\\n- The first block can be',\n",
       " \"The inferred alien grammar is as follows:\\n- Strings start with either 'a', 'b', or 'c'.\\n- The\",\n",
       " \"The alien grammar seems to follow the pattern of alternating between two different characters. Let's denote the two characters as A and B\",\n",
       " \"The inferred alien grammar is as follows:\\n- Strings start with one or more 'a's.\\n- This is followed by one\",\n",
       " 'The inferred alien grammar is as follows:\\n- Strings start with one of the following characters: a, b, c\\n-',\n",
       " 'The inferred alien grammar is as follows:\\n- Each string consists of 10 characters.\\n- The first character is always a conson',\n",
       " 'Based on the provided strings, it seems that the alien language follows the grammar where each string consists of a combination of four different',\n",
       " 'The inferred alien grammar is as follows:\\n- The strings consist of 3 blocks of characters: a, b, and c',\n",
       " 'The alien grammar can be inferred as follows:\\n- The first character is always a consonant (c or b).\\n- The',\n",
       " \"The inferred alien grammar is as follows:\\n- Strings start with either 'a' or 'b'.\\n- The middle part of\",\n",
       " 'Based on the provided strings, it seems that the alien language grammar can be inferred as follows:\\n\\n1. Strings start with either',\n",
       " 'The inferred alien grammar is as follows:\\n- The strings consist of 3 blocks of characters.\\n- The first block can be',\n",
       " 'Suffix: a',\n",
       " 'The alien grammar can be inferred as follows:\\n- The strings consist of three blocks of characters.\\n- The first block is either',\n",
       " 'Suffix: b',\n",
       " 'Suffix: c',\n",
       " 'The alien grammar seems to be that each string consists of 3 blocks of characters, where each block is a combination of ',\n",
       " \"The alien grammar seems to follow the pattern of alternating between the letters 'a', 'b', and 'c'. Based on\",\n",
       " \"The alien grammar seems to follow the pattern of alternating between the letters 'a', 'b', and 'c'. Based on\",\n",
       " 'The alien grammar seems to be that each string consists of a repeating pattern of three characters. The first character is always a conson',\n",
       " 'The inferred alien grammar is as follows:\\n- The strings consist of 3 blocks of characters.\\n- The first block can be']"
      ]
     },
     "execution_count": 15,
     "metadata": {},
     "output_type": "execute_result"
    }
   ],
   "source": [
    "responses"
   ]
  },
  {
   "cell_type": "code",
   "execution_count": null,
   "id": "0b888ef3-bab0-476a-8f50-790b5a7d0abc",
   "metadata": {},
   "outputs": [],
   "source": []
  }
 ],
 "metadata": {
  "kernelspec": {
   "display_name": "Python 3 (ipykernel)",
   "language": "python",
   "name": "python3"
  },
  "language_info": {
   "codemirror_mode": {
    "name": "ipython",
    "version": 3
   },
   "file_extension": ".py",
   "mimetype": "text/x-python",
   "name": "python",
   "nbconvert_exporter": "python",
   "pygments_lexer": "ipython3",
   "version": "3.11.9"
  }
 },
 "nbformat": 4,
 "nbformat_minor": 5
}
