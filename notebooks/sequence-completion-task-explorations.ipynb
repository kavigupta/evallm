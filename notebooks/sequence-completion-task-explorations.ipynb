{
 "cells": [
  {
   "cell_type": "code",
   "execution_count": 1,
   "id": "d15afe27",
   "metadata": {},
   "outputs": [
    {
     "data": {
      "text/html": [
       "\n",
       "                <script type=\"application/javascript\" id=\"jupyter_black\">\n",
       "                (function() {\n",
       "                    if (window.IPython === undefined) {\n",
       "                        return\n",
       "                    }\n",
       "                    var msg = \"WARNING: it looks like you might have loaded \" +\n",
       "                        \"jupyter_black in a non-lab notebook with \" +\n",
       "                        \"`is_lab=True`. Please double check, and if \" +\n",
       "                        \"loading with `%load_ext` please review the README!\"\n",
       "                    console.log(msg)\n",
       "                    alert(msg)\n",
       "                })()\n",
       "                </script>\n",
       "                "
      ],
      "text/plain": [
       "<IPython.core.display.HTML object>"
      ]
     },
     "metadata": {},
     "output_type": "display_data"
    }
   ],
   "source": [
    "%load_ext autoreload\n",
    "%autoreload 2\n",
    "%load_ext jupyter_black"
   ]
  },
  {
   "cell_type": "code",
   "execution_count": 2,
   "id": "625808e0",
   "metadata": {},
   "outputs": [],
   "source": [
    "import numpy as np\n",
    "import pandas as pd\n",
    "import matplotlib.pyplot as plt\n",
    "import evallm\n",
    "from automata.fa.dfa import DFA\n",
    "import tqdm.auto as tqdm"
   ]
  },
  {
   "cell_type": "code",
   "execution_count": 3,
   "id": "294c9a50-c317-4a8a-9396-afa17e1e26bb",
   "metadata": {},
   "outputs": [],
   "source": [
    "import itertools\n",
    "from permacache import stable_hash"
   ]
  },
  {
   "cell_type": "code",
   "execution_count": 4,
   "id": "57fe887b-d30f-4c00-acef-3c7a4902ba50",
   "metadata": {},
   "outputs": [],
   "source": [
    "from evallm.prompting.transducer_prompt import (\n",
    "    ChainOfThoughtPromptRealExampleNoExplanation,\n",
    "    BasicSequencePrompt,\n",
    "    BasicSequencePromptSlightlyMoreExplanation,\n",
    "    BasicSequencePromptNoChat,\n",
    "    SequencePromptWithExplanation,\n",
    "    SequencePromptWithExplanationChainOfThought,\n",
    "    RedGreenRoomPrompt1,\n",
    ")\n",
    "from evallm.experiments.transducer_experiment import (\n",
    "    current_transducer_experiments,\n",
    "    compute_relative_to_null,\n",
    "    compute_relative_to_ngram,\n",
    "    print_example,\n",
    "    bottom_quartile_outcome,\n",
    "    current_dfa_sample_spec,\n",
    ")\n",
    "from evallm.experiments.transducer_plotting import (\n",
    "    plot_all_absolute_results_single_graph,\n",
    "    plot_absolute_results_barchart,\n",
    ")"
   ]
  },
  {
   "cell_type": "code",
   "execution_count": 5,
   "id": "610b60bd-f733-4ddd-b7c0-59efe659ab9d",
   "metadata": {},
   "outputs": [],
   "source": [
    "from evallm.sample_dfa.sample_dfa import sample_dfa"
   ]
  },
  {
   "cell_type": "code",
   "execution_count": 6,
   "id": "c88e1a29-dde6-4508-9d0f-b179814a010e",
   "metadata": {},
   "outputs": [],
   "source": [
    "from evallm.experiments.sequence_completion.sample_sequences import *\n",
    "from evallm.experiments.sequence_completion.ngram_suffix_heuristic import *"
   ]
  },
  {
   "cell_type": "code",
   "execution_count": 7,
   "id": "f53cff6c-b3b6-408d-9962-7cf24157a388",
   "metadata": {
    "scrolled": true
   },
   "outputs": [],
   "source": [
    "def attempt(seed, num_sequence_symbols):\n",
    "    spec = current_dfa_sample_spec(3)\n",
    "    rng = np.random.RandomState(seed)\n",
    "    dfa, sequences_prefixes = sample_sequence_completion_problem(\n",
    "        rng,\n",
    "        dfa_spec=spec,\n",
    "        num_sequences=30,\n",
    "        num_sequence_symbols=num_sequence_symbols,\n",
    "        num_sequence_symbols_prompt=num_sequence_symbols // 2,\n",
    "        num_instances=100,\n",
    "        try_limit=50,\n",
    "    )\n",
    "    result = []\n",
    "    for sequences, prefix in sequences_prefixes:\n",
    "        out = ngram_heuristic(sequences, prefix)\n",
    "        result += [dfa.accepts_input(prefix + out)]\n",
    "    return np.mean(result)"
   ]
  },
  {
   "cell_type": "code",
   "execution_count": 8,
   "id": "fc0725ab-f2d9-4867-bceb-882463b39441",
   "metadata": {},
   "outputs": [
    {
     "data": {
      "application/vnd.jupyter.widget-view+json": {
       "model_id": "03816045e427488282a1d843f0d5a3d0",
       "version_major": 2,
       "version_minor": 0
      },
      "text/plain": [
       "  0%|          | 0/100 [00:00<?, ?it/s]"
      ]
     },
     "metadata": {},
     "output_type": "display_data"
    },
    {
     "data": {
      "text/plain": [
       "np.float64(0.8292999999999999)"
      ]
     },
     "execution_count": 8,
     "metadata": {},
     "output_type": "execute_result"
    }
   ],
   "source": [
    "np.mean([attempt(i, 8) for i in tqdm.trange(100)])"
   ]
  },
  {
   "cell_type": "code",
   "execution_count": 9,
   "id": "70318f18-7b4e-4b71-9ed4-83cca3e3e237",
   "metadata": {},
   "outputs": [
    {
     "data": {
      "application/vnd.jupyter.widget-view+json": {
       "model_id": "6c7f51f69da94172b74aa2bf51211312",
       "version_major": 2,
       "version_minor": 0
      },
      "text/plain": [
       "  0%|          | 0/100 [00:00<?, ?it/s]"
      ]
     },
     "metadata": {},
     "output_type": "display_data"
    },
    {
     "data": {
      "text/plain": [
       "np.float64(0.8549)"
      ]
     },
     "execution_count": 9,
     "metadata": {},
     "output_type": "execute_result"
    }
   ],
   "source": [
    "np.mean([attempt(i, 30) for i in tqdm.trange(100)])"
   ]
  }
 ],
 "metadata": {
  "kernelspec": {
   "display_name": "Python 3 (ipykernel)",
   "language": "python",
   "name": "python3"
  },
  "language_info": {
   "codemirror_mode": {
    "name": "ipython",
    "version": 3
   },
   "file_extension": ".py",
   "mimetype": "text/x-python",
   "name": "python",
   "nbconvert_exporter": "python",
   "pygments_lexer": "ipython3",
   "version": "3.11.9"
  }
 },
 "nbformat": 4,
 "nbformat_minor": 5
}
