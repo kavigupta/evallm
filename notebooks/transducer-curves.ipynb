{
 "cells": [
  {
   "cell_type": "code",
   "execution_count": 1,
   "id": "d15afe27",
   "metadata": {},
   "outputs": [
    {
     "data": {
      "text/html": [
       "\n",
       "                <script type=\"application/javascript\" id=\"jupyter_black\">\n",
       "                (function() {\n",
       "                    if (window.IPython === undefined) {\n",
       "                        return\n",
       "                    }\n",
       "                    var msg = \"WARNING: it looks like you might have loaded \" +\n",
       "                        \"jupyter_black in a non-lab notebook with \" +\n",
       "                        \"`is_lab=True`. Please double check, and if \" +\n",
       "                        \"loading with `%load_ext` please review the README!\"\n",
       "                    console.log(msg)\n",
       "                    alert(msg)\n",
       "                })()\n",
       "                </script>\n",
       "                "
      ],
      "text/plain": [
       "<IPython.core.display.HTML object>"
      ]
     },
     "metadata": {},
     "output_type": "display_data"
    }
   ],
   "source": [
    "%load_ext autoreload\n",
    "%autoreload 2\n",
    "%load_ext jupyter_black"
   ]
  },
  {
   "cell_type": "code",
   "execution_count": 2,
   "id": "294c9a50-c317-4a8a-9396-afa17e1e26bb",
   "metadata": {},
   "outputs": [],
   "source": [
    "import json"
   ]
  },
  {
   "cell_type": "code",
   "execution_count": 3,
   "id": "57fe887b-d30f-4c00-acef-3c7a4902ba50",
   "metadata": {},
   "outputs": [],
   "source": [
    "import evallm\n",
    "from evallm.prompting.transducer_prompt import (\n",
    "    # ChainOfThoughtPromptRealExampleNoExplanation,\n",
    "    BasicSequencePrompt,\n",
    "    BasicSequencePromptNoChat,\n",
    ")\n",
    "from evallm.experiments.transducer_experiment_curve import (\n",
    "    standard_experiment_curve,\n",
    "    baseline_results,\n",
    ")"
   ]
  },
  {
   "cell_type": "code",
   "execution_count": 4,
   "id": "8e38ba2a-0d2b-48a7-8a85-a376199a0097",
   "metadata": {},
   "outputs": [],
   "source": [
    "results_baseline = baseline_results()"
   ]
  },
  {
   "cell_type": "code",
   "execution_count": 5,
   "id": "afcf8673-3f20-42f8-a132-51bc8c479143",
   "metadata": {},
   "outputs": [],
   "source": [
    "with evallm.llm.llm.run_prompt.error_on_miss():\n",
    "    results_models = [\n",
    "        standard_experiment_curve(\n",
    "            (3, 5, 7),\n",
    "            (30, 60, 90, 120, 180, 240, 300, 400, 500),\n",
    "            \"meta-llama/Meta-Llama-3-8B\",\n",
    "            BasicSequencePromptNoChat,\n",
    "        ),\n",
    "        standard_experiment_curve(\n",
    "            (3,),\n",
    "            (30, 120, 240, 500),\n",
    "            \"gpt-4o-2024-05-13\",\n",
    "            BasicSequencePrompt,\n",
    "        ),\n",
    "        standard_experiment_curve(\n",
    "            (3, 5, 7),\n",
    "            (30, 120, 240, 500),\n",
    "            \"gpt-4o-mini-2024-07-18\",\n",
    "            BasicSequencePrompt,\n",
    "        ),\n",
    "    ]"
   ]
  },
  {
   "cell_type": "code",
   "execution_count": 6,
   "id": "11c38006-fed8-4541-a100-a79d9f8e15cd",
   "metadata": {},
   "outputs": [],
   "source": [
    "with open(\"../output/curve/results_models.json\", \"w\") as f:\n",
    "    json.dump(results_models, f)\n",
    "with open(\"../output/curve/results_baseline.json\", \"w\") as f:\n",
    "    json.dump(results_baseline, f)"
   ]
  },
  {
   "cell_type": "code",
   "execution_count": 7,
   "id": "9b5c7fa5-9ec1-4c69-b2c0-93a9cf44365c",
   "metadata": {},
   "outputs": [],
   "source": [
    "# results = {\n",
    "#     \"gpt-35-nonchat\": current_transducer_experiments(\n",
    "#         \"gpt-3.5-turbo-instruct\",\n",
    "#         num_dfas=30,\n",
    "#         num_states_options=num_states_options_full[:1],\n",
    "#         num_sequence_symbol_options=(30, 120, 240, 300, 400),\n",
    "#         # num_sequence_symbol_options=(30, 120, 240),\n",
    "#         prompt=BasicSequencePromptNoChat.for_setting,\n",
    "#     ),\n",
    "#     \"gpt-4o-mini\": evallm.experiments.transducer_experiment.chatgpt_transducer_experiments(\n",
    "#         \"gpt-4o-mini-2024-07-18\",\n",
    "#         cot_prompt=BasicSequencePrompt.for_setting,\n",
    "#         num_states_options=num_states_options_full,\n",
    "#         num_sequence_symbol_options=(30, 120, 240, 500),\n",
    "#     ),\n",
    "#     \"gpt-4o-mini + red/green v1\": evallm.experiments.transducer_experiment.chatgpt_transducer_experiments(\n",
    "#         \"gpt-4o-mini-2024-07-18\",\n",
    "#         cot_prompt=RedGreenRoomPrompt1.for_setting,\n",
    "#         num_states_options=num_states_options_full[:1],\n",
    "#         # num_sequence_symbol_options=(30, 120,),\n",
    "#         num_sequence_symbol_options=(30, 120, 240, 400),\n",
    "#     ),\n",
    "#     \"gpt-4o-mini + explanation\": evallm.experiments.transducer_experiment.chatgpt_transducer_experiments(\n",
    "#         \"gpt-4o-mini-2024-07-18\",\n",
    "#         cot_prompt=SequencePromptWithExplanation.for_setting,\n",
    "#         num_states_options=num_states_options_full,\n",
    "#         num_sequence_symbol_options=(30, 120, 240, 500),\n",
    "#     ),\n",
    "#     \"gpt-4o-mini + explanation + cot\": evallm.experiments.transducer_experiment.chatgpt_transducer_experiments(\n",
    "#         \"gpt-4o-mini-2024-07-18\",\n",
    "#         cot_prompt=SequencePromptWithExplanationChainOfThought.for_setting,\n",
    "#         num_states_options=num_states_options_full,\n",
    "#         num_sequence_symbol_options=(30, 120, 240, 500),\n",
    "#     ),\n",
    "#     \"gpt-4o\": evallm.experiments.transducer_experiment.chatgpt_transducer_experiments(\n",
    "#         \"gpt-4o-2024-05-13\",\n",
    "#         cot_prompt=BasicSequencePrompt.for_setting,\n",
    "#         num_states_options=num_states_options_full[:1],\n",
    "#         num_sequence_symbol_options=(30, 120, 240, 500),\n",
    "#     ),\n",
    "#     \"claude-3.5\": evallm.experiments.transducer_experiment.chatgpt_transducer_experiments(\n",
    "#         \"claude-3-5-sonnet-20241022\",\n",
    "#         cot_prompt=BasicSequencePrompt.for_setting,\n",
    "#         num_states_options=num_states_options_full[:1],\n",
    "#         num_sequence_symbol_options=(30, 120, 240, 500)[:2],\n",
    "#     ),\n",
    "#     \"claude-3.5 + red/green v1\": evallm.experiments.transducer_experiment.chatgpt_transducer_experiments(\n",
    "#         \"claude-3-5-sonnet-20241022\",\n",
    "#         cot_prompt=RedGreenRoomPrompt1.for_setting,\n",
    "#         num_states_options=num_states_options_full[:1],\n",
    "#         num_sequence_symbol_options=(30, 120, 240, 500)[:1],\n",
    "#     ),\n",
    "# }"
   ]
  },
  {
   "cell_type": "code",
   "execution_count": null,
   "id": "601b1ced-4016-4e49-9c92-e1ac95992d55",
   "metadata": {},
   "outputs": [],
   "source": []
  }
 ],
 "metadata": {
  "kernelspec": {
   "display_name": "Python 3 (ipykernel)",
   "language": "python",
   "name": "python3"
  },
  "language_info": {
   "codemirror_mode": {
    "name": "ipython",
    "version": 3
   },
   "file_extension": ".py",
   "mimetype": "text/x-python",
   "name": "python",
   "nbconvert_exporter": "python",
   "pygments_lexer": "ipython3",
   "version": "3.11.9"
  }
 },
 "nbformat": 4,
 "nbformat_minor": 5
}
